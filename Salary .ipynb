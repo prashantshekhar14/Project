{
 "cells": [
  {
   "cell_type": "code",
   "execution_count": 2,
   "id": "3213c88e",
   "metadata": {},
   "outputs": [],
   "source": [
    "import pandas as pd\n",
    "import numpy as np\n",
    "from sklearn.preprocessing import StandardScaler\n",
    "from sklearn.linear_model import LinearRegression\n",
    "from sklearn.model_selection import train_test_split\n",
    "#import statesmodel.api as sm\n",
    "import matplotlib.pyplot as plt\n",
    "import seaborn as sns\n",
    "import pickle\n",
    "import warnings\n",
    "warnings.filterwarnings('ignore')"
   ]
  },
  {
   "cell_type": "code",
   "execution_count": 3,
   "id": "04833489",
   "metadata": {},
   "outputs": [],
   "source": [
    "df=pd.read_csv('D:\\sal.csv')"
   ]
  },
  {
   "cell_type": "code",
   "execution_count": 4,
   "id": "9873eb29",
   "metadata": {},
   "outputs": [
    {
     "data": {
      "text/html": [
       "<div>\n",
       "<style scoped>\n",
       "    .dataframe tbody tr th:only-of-type {\n",
       "        vertical-align: middle;\n",
       "    }\n",
       "\n",
       "    .dataframe tbody tr th {\n",
       "        vertical-align: top;\n",
       "    }\n",
       "\n",
       "    .dataframe thead th {\n",
       "        text-align: right;\n",
       "    }\n",
       "</style>\n",
       "<table border=\"1\" class=\"dataframe\">\n",
       "  <thead>\n",
       "    <tr style=\"text-align: right;\">\n",
       "      <th></th>\n",
       "      <th>rank</th>\n",
       "      <th>discipline</th>\n",
       "      <th>yrs.since.phd</th>\n",
       "      <th>yrs.service</th>\n",
       "      <th>sex</th>\n",
       "      <th>salary</th>\n",
       "    </tr>\n",
       "  </thead>\n",
       "  <tbody>\n",
       "    <tr>\n",
       "      <th>0</th>\n",
       "      <td>Prof</td>\n",
       "      <td>B</td>\n",
       "      <td>19</td>\n",
       "      <td>18</td>\n",
       "      <td>Male</td>\n",
       "      <td>139750</td>\n",
       "    </tr>\n",
       "    <tr>\n",
       "      <th>1</th>\n",
       "      <td>Prof</td>\n",
       "      <td>B</td>\n",
       "      <td>20</td>\n",
       "      <td>16</td>\n",
       "      <td>Male</td>\n",
       "      <td>173200</td>\n",
       "    </tr>\n",
       "    <tr>\n",
       "      <th>2</th>\n",
       "      <td>AsstProf</td>\n",
       "      <td>B</td>\n",
       "      <td>4</td>\n",
       "      <td>3</td>\n",
       "      <td>Male</td>\n",
       "      <td>79750</td>\n",
       "    </tr>\n",
       "    <tr>\n",
       "      <th>3</th>\n",
       "      <td>Prof</td>\n",
       "      <td>B</td>\n",
       "      <td>45</td>\n",
       "      <td>39</td>\n",
       "      <td>Male</td>\n",
       "      <td>115000</td>\n",
       "    </tr>\n",
       "    <tr>\n",
       "      <th>4</th>\n",
       "      <td>Prof</td>\n",
       "      <td>B</td>\n",
       "      <td>40</td>\n",
       "      <td>41</td>\n",
       "      <td>Male</td>\n",
       "      <td>141500</td>\n",
       "    </tr>\n",
       "  </tbody>\n",
       "</table>\n",
       "</div>"
      ],
      "text/plain": [
       "       rank discipline  yrs.since.phd  yrs.service   sex  salary\n",
       "0      Prof          B             19           18  Male  139750\n",
       "1      Prof          B             20           16  Male  173200\n",
       "2  AsstProf          B              4            3  Male   79750\n",
       "3      Prof          B             45           39  Male  115000\n",
       "4      Prof          B             40           41  Male  141500"
      ]
     },
     "execution_count": 4,
     "metadata": {},
     "output_type": "execute_result"
    }
   ],
   "source": [
    "df.head()"
   ]
  },
  {
   "cell_type": "code",
   "execution_count": 5,
   "id": "cedcee12",
   "metadata": {},
   "outputs": [
    {
     "data": {
      "text/plain": [
       "rank             0\n",
       "discipline       0\n",
       "yrs.since.phd    0\n",
       "yrs.service      0\n",
       "sex              0\n",
       "salary           0\n",
       "dtype: int64"
      ]
     },
     "execution_count": 5,
     "metadata": {},
     "output_type": "execute_result"
    }
   ],
   "source": [
    "df.isnull().sum()"
   ]
  },
  {
   "cell_type": "code",
   "execution_count": 6,
   "id": "4b9d04ef",
   "metadata": {},
   "outputs": [],
   "source": [
    "#Visualisation\n",
    "\n",
    "import seaborn as sns"
   ]
  },
  {
   "cell_type": "code",
   "execution_count": 7,
   "id": "f687e431",
   "metadata": {},
   "outputs": [
    {
     "name": "stdout",
     "output_type": "stream",
     "text": [
      "Prof         266\n",
      "AsstProf      67\n",
      "AssocProf     64\n",
      "Name: rank, dtype: int64\n"
     ]
    },
    {
     "data": {
      "image/png": "[encoded data removed]",
      "text/plain": [
       "<Figure size 432x288 with 1 Axes>"
      ]
     },
     "metadata": {
      "needs_background": "light"
     },
     "output_type": "display_data"
    }
   ],
   "source": [
    "ax=sns.countplot(x=\"rank\",data=df)\n",
    "print (df[\"rank\"].value_counts())"
   ]
  },
  {
   "cell_type": "code",
   "execution_count": 8,
   "id": "113aa1f2",
   "metadata": {},
   "outputs": [
    {
     "name": "stdout",
     "output_type": "stream",
     "text": [
      "B    216\n",
      "A    181\n",
      "Name: discipline, dtype: int64\n"
     ]
    },
    {
     "data": {
      "image/png": "[encoded data removed]",
      "text/plain": [
       "<Figure size 432x288 with 1 Axes>"
      ]
     },
     "metadata": {
      "needs_background": "light"
     },
     "output_type": "display_data"
    }
   ],
   "source": [
    "ax=sns.countplot(x=\"discipline\",data=df)\n",
    "print (df[\"discipline\"].value_counts())"
   ]
  },
  {
   "cell_type": "code",
   "execution_count": 8,
   "id": "61d12cdc",
   "metadata": {},
   "outputs": [
    {
     "name": "stdout",
     "output_type": "stream",
     "text": [
      "Male      358\n",
      "Female     39\n",
      "Name: sex, dtype: int64\n"
     ]
    },
    {
     "data": {
      "image/png": "[encoded data removed]",
      "text/plain": [
       "<Figure size 432x288 with 1 Axes>"
      ]
     },
     "metadata": {
      "needs_background": "light"
     },
     "output_type": "display_data"
    }
   ],
   "source": [
    "ax=sns.countplot(x=\"sex\",data=df)\n",
    "print (df[\"sex\"].value_counts())"
   ]
  },
  {
   "cell_type": "code",
   "execution_count": 9,
   "id": "56a2654d",
   "metadata": {},
   "outputs": [
    {
     "data": {
      "text/plain": [
       "<AxesSubplot:xlabel='yrs.since.phd', ylabel='Density'>"
      ]
     },
     "execution_count": 9,
     "metadata": {},
     "output_type": "execute_result"
    },
    {
     "data": {
      "image/png": "[encoded data removed]",
      "text/plain": [
       "<Figure size 432x288 with 1 Axes>"
      ]
     },
     "metadata": {
      "needs_background": "light"
     },
     "output_type": "display_data"
    }
   ],
   "source": [
    "sns.distplot(df['yrs.since.phd'],kde=True)"
   ]
  },
  {
   "cell_type": "code",
   "execution_count": 10,
   "id": "7e173660",
   "metadata": {},
   "outputs": [
    {
     "data": {
      "text/plain": [
       "<AxesSubplot:xlabel='yrs.service', ylabel='Density'>"
      ]
     },
     "execution_count": 10,
     "metadata": {},
     "output_type": "execute_result"
    },
    {
     "data": {
      "image/png": "[encoded data removed]",
      "text/plain": [
       "<Figure size 432x288 with 1 Axes>"
      ]
     },
     "metadata": {
      "needs_background": "light"
     },
     "output_type": "display_data"
    }
   ],
   "source": [
    "sns.distplot(df['yrs.service'],kde=True)"
   ]
  },
  {
   "cell_type": "code",
   "execution_count": 12,
   "id": "a82000a6",
   "metadata": {},
   "outputs": [
    {
     "data": {
      "text/plain": [
       "<AxesSubplot:xlabel='salary', ylabel='Density'>"
      ]
     },
     "execution_count": 12,
     "metadata": {},
     "output_type": "execute_result"
    },
    {
     "data": {
      "image/png": "[encoded data removed]",
      "text/plain": [
       "<Figure size 432x288 with 1 Axes>"
      ]
     },
     "metadata": {
      "needs_background": "light"
     },
     "output_type": "display_data"
    }
   ],
   "source": [
    "sns.distplot(df['salary'],kde=True)"
   ]
  },
  {
   "cell_type": "code",
   "execution_count": 11,
   "id": "4e16fa9c",
   "metadata": {},
   "outputs": [],
   "source": [
    "#Encoding of DataFrame\n",
    "from sklearn.preprocessing import OrdinalEncoder\n",
    "enc=OrdinalEncoder()\n",
    "for i in df.columns:\n",
    "   if df[i].dtypes==\"object\":\n",
    "       df[i]=enc.fit_transform(df[i].values.reshape(-1,1))"
   ]
  },
  {
   "cell_type": "code",
   "execution_count": 14,
   "id": "04bde1ac",
   "metadata": {},
   "outputs": [
    {
     "data": {
      "text/html": [
       "<div>\n",
       "<style scoped>\n",
       "    .dataframe tbody tr th:only-of-type {\n",
       "        vertical-align: middle;\n",
       "    }\n",
       "\n",
       "    .dataframe tbody tr th {\n",
       "        vertical-align: top;\n",
       "    }\n",
       "\n",
       "    .dataframe thead th {\n",
       "        text-align: right;\n",
       "    }\n",
       "</style>\n",
       "<table border=\"1\" class=\"dataframe\">\n",
       "  <thead>\n",
       "    <tr style=\"text-align: right;\">\n",
       "      <th></th>\n",
       "      <th>rank</th>\n",
       "      <th>discipline</th>\n",
       "      <th>yrs.since.phd</th>\n",
       "      <th>yrs.service</th>\n",
       "      <th>sex</th>\n",
       "      <th>salary</th>\n",
       "    </tr>\n",
       "  </thead>\n",
       "  <tbody>\n",
       "    <tr>\n",
       "      <th>0</th>\n",
       "      <td>2.0</td>\n",
       "      <td>1.0</td>\n",
       "      <td>19</td>\n",
       "      <td>18</td>\n",
       "      <td>1.0</td>\n",
       "      <td>139750</td>\n",
       "    </tr>\n",
       "    <tr>\n",
       "      <th>1</th>\n",
       "      <td>2.0</td>\n",
       "      <td>1.0</td>\n",
       "      <td>20</td>\n",
       "      <td>16</td>\n",
       "      <td>1.0</td>\n",
       "      <td>173200</td>\n",
       "    </tr>\n",
       "    <tr>\n",
       "      <th>2</th>\n",
       "      <td>1.0</td>\n",
       "      <td>1.0</td>\n",
       "      <td>4</td>\n",
       "      <td>3</td>\n",
       "      <td>1.0</td>\n",
       "      <td>79750</td>\n",
       "    </tr>\n",
       "    <tr>\n",
       "      <th>3</th>\n",
       "      <td>2.0</td>\n",
       "      <td>1.0</td>\n",
       "      <td>45</td>\n",
       "      <td>39</td>\n",
       "      <td>1.0</td>\n",
       "      <td>115000</td>\n",
       "    </tr>\n",
       "    <tr>\n",
       "      <th>4</th>\n",
       "      <td>2.0</td>\n",
       "      <td>1.0</td>\n",
       "      <td>40</td>\n",
       "      <td>41</td>\n",
       "      <td>1.0</td>\n",
       "      <td>141500</td>\n",
       "    </tr>\n",
       "    <tr>\n",
       "      <th>...</th>\n",
       "      <td>...</td>\n",
       "      <td>...</td>\n",
       "      <td>...</td>\n",
       "      <td>...</td>\n",
       "      <td>...</td>\n",
       "      <td>...</td>\n",
       "    </tr>\n",
       "    <tr>\n",
       "      <th>392</th>\n",
       "      <td>2.0</td>\n",
       "      <td>0.0</td>\n",
       "      <td>33</td>\n",
       "      <td>30</td>\n",
       "      <td>1.0</td>\n",
       "      <td>103106</td>\n",
       "    </tr>\n",
       "    <tr>\n",
       "      <th>393</th>\n",
       "      <td>2.0</td>\n",
       "      <td>0.0</td>\n",
       "      <td>31</td>\n",
       "      <td>19</td>\n",
       "      <td>1.0</td>\n",
       "      <td>150564</td>\n",
       "    </tr>\n",
       "    <tr>\n",
       "      <th>394</th>\n",
       "      <td>2.0</td>\n",
       "      <td>0.0</td>\n",
       "      <td>42</td>\n",
       "      <td>25</td>\n",
       "      <td>1.0</td>\n",
       "      <td>101738</td>\n",
       "    </tr>\n",
       "    <tr>\n",
       "      <th>395</th>\n",
       "      <td>2.0</td>\n",
       "      <td>0.0</td>\n",
       "      <td>25</td>\n",
       "      <td>15</td>\n",
       "      <td>1.0</td>\n",
       "      <td>95329</td>\n",
       "    </tr>\n",
       "    <tr>\n",
       "      <th>396</th>\n",
       "      <td>1.0</td>\n",
       "      <td>0.0</td>\n",
       "      <td>8</td>\n",
       "      <td>4</td>\n",
       "      <td>1.0</td>\n",
       "      <td>81035</td>\n",
       "    </tr>\n",
       "  </tbody>\n",
       "</table>\n",
       "<p>397 rows × 6 columns</p>\n",
       "</div>"
      ],
      "text/plain": [
       "     rank  discipline  yrs.since.phd  yrs.service  sex  salary\n",
       "0     2.0         1.0             19           18  1.0  139750\n",
       "1     2.0         1.0             20           16  1.0  173200\n",
       "2     1.0         1.0              4            3  1.0   79750\n",
       "3     2.0         1.0             45           39  1.0  115000\n",
       "4     2.0         1.0             40           41  1.0  141500\n",
       "..    ...         ...            ...          ...  ...     ...\n",
       "392   2.0         0.0             33           30  1.0  103106\n",
       "393   2.0         0.0             31           19  1.0  150564\n",
       "394   2.0         0.0             42           25  1.0  101738\n",
       "395   2.0         0.0             25           15  1.0   95329\n",
       "396   1.0         0.0              8            4  1.0   81035\n",
       "\n",
       "[397 rows x 6 columns]"
      ]
     },
     "execution_count": 14,
     "metadata": {},
     "output_type": "execute_result"
    }
   ],
   "source": [
    "df"
   ]
  },
  {
   "cell_type": "code",
   "execution_count": 12,
   "id": "e82b8b55",
   "metadata": {},
   "outputs": [
    {
     "data": {
      "text/html": [
       "<div>\n",
       "<style scoped>\n",
       "    .dataframe tbody tr th:only-of-type {\n",
       "        vertical-align: middle;\n",
       "    }\n",
       "\n",
       "    .dataframe tbody tr th {\n",
       "        vertical-align: top;\n",
       "    }\n",
       "\n",
       "    .dataframe thead th {\n",
       "        text-align: right;\n",
       "    }\n",
       "</style>\n",
       "<table border=\"1\" class=\"dataframe\">\n",
       "  <thead>\n",
       "    <tr style=\"text-align: right;\">\n",
       "      <th></th>\n",
       "      <th>rank</th>\n",
       "      <th>discipline</th>\n",
       "      <th>yrs.since.phd</th>\n",
       "      <th>yrs.service</th>\n",
       "      <th>sex</th>\n",
       "      <th>salary</th>\n",
       "    </tr>\n",
       "  </thead>\n",
       "  <tbody>\n",
       "    <tr>\n",
       "      <th>count</th>\n",
       "      <td>397.000000</td>\n",
       "      <td>397.000000</td>\n",
       "      <td>397.000000</td>\n",
       "      <td>397.000000</td>\n",
       "      <td>397.000000</td>\n",
       "      <td>397.000000</td>\n",
       "    </tr>\n",
       "    <tr>\n",
       "      <th>mean</th>\n",
       "      <td>1.508816</td>\n",
       "      <td>0.544081</td>\n",
       "      <td>22.314861</td>\n",
       "      <td>17.614610</td>\n",
       "      <td>0.901763</td>\n",
       "      <td>113706.458438</td>\n",
       "    </tr>\n",
       "    <tr>\n",
       "      <th>std</th>\n",
       "      <td>0.757486</td>\n",
       "      <td>0.498682</td>\n",
       "      <td>12.887003</td>\n",
       "      <td>13.006024</td>\n",
       "      <td>0.298010</td>\n",
       "      <td>30289.038695</td>\n",
       "    </tr>\n",
       "    <tr>\n",
       "      <th>min</th>\n",
       "      <td>0.000000</td>\n",
       "      <td>0.000000</td>\n",
       "      <td>1.000000</td>\n",
       "      <td>0.000000</td>\n",
       "      <td>0.000000</td>\n",
       "      <td>57800.000000</td>\n",
       "    </tr>\n",
       "    <tr>\n",
       "      <th>25%</th>\n",
       "      <td>1.000000</td>\n",
       "      <td>0.000000</td>\n",
       "      <td>12.000000</td>\n",
       "      <td>7.000000</td>\n",
       "      <td>1.000000</td>\n",
       "      <td>91000.000000</td>\n",
       "    </tr>\n",
       "    <tr>\n",
       "      <th>50%</th>\n",
       "      <td>2.000000</td>\n",
       "      <td>1.000000</td>\n",
       "      <td>21.000000</td>\n",
       "      <td>16.000000</td>\n",
       "      <td>1.000000</td>\n",
       "      <td>107300.000000</td>\n",
       "    </tr>\n",
       "    <tr>\n",
       "      <th>75%</th>\n",
       "      <td>2.000000</td>\n",
       "      <td>1.000000</td>\n",
       "      <td>32.000000</td>\n",
       "      <td>27.000000</td>\n",
       "      <td>1.000000</td>\n",
       "      <td>134185.000000</td>\n",
       "    </tr>\n",
       "    <tr>\n",
       "      <th>max</th>\n",
       "      <td>2.000000</td>\n",
       "      <td>1.000000</td>\n",
       "      <td>56.000000</td>\n",
       "      <td>60.000000</td>\n",
       "      <td>1.000000</td>\n",
       "      <td>231545.000000</td>\n",
       "    </tr>\n",
       "  </tbody>\n",
       "</table>\n",
       "</div>"
      ],
      "text/plain": [
       "             rank  discipline  yrs.since.phd  yrs.service         sex  \\\n",
       "count  397.000000  397.000000     397.000000   397.000000  397.000000   \n",
       "mean     1.508816    0.544081      22.314861    17.614610    0.901763   \n",
       "std      0.757486    0.498682      12.887003    13.006024    0.298010   \n",
       "min      0.000000    0.000000       1.000000     0.000000    0.000000   \n",
       "25%      1.000000    0.000000      12.000000     7.000000    1.000000   \n",
       "50%      2.000000    1.000000      21.000000    16.000000    1.000000   \n",
       "75%      2.000000    1.000000      32.000000    27.000000    1.000000   \n",
       "max      2.000000    1.000000      56.000000    60.000000    1.000000   \n",
       "\n",
       "              salary  \n",
       "count     397.000000  \n",
       "mean   113706.458438  \n",
       "std     30289.038695  \n",
       "min     57800.000000  \n",
       "25%     91000.000000  \n",
       "50%    107300.000000  \n",
       "75%    134185.000000  \n",
       "max    231545.000000  "
      ]
     },
     "execution_count": 12,
     "metadata": {},
     "output_type": "execute_result"
    }
   ],
   "source": [
    "df.describe()"
   ]
  },
  {
   "cell_type": "code",
   "execution_count": 13,
   "id": "aac4a8c1",
   "metadata": {},
   "outputs": [
    {
     "data": {
      "text/plain": [
       "<AxesSubplot:>"
      ]
     },
     "execution_count": 13,
     "metadata": {},
     "output_type": "execute_result"
    },
    {
     "data": {
      "image/png": "[encoded data removed]",
      "text/plain": [
       "<Figure size 1584x504 with 2 Axes>"
      ]
     },
     "metadata": {
      "needs_background": "light"
     },
     "output_type": "display_data"
    }
   ],
   "source": [
    "import matplotlib.pyplot as plt\n",
    "plt.figure(figsize=(22,7))\n",
    "sns.heatmap(df.describe(),annot=True,linewidths=0.1,linecolor=\"black\",fmt=\"0.2f\")"
   ]
  },
  {
   "cell_type": "code",
   "execution_count": 14,
   "id": "09566a22",
   "metadata": {},
   "outputs": [
    {
     "data": {
      "text/html": [
       "<div>\n",
       "<style scoped>\n",
       "    .dataframe tbody tr th:only-of-type {\n",
       "        vertical-align: middle;\n",
       "    }\n",
       "\n",
       "    .dataframe tbody tr th {\n",
       "        vertical-align: top;\n",
       "    }\n",
       "\n",
       "    .dataframe thead th {\n",
       "        text-align: right;\n",
       "    }\n",
       "</style>\n",
       "<table border=\"1\" class=\"dataframe\">\n",
       "  <thead>\n",
       "    <tr style=\"text-align: right;\">\n",
       "      <th></th>\n",
       "      <th>rank</th>\n",
       "      <th>discipline</th>\n",
       "      <th>yrs.since.phd</th>\n",
       "      <th>yrs.service</th>\n",
       "      <th>sex</th>\n",
       "      <th>salary</th>\n",
       "    </tr>\n",
       "  </thead>\n",
       "  <tbody>\n",
       "    <tr>\n",
       "      <th>rank</th>\n",
       "      <td>1.000000</td>\n",
       "      <td>-0.086266</td>\n",
       "      <td>0.525500</td>\n",
       "      <td>0.447499</td>\n",
       "      <td>0.132492</td>\n",
       "      <td>0.522207</td>\n",
       "    </tr>\n",
       "    <tr>\n",
       "      <th>discipline</th>\n",
       "      <td>-0.086266</td>\n",
       "      <td>1.000000</td>\n",
       "      <td>-0.218087</td>\n",
       "      <td>-0.164599</td>\n",
       "      <td>0.003724</td>\n",
       "      <td>0.156084</td>\n",
       "    </tr>\n",
       "    <tr>\n",
       "      <th>yrs.since.phd</th>\n",
       "      <td>0.525500</td>\n",
       "      <td>-0.218087</td>\n",
       "      <td>1.000000</td>\n",
       "      <td>0.909649</td>\n",
       "      <td>0.148788</td>\n",
       "      <td>0.419231</td>\n",
       "    </tr>\n",
       "    <tr>\n",
       "      <th>yrs.service</th>\n",
       "      <td>0.447499</td>\n",
       "      <td>-0.164599</td>\n",
       "      <td>0.909649</td>\n",
       "      <td>1.000000</td>\n",
       "      <td>0.153740</td>\n",
       "      <td>0.334745</td>\n",
       "    </tr>\n",
       "    <tr>\n",
       "      <th>sex</th>\n",
       "      <td>0.132492</td>\n",
       "      <td>0.003724</td>\n",
       "      <td>0.148788</td>\n",
       "      <td>0.153740</td>\n",
       "      <td>1.000000</td>\n",
       "      <td>0.138610</td>\n",
       "    </tr>\n",
       "    <tr>\n",
       "      <th>salary</th>\n",
       "      <td>0.522207</td>\n",
       "      <td>0.156084</td>\n",
       "      <td>0.419231</td>\n",
       "      <td>0.334745</td>\n",
       "      <td>0.138610</td>\n",
       "      <td>1.000000</td>\n",
       "    </tr>\n",
       "  </tbody>\n",
       "</table>\n",
       "</div>"
      ],
      "text/plain": [
       "                   rank  discipline  yrs.since.phd  yrs.service       sex  \\\n",
       "rank           1.000000   -0.086266       0.525500     0.447499  0.132492   \n",
       "discipline    -0.086266    1.000000      -0.218087    -0.164599  0.003724   \n",
       "yrs.since.phd  0.525500   -0.218087       1.000000     0.909649  0.148788   \n",
       "yrs.service    0.447499   -0.164599       0.909649     1.000000  0.153740   \n",
       "sex            0.132492    0.003724       0.148788     0.153740  1.000000   \n",
       "salary         0.522207    0.156084       0.419231     0.334745  0.138610   \n",
       "\n",
       "                 salary  \n",
       "rank           0.522207  \n",
       "discipline     0.156084  \n",
       "yrs.since.phd  0.419231  \n",
       "yrs.service    0.334745  \n",
       "sex            0.138610  \n",
       "salary         1.000000  "
      ]
     },
     "execution_count": 14,
     "metadata": {},
     "output_type": "execute_result"
    }
   ],
   "source": [
    "df.corr()"
   ]
  },
  {
   "cell_type": "code",
   "execution_count": 15,
   "id": "7acccf6f",
   "metadata": {},
   "outputs": [
    {
     "data": {
      "text/plain": [
       "<AxesSubplot:>"
      ]
     },
     "execution_count": 15,
     "metadata": {},
     "output_type": "execute_result"
    },
    {
     "data": {
      "image/png": "[encoded data removed]",
      "text/plain": [
       "<Figure size 1584x504 with 2 Axes>"
      ]
     },
     "metadata": {
      "needs_background": "light"
     },
     "output_type": "display_data"
    }
   ],
   "source": [
    "plt.figure(figsize=(22,7))\n",
    "sns.heatmap(df.corr(),annot=True,linewidths=0.1,linecolor=\"black\",fmt=\"0.2f\")"
   ]
  },
  {
   "cell_type": "code",
   "execution_count": 16,
   "id": "162e7aeb",
   "metadata": {},
   "outputs": [
    {
     "data": {
      "image/png": "[encoded data removed]",
      "text/plain": [
       "<Figure size 1584x504 with 1 Axes>"
      ]
     },
     "metadata": {
      "needs_background": "light"
     },
     "output_type": "display_data"
    }
   ],
   "source": [
    "plt.figure(figsize=(22,7))\n",
    "df.corr()['salary'].sort_values(ascending=False).drop([\"salary\"]).plot(kind='bar',color='c')\n",
    "plt.xlabel('Feature',fontsize=14)\n",
    "plt.ylabel('Salary',fontsize=14)\n",
    "plt.title('correlation',fontsize=14)\n",
    "plt.show()"
   ]
  },
  {
   "cell_type": "code",
   "execution_count": 19,
   "id": "5e119e28",
   "metadata": {},
   "outputs": [
    {
     "data": {
      "text/plain": [
       "rank            -1.151164\n",
       "discipline      -0.177684\n",
       "yrs.since.phd    0.300880\n",
       "yrs.service      0.650569\n",
       "sex             -2.709958\n",
       "salary           0.714568\n",
       "dtype: float64"
      ]
     },
     "execution_count": 19,
     "metadata": {},
     "output_type": "execute_result"
    }
   ],
   "source": [
    "df.skew()"
   ]
  },
  {
   "cell_type": "code",
   "execution_count": 20,
   "id": "288824d7",
   "metadata": {},
   "outputs": [
    {
     "data": {
      "text/plain": [
       "rank             float64\n",
       "discipline       float64\n",
       "yrs.since.phd      int64\n",
       "yrs.service        int64\n",
       "sex              float64\n",
       "salary             int64\n",
       "dtype: object"
      ]
     },
     "execution_count": 20,
     "metadata": {},
     "output_type": "execute_result"
    }
   ],
   "source": [
    "df.dtypes"
   ]
  },
  {
   "cell_type": "code",
   "execution_count": 21,
   "id": "6bf969e0",
   "metadata": {},
   "outputs": [
    {
     "data": {
      "text/plain": [
       "<AxesSubplot:>"
      ]
     },
     "execution_count": 21,
     "metadata": {},
     "output_type": "execute_result"
    },
    {
     "data": {
      "image/png": "[encoded data removed]",
      "text/plain": [
       "<Figure size 432x288 with 1 Axes>"
      ]
     },
     "metadata": {
      "needs_background": "light"
     },
     "output_type": "display_data"
    }
   ],
   "source": [
    "df[\"yrs.since.phd\"].plot.box()"
   ]
  },
  {
   "cell_type": "code",
   "execution_count": 22,
   "id": "8b956534",
   "metadata": {},
   "outputs": [
    {
     "data": {
      "text/plain": [
       "<AxesSubplot:>"
      ]
     },
     "execution_count": 22,
     "metadata": {},
     "output_type": "execute_result"
    },
    {
     "data": {
      "image/png": "[encoded data removed]",
      "text/plain": [
       "<Figure size 432x288 with 1 Axes>"
      ]
     },
     "metadata": {
      "needs_background": "light"
     },
     "output_type": "display_data"
    }
   ],
   "source": [
    "df[\"yrs.service\"].plot.box()"
   ]
  },
  {
   "cell_type": "code",
   "execution_count": 23,
   "id": "8409c7a3",
   "metadata": {},
   "outputs": [
    {
     "data": {
      "text/plain": [
       "<AxesSubplot:>"
      ]
     },
     "execution_count": 23,
     "metadata": {},
     "output_type": "execute_result"
    },
    {
     "data": {
      "image/png": "[encoded data removed]",
      "text/plain": [
       "<Figure size 432x288 with 1 Axes>"
      ]
     },
     "metadata": {
      "needs_background": "light"
     },
     "output_type": "display_data"
    }
   ],
   "source": [
    "df[\"salary\"].plot.box()"
   ]
  },
  {
   "cell_type": "code",
   "execution_count": 24,
   "id": "8cf9c8d7",
   "metadata": {},
   "outputs": [],
   "source": [
    "df.shape\n",
    "\n",
    "features =df.drop(\"salary\",axis=1)\n",
    "target=df[\"salary\"]"
   ]
  },
  {
   "cell_type": "code",
   "execution_count": 25,
   "id": "b104c8b1",
   "metadata": {},
   "outputs": [],
   "source": [
    "from sklearn.preprocessing import MinMaxScaler\n",
    "mms=MinMaxScaler()\n",
    "from sklearn.linear_model import LinearRegression\n",
    "lr=LinearRegression()\n",
    "from sklearn.metrics import r2_score\n",
    "from sklearn.model_selection import train_test_split"
   ]
  },
  {
   "cell_type": "code",
   "execution_count": 26,
   "id": "da8c464e",
   "metadata": {},
   "outputs": [],
   "source": [
    "import warnings\n",
    "warnings.filterwarnings('ignore')"
   ]
  },
  {
   "cell_type": "code",
   "execution_count": 27,
   "id": "184533c0",
   "metadata": {},
   "outputs": [
    {
     "name": "stdout",
     "output_type": "stream",
     "text": [
      "At random state 0,the training accuracy is:- 0.3611999954853077\n",
      "At random state 0,the training accuracy is:- 0.4079258314975236\n",
      "\n",
      "\n",
      "At random state 1,the training accuracy is:- 0.3604245854198438\n",
      "At random state 1,the training accuracy is:- 0.41633641876629457\n",
      "\n",
      "\n",
      "At random state 2,the training accuracy is:- 0.37547390964955596\n",
      "At random state 2,the training accuracy is:- 0.3600189554526694\n",
      "\n",
      "\n",
      "At random state 3,the training accuracy is:- 0.3847313825130595\n",
      "At random state 3,the training accuracy is:- 0.3293529875010861\n",
      "\n",
      "\n",
      "At random state 4,the training accuracy is:- 0.38517450334380465\n",
      "At random state 4,the training accuracy is:- 0.304400813331562\n",
      "\n",
      "\n",
      "At random state 5,the training accuracy is:- 0.3950033630150771\n",
      "At random state 5,the training accuracy is:- 0.2752907752774737\n",
      "\n",
      "\n",
      "At random state 6,the training accuracy is:- 0.3650308031752799\n",
      "At random state 6,the training accuracy is:- 0.40189870806075667\n",
      "\n",
      "\n",
      "At random state 7,the training accuracy is:- 0.3575963886324032\n",
      "At random state 7,the training accuracy is:- 0.43603149833368426\n",
      "\n",
      "\n",
      "At random state 8,the training accuracy is:- 0.37078641617615615\n",
      "At random state 8,the training accuracy is:- 0.3520895860059552\n",
      "\n",
      "\n",
      "At random state 9,the training accuracy is:- 0.3689988332195654\n",
      "At random state 9,the training accuracy is:- 0.3880754485440506\n",
      "\n",
      "\n",
      "At random state 10,the training accuracy is:- 0.3833769683025209\n",
      "At random state 10,the training accuracy is:- 0.3237669060179075\n",
      "\n",
      "\n",
      "At random state 11,the training accuracy is:- 0.38471884156243197\n",
      "At random state 11,the training accuracy is:- 0.2808308392930563\n",
      "\n",
      "\n",
      "At random state 12,the training accuracy is:- 0.37676668231129506\n",
      "At random state 12,the training accuracy is:- 0.34397033297856505\n",
      "\n",
      "\n",
      "At random state 13,the training accuracy is:- 0.37914531495889015\n",
      "At random state 13,the training accuracy is:- 0.3037213930266667\n",
      "\n",
      "\n",
      "At random state 14,the training accuracy is:- 0.4158978369713757\n",
      "At random state 14,the training accuracy is:- 0.15184410537740634\n",
      "\n",
      "\n",
      "At random state 15,the training accuracy is:- 0.37127624600584885\n",
      "At random state 15,the training accuracy is:- 0.35351934262062856\n",
      "\n",
      "\n",
      "At random state 16,the training accuracy is:- 0.3878621443484206\n",
      "At random state 16,the training accuracy is:- 0.29241393404970406\n",
      "\n",
      "\n",
      "At random state 17,the training accuracy is:- 0.3897546182765135\n",
      "At random state 17,the training accuracy is:- 0.26101811962187205\n",
      "\n",
      "\n",
      "At random state 18,the training accuracy is:- 0.3650413646278945\n",
      "At random state 18,the training accuracy is:- 0.3698468335200642\n",
      "\n",
      "\n",
      "At random state 19,the training accuracy is:- 0.36478587974538945\n",
      "At random state 19,the training accuracy is:- 0.39429266046792033\n",
      "\n",
      "\n",
      "At random state 20,the training accuracy is:- 0.3622414400227313\n",
      "At random state 20,the training accuracy is:- 0.4010650535719702\n",
      "\n",
      "\n",
      "At random state 21,the training accuracy is:- 0.3935643702731856\n",
      "At random state 21,the training accuracy is:- 0.28484864022169365\n",
      "\n",
      "\n",
      "At random state 22,the training accuracy is:- 0.3848789411044249\n",
      "At random state 22,the training accuracy is:- 0.3105065511907835\n",
      "\n",
      "\n",
      "At random state 23,the training accuracy is:- 0.388340130912739\n",
      "At random state 23,the training accuracy is:- 0.30908323002197435\n",
      "\n",
      "\n",
      "At random state 24,the training accuracy is:- 0.4009695516201146\n",
      "At random state 24,the training accuracy is:- 0.23700622039991426\n",
      "\n",
      "\n",
      "At random state 25,the training accuracy is:- 0.3872852164225197\n",
      "At random state 25,the training accuracy is:- 0.2857545713280303\n",
      "\n",
      "\n",
      "At random state 26,the training accuracy is:- 0.3734925217225621\n",
      "At random state 26,the training accuracy is:- 0.3570465945472763\n",
      "\n",
      "\n",
      "At random state 27,the training accuracy is:- 0.3853612529960597\n",
      "At random state 27,the training accuracy is:- 0.3200883336422755\n",
      "\n",
      "\n",
      "At random state 28,the training accuracy is:- 0.4053914345039713\n",
      "At random state 28,the training accuracy is:- 0.22969703483016035\n",
      "\n",
      "\n",
      "At random state 29,the training accuracy is:- 0.40451288485532433\n",
      "At random state 29,the training accuracy is:- 0.19765027396884882\n",
      "\n",
      "\n",
      "At random state 30,the training accuracy is:- 0.36693572181305\n",
      "At random state 30,the training accuracy is:- 0.3783571251635153\n",
      "\n",
      "\n",
      "At random state 31,the training accuracy is:- 0.37953137501705136\n",
      "At random state 31,the training accuracy is:- 0.32295138072829754\n",
      "\n",
      "\n",
      "At random state 32,the training accuracy is:- 0.3685576596306931\n",
      "At random state 32,the training accuracy is:- 0.3671499580137658\n",
      "\n",
      "\n",
      "At random state 33,the training accuracy is:- 0.3746333242328249\n",
      "At random state 33,the training accuracy is:- 0.3503249588399546\n",
      "\n",
      "\n",
      "At random state 34,the training accuracy is:- 0.3670604216412362\n",
      "At random state 34,the training accuracy is:- 0.3924145850362385\n",
      "\n",
      "\n",
      "At random state 35,the training accuracy is:- 0.3849378452508392\n",
      "At random state 35,the training accuracy is:- 0.3314798741757373\n",
      "\n",
      "\n",
      "At random state 36,the training accuracy is:- 0.3847552137593607\n",
      "At random state 36,the training accuracy is:- 0.27039005927407944\n",
      "\n",
      "\n",
      "At random state 37,the training accuracy is:- 0.34899945766206086\n",
      "At random state 37,the training accuracy is:- 0.4128426546458116\n",
      "\n",
      "\n",
      "At random state 38,the training accuracy is:- 0.38650707960273367\n",
      "At random state 38,the training accuracy is:- 0.2833985042820414\n",
      "\n",
      "\n",
      "At random state 39,the training accuracy is:- 0.3706020285098687\n",
      "At random state 39,the training accuracy is:- 0.3718833413484989\n",
      "\n",
      "\n",
      "At random state 40,the training accuracy is:- 0.3642294289210505\n",
      "At random state 40,the training accuracy is:- 0.3925435827595456\n",
      "\n",
      "\n",
      "At random state 41,the training accuracy is:- 0.36091732884303906\n",
      "At random state 41,the training accuracy is:- 0.4018359148946383\n",
      "\n",
      "\n",
      "At random state 42,the training accuracy is:- 0.4200558658334024\n",
      "At random state 42,the training accuracy is:- 0.10796880791419872\n",
      "\n",
      "\n",
      "At random state 43,the training accuracy is:- 0.40414594484463107\n",
      "At random state 43,the training accuracy is:- 0.2575409350804294\n",
      "\n",
      "\n",
      "At random state 44,the training accuracy is:- 0.3725463631852005\n",
      "At random state 44,the training accuracy is:- 0.36713568508178307\n",
      "\n",
      "\n",
      "At random state 45,the training accuracy is:- 0.4137230485402982\n",
      "At random state 45,the training accuracy is:- 0.22445225846745387\n",
      "\n",
      "\n",
      "At random state 46,the training accuracy is:- 0.34372562408831253\n",
      "At random state 46,the training accuracy is:- 0.3896606094506979\n",
      "\n",
      "\n",
      "At random state 47,the training accuracy is:- 0.37188114106913284\n",
      "At random state 47,the training accuracy is:- 0.3539587226598814\n",
      "\n",
      "\n",
      "At random state 48,the training accuracy is:- 0.36429183378263275\n",
      "At random state 48,the training accuracy is:- 0.3979596000732688\n",
      "\n",
      "\n",
      "At random state 49,the training accuracy is:- 0.3775398557146239\n",
      "At random state 49,the training accuracy is:- 0.33197433115663044\n",
      "\n",
      "\n",
      "At random state 50,the training accuracy is:- 0.37893923298505605\n",
      "At random state 50,the training accuracy is:- 0.34563177771023335\n",
      "\n",
      "\n",
      "At random state 51,the training accuracy is:- 0.3748812535527186\n",
      "At random state 51,the training accuracy is:- 0.34622301247708864\n",
      "\n",
      "\n",
      "At random state 52,the training accuracy is:- 0.3690443454685478\n",
      "At random state 52,the training accuracy is:- 0.3682296312128154\n",
      "\n",
      "\n",
      "At random state 53,the training accuracy is:- 0.3646780402149976\n",
      "At random state 53,the training accuracy is:- 0.3864862432119226\n",
      "\n",
      "\n",
      "At random state 54,the training accuracy is:- 0.38120976962990694\n",
      "At random state 54,the training accuracy is:- 0.32307953267625455\n",
      "\n",
      "\n",
      "At random state 55,the training accuracy is:- 0.3804240550840484\n",
      "At random state 55,the training accuracy is:- 0.32729199394177766\n",
      "\n",
      "\n",
      "At random state 56,the training accuracy is:- 0.38888132640425854\n",
      "At random state 56,the training accuracy is:- 0.2619212862528706\n",
      "\n",
      "\n",
      "At random state 57,the training accuracy is:- 0.36282545034634295\n",
      "At random state 57,the training accuracy is:- 0.4099319211959538\n",
      "\n",
      "\n",
      "At random state 58,the training accuracy is:- 0.3904276399883323\n",
      "At random state 58,the training accuracy is:- 0.2808757033228064\n",
      "\n",
      "\n",
      "At random state 59,the training accuracy is:- 0.36918999968594823\n",
      "At random state 59,the training accuracy is:- 0.3672167591130825\n",
      "\n",
      "\n",
      "At random state 60,the training accuracy is:- 0.3627615748615993\n",
      "At random state 60,the training accuracy is:- 0.4342158637805855\n",
      "\n",
      "\n",
      "At random state 61,the training accuracy is:- 0.3596569629577453\n",
      "At random state 61,the training accuracy is:- 0.4243091206283235\n",
      "\n",
      "\n",
      "At random state 62,the training accuracy is:- 0.36218820814339436\n",
      "At random state 62,the training accuracy is:- 0.3402679535175037\n",
      "\n",
      "\n",
      "At random state 63,the training accuracy is:- 0.36020153914715225\n",
      "At random state 63,the training accuracy is:- 0.4092594405269713\n",
      "\n",
      "\n",
      "At random state 64,the training accuracy is:- 0.34487518402780026\n",
      "At random state 64,the training accuracy is:- 0.45685137910944673\n",
      "\n",
      "\n",
      "At random state 65,the training accuracy is:- 0.3966493366743805\n",
      "At random state 65,the training accuracy is:- 0.271039118441054\n",
      "\n",
      "\n",
      "At random state 66,the training accuracy is:- 0.36941312653397507\n",
      "At random state 66,the training accuracy is:- 0.37171519604211134\n",
      "\n",
      "\n",
      "At random state 67,the training accuracy is:- 0.3577974392746197\n",
      "At random state 67,the training accuracy is:- 0.40893219589737706\n",
      "\n",
      "\n",
      "At random state 68,the training accuracy is:- 0.4112434481572016\n",
      "At random state 68,the training accuracy is:- 0.18760305905186425\n",
      "\n",
      "\n",
      "At random state 69,the training accuracy is:- 0.3583537425297256\n",
      "At random state 69,the training accuracy is:- 0.4055461597734453\n",
      "\n",
      "\n",
      "At random state 70,the training accuracy is:- 0.40782071088368554\n",
      "At random state 70,the training accuracy is:- 0.12457420628140248\n",
      "\n",
      "\n",
      "At random state 71,the training accuracy is:- 0.3798566422299212\n",
      "At random state 71,the training accuracy is:- 0.3310077740650834\n",
      "\n",
      "\n",
      "At random state 72,the training accuracy is:- 0.37306545398657165\n",
      "At random state 72,the training accuracy is:- 0.33282576705225164\n",
      "\n",
      "\n",
      "At random state 73,the training accuracy is:- 0.3684736133822437\n",
      "At random state 73,the training accuracy is:- 0.37565170848674045\n",
      "\n",
      "\n",
      "At random state 74,the training accuracy is:- 0.36328541761317845\n",
      "At random state 74,the training accuracy is:- 0.4145405703104328\n",
      "\n",
      "\n",
      "At random state 75,the training accuracy is:- 0.3699093187667537\n",
      "At random state 75,the training accuracy is:- 0.3766545083638232\n",
      "\n",
      "\n",
      "At random state 76,the training accuracy is:- 0.3893765947869847\n",
      "At random state 76,the training accuracy is:- 0.24469967759754885\n",
      "\n",
      "\n",
      "At random state 77,the training accuracy is:- 0.36208736257404006\n",
      "At random state 77,the training accuracy is:- 0.38689241011567266\n",
      "\n",
      "\n",
      "At random state 78,the training accuracy is:- 0.3936404592790972\n",
      "At random state 78,the training accuracy is:- 0.27866530930150046\n",
      "\n",
      "\n",
      "At random state 79,the training accuracy is:- 0.3400734467804928\n",
      "At random state 79,the training accuracy is:- 0.508490881969465\n",
      "\n",
      "\n",
      "At random state 80,the training accuracy is:- 0.34891747740210655\n",
      "At random state 80,the training accuracy is:- 0.5086207408821504\n",
      "\n",
      "\n",
      "At random state 81,the training accuracy is:- 0.35513373474139565\n",
      "At random state 81,the training accuracy is:- 0.4149346606972968\n",
      "\n",
      "\n",
      "At random state 82,the training accuracy is:- 0.37417707170637116\n",
      "At random state 82,the training accuracy is:- 0.35099796023731\n",
      "\n",
      "\n",
      "At random state 83,the training accuracy is:- 0.377726947712559\n",
      "At random state 83,the training accuracy is:- 0.3236720737678672\n",
      "\n",
      "\n",
      "At random state 84,the training accuracy is:- 0.38401378181768164\n",
      "At random state 84,the training accuracy is:- 0.3127841540168671\n",
      "\n",
      "\n",
      "At random state 85,the training accuracy is:- 0.376142718876315\n",
      "At random state 85,the training accuracy is:- 0.3500612740886736\n",
      "\n",
      "\n",
      "At random state 86,the training accuracy is:- 0.3767878645972712\n",
      "At random state 86,the training accuracy is:- 0.3444389459787981\n",
      "\n",
      "\n",
      "At random state 87,the training accuracy is:- 0.386606834116077\n",
      "At random state 87,the training accuracy is:- 0.2295416451299277\n",
      "\n",
      "\n",
      "At random state 88,the training accuracy is:- 0.3555900942301574\n",
      "At random state 88,the training accuracy is:- 0.44627379242086973\n",
      "\n",
      "\n",
      "At random state 89,the training accuracy is:- 0.3776188229055102\n",
      "At random state 89,the training accuracy is:- 0.33821112710879864\n",
      "\n",
      "\n",
      "At random state 90,the training accuracy is:- 0.35598740233084825\n",
      "At random state 90,the training accuracy is:- 0.4188943675786001\n",
      "\n",
      "\n",
      "At random state 91,the training accuracy is:- 0.37189951588468795\n",
      "At random state 91,the training accuracy is:- 0.3601565810059806\n",
      "\n",
      "\n",
      "At random state 92,the training accuracy is:- 0.37459606418072844\n",
      "At random state 92,the training accuracy is:- 0.3541542254552805\n",
      "\n",
      "\n",
      "At random state 93,the training accuracy is:- 0.4045365985584488\n",
      "At random state 93,the training accuracy is:- 0.2273757289684758\n",
      "\n",
      "\n",
      "At random state 94,the training accuracy is:- 0.39372739145675406\n",
      "At random state 94,the training accuracy is:- 0.27206041164804473\n",
      "\n",
      "\n",
      "At random state 95,the training accuracy is:- 0.3862133774021912\n",
      "At random state 95,the training accuracy is:- 0.3010575834925824\n",
      "\n",
      "\n",
      "At random state 96,the training accuracy is:- 0.3544193864212418\n",
      "At random state 96,the training accuracy is:- 0.4253245406131324\n",
      "\n",
      "\n",
      "At random state 97,the training accuracy is:- 0.3641510940616147\n",
      "At random state 97,the training accuracy is:- 0.4101498464906058\n",
      "\n",
      "\n",
      "At random state 98,the training accuracy is:- 0.34983395760007274\n",
      "At random state 98,the training accuracy is:- 0.4322690928833405\n",
      "\n",
      "\n",
      "At random state 99,the training accuracy is:- 0.3640872612019751\n",
      "At random state 99,the training accuracy is:- 0.41102180904046104\n",
      "\n",
      "\n"
     ]
    }
   ],
   "source": [
    "for i in range(0,100):\n",
    "    features_train,features_test,target_train,target_test=train_test_split(features,target,test_size=0.2,random_state=i)\n",
    "    lr.fit(features_train,target_train)\n",
    "    pred_train=lr.predict(features_train)\n",
    "    pred_test=lr.predict(features_test)\n",
    "    print(f\"At random state {i},the training accuracy is:- {r2_score(target_train,pred_train)}\")\n",
    "    print(f\"At random state {i},the training accuracy is:- {r2_score(target_test,pred_test)}\")\n",
    "    print(\"\\n\")"
   ]
  },
  {
   "cell_type": "code",
   "execution_count": 28,
   "id": "ff463e95",
   "metadata": {},
   "outputs": [
    {
     "data": {
      "text/plain": [
       "LinearRegression()"
      ]
     },
     "execution_count": 28,
     "metadata": {},
     "output_type": "execute_result"
    }
   ],
   "source": [
    "lr.fit(features_train,target_train)"
   ]
  },
  {
   "cell_type": "code",
   "execution_count": 29,
   "id": "4a9a1153",
   "metadata": {},
   "outputs": [],
   "source": [
    "features_train,features_test,target_train,target_test=train_test_split(features,target,test_size=0.2,random_state=80)"
   ]
  },
  {
   "cell_type": "code",
   "execution_count": 30,
   "id": "1d38ac87",
   "metadata": {},
   "outputs": [],
   "source": [
    "pred_test=lr.predict(features_test)"
   ]
  },
  {
   "cell_type": "code",
   "execution_count": 31,
   "id": "98cd585f",
   "metadata": {},
   "outputs": [
    {
     "name": "stdout",
     "output_type": "stream",
     "text": [
      "0.5153333389373497\n"
     ]
    }
   ],
   "source": [
    "print(r2_score(target_test,pred_test))"
   ]
  },
  {
   "cell_type": "code",
   "execution_count": 32,
   "id": "d30955dc",
   "metadata": {},
   "outputs": [
    {
     "name": "stdout",
     "output_type": "stream",
     "text": [
      " At cross fold 2 the cv score is 0.3270801167406512 and the accuracy score for the training is -0.4221638641130263 and for the testing is 0.5153333389373497\n",
      "\n",
      "\n",
      " At cross fold 3 the cv score is 0.3203328673059879 and the accuracy score for the training is -0.4221638641130263 and for the testing is 0.5153333389373497\n",
      "\n",
      "\n",
      " At cross fold 4 the cv score is 0.3218196693768362 and the accuracy score for the training is -0.4221638641130263 and for the testing is 0.5153333389373497\n",
      "\n",
      "\n",
      " At cross fold 5 the cv score is 0.29569928663871775 and the accuracy score for the training is -0.4221638641130263 and for the testing is 0.5153333389373497\n",
      "\n",
      "\n",
      " At cross fold 6 the cv score is 0.33096341839295546 and the accuracy score for the training is -0.4221638641130263 and for the testing is 0.5153333389373497\n",
      "\n",
      "\n",
      " At cross fold 7 the cv score is 0.3257704419996536 and the accuracy score for the training is -0.4221638641130263 and for the testing is 0.5153333389373497\n",
      "\n",
      "\n",
      " At cross fold 8 the cv score is 0.3310060584513582 and the accuracy score for the training is -0.4221638641130263 and for the testing is 0.5153333389373497\n",
      "\n",
      "\n",
      " At cross fold 9 the cv score is 0.3043911239889371 and the accuracy score for the training is -0.4221638641130263 and for the testing is 0.5153333389373497\n",
      "\n",
      "\n"
     ]
    }
   ],
   "source": [
    "Train_accuracy=r2_score(target_train,pred_train)\n",
    "Test_accuracy=r2_score(target_test,pred_test)\n",
    "\n",
    "from sklearn.model_selection import cross_val_score\n",
    "for j in range(2,10):\n",
    "    cv_score=cross_val_score(lr,features,target,cv=j)\n",
    "    cv_mean=cv_score.mean()\n",
    "    print (f\" At cross fold {j} the cv score is {cv_mean} and the accuracy score for the training is {Train_accuracy} and for the testing is {Test_accuracy}\")\n",
    "    print(\"\\n\")\n",
    "    \n",
    "          \n",
    "         "
   ]
  },
  {
   "cell_type": "code",
   "execution_count": 33,
   "id": "61985b4e",
   "metadata": {},
   "outputs": [
    {
     "data": {
      "image/png": "[encoded data removed]",
      "text/plain": [
       "<Figure size 576x432 with 1 Axes>"
      ]
     },
     "metadata": {
      "needs_background": "light"
     },
     "output_type": "display_data"
    }
   ],
   "source": [
    "import matplotlib.pyplot as plt\n",
    "plt.figure(figsize=(8,6))\n",
    "plt.scatter(x=target_test,y=pred_test,color='r')\n",
    "plt.plot(target_test,target_test,color='b')\n",
    "plt.xlabel('Salary',fontsize=14)\n",
    "plt.ylabel('Predicted Salary',fontsize=14)\n",
    "plt.title('Linear Regression',fontsize=18)\n",
    "plt.show()"
   ]
  },
  {
   "cell_type": "code",
   "execution_count": 34,
   "id": "4460ff66",
   "metadata": {},
   "outputs": [],
   "source": [
    "from sklearn.model_selection import GridSearchCV\n",
    "from sklearn.model_selection import cross_val_score\n",
    "import warnings\n",
    "warnings.filterwarnings ('ignore')"
   ]
  },
  {
   "cell_type": "code",
   "execution_count": 38,
   "id": "0a0a0168",
   "metadata": {},
   "outputs": [
    {
     "name": "stdout",
     "output_type": "stream",
     "text": [
      "{'alpha': 10, 'random_state': 0}\n"
     ]
    }
   ],
   "source": [
    "from sklearn.linear_model import Lasso\n",
    "\n",
    "parameters ={'alpha':[.0001,.001,.01,.1,1,10],'random_state':list(range(0,10))}\n",
    "ls=Lasso()\n",
    "clf=GridSearchCV(ls,parameters)\n",
    "clf.fit(features_train,target_train)\n",
    "\n",
    "print(clf.best_params_)"
   ]
  },
  {
   "cell_type": "code",
   "execution_count": 39,
   "id": "23a9e37c",
   "metadata": {},
   "outputs": [
    {
     "data": {
      "text/plain": [
       "0.508601341551528"
      ]
     },
     "execution_count": 39,
     "metadata": {},
     "output_type": "execute_result"
    }
   ],
   "source": [
    "ls = Lasso(alpha=1,random_state=0)\n",
    "ls.fit(features_train,target_train)\n",
    "ls.score(features_train,target_train)\n",
    "pred_ls =ls.predict(features_test)\n",
    "\n",
    "lss = r2_score(target_test,pred_ls)\n",
    "lss"
   ]
  },
  {
   "cell_type": "code",
   "execution_count": 41,
   "id": "b77e302e",
   "metadata": {},
   "outputs": [
    {
     "data": {
      "text/plain": [
       "0.3310085148278936"
      ]
     },
     "execution_count": 41,
     "metadata": {},
     "output_type": "execute_result"
    }
   ],
   "source": [
    "cv_score =cross_val_score(ls,features,target,cv=8)\n",
    "cv_mean=cv_score.mean()\n",
    "cv_mean"
   ]
  },
  {
   "cell_type": "code",
   "execution_count": 42,
   "id": "84d68096",
   "metadata": {},
   "outputs": [
    {
     "name": "stdout",
     "output_type": "stream",
     "text": [
      "{'criterion': 'mae', 'max_features': 'log2'}\n"
     ]
    }
   ],
   "source": [
    "#Ensemble Technique\n",
    "\n",
    "from sklearn.model_selection import GridSearchCV\n",
    "from sklearn.ensemble import RandomForestRegressor\n",
    "\n",
    "parameters = {'criterion':['mse','mae'],'max_features':[\"auto\",\"sqrt\",\"log2\"]}\n",
    "rf= RandomForestRegressor()\n",
    "clf= GridSearchCV(rf,parameters)\n",
    "clf.fit(features_train,target_train)\n",
    "\n",
    "print(clf.best_params_)"
   ]
  },
  {
   "cell_type": "code",
   "execution_count": 43,
   "id": "492439cb",
   "metadata": {},
   "outputs": [],
   "source": [
    "rf= RandomForestRegressor(criterion=\"mse\",max_features=\"auto\")"
   ]
  },
  {
   "cell_type": "code",
   "execution_count": 45,
   "id": "4ade7c4f",
   "metadata": {},
   "outputs": [
    {
     "name": "stdout",
     "output_type": "stream",
     "text": [
      "R2 Score: 24.578034496952828\n",
      "Cross Val Score: 32.11148932808666\n"
     ]
    }
   ],
   "source": [
    "rf.fit(features_train,target_train)\n",
    "rf.score(features_train,target_train)\n",
    "pred_decison = rf.predict(features_test)\n",
    "\n",
    "rfs = r2_score(target_test,pred_decison)\n",
    "print('R2 Score:',rfs*100)\n",
    "\n",
    "rfscore = cross_val_score(rf,features,target,cv=8)\n",
    "rfc=rfscore.mean()\n",
    "print('Cross Val Score:',rfc*100)\n",
    "\n"
   ]
  },
  {
   "cell_type": "code",
   "execution_count": 46,
   "id": "36c409db",
   "metadata": {},
   "outputs": [],
   "source": [
    "import pickle \n",
    "filename ='churn.pkl'\n",
    "pickle.dump(ls,open(filename,'wb'))"
   ]
  },
  {
   "cell_type": "code",
   "execution_count": 48,
   "id": "70476767",
   "metadata": {},
   "outputs": [
    {
     "name": "stdout",
     "output_type": "stream",
     "text": [
      "0.508601341551528\n"
     ]
    }
   ],
   "source": [
    "loaded_model=pickle.load(open('churn.pkl','rb'))\n",
    "result=loaded_model.score(features_test,target_test)\n",
    "print(result)"
   ]
  },
  {
   "cell_type": "code",
   "execution_count": 49,
   "id": "4db25584",
   "metadata": {},
   "outputs": [],
   "source": [
    "conclusion =pd.DataFrame([loaded_model.predict(features_test)[:],pred_decison[:]],index=[\"predicted\",\"original\"])"
   ]
  },
  {
   "cell_type": "code",
   "execution_count": 50,
   "id": "df62daef",
   "metadata": {},
   "outputs": [
    {
     "data": {
      "text/html": [
       "<div>\n",
       "<style scoped>\n",
       "    .dataframe tbody tr th:only-of-type {\n",
       "        vertical-align: middle;\n",
       "    }\n",
       "\n",
       "    .dataframe tbody tr th {\n",
       "        vertical-align: top;\n",
       "    }\n",
       "\n",
       "    .dataframe thead th {\n",
       "        text-align: right;\n",
       "    }\n",
       "</style>\n",
       "<table border=\"1\" class=\"dataframe\">\n",
       "  <thead>\n",
       "    <tr style=\"text-align: right;\">\n",
       "      <th></th>\n",
       "      <th>0</th>\n",
       "      <th>1</th>\n",
       "      <th>2</th>\n",
       "      <th>3</th>\n",
       "      <th>4</th>\n",
       "      <th>5</th>\n",
       "      <th>6</th>\n",
       "      <th>7</th>\n",
       "      <th>8</th>\n",
       "      <th>9</th>\n",
       "      <th>...</th>\n",
       "      <th>70</th>\n",
       "      <th>71</th>\n",
       "      <th>72</th>\n",
       "      <th>73</th>\n",
       "      <th>74</th>\n",
       "      <th>75</th>\n",
       "      <th>76</th>\n",
       "      <th>77</th>\n",
       "      <th>78</th>\n",
       "      <th>79</th>\n",
       "    </tr>\n",
       "  </thead>\n",
       "  <tbody>\n",
       "    <tr>\n",
       "      <th>predicted</th>\n",
       "      <td>124990.877428</td>\n",
       "      <td>128658.225544</td>\n",
       "      <td>109898.366444</td>\n",
       "      <td>113369.874316</td>\n",
       "      <td>121484.562352</td>\n",
       "      <td>93450.217571</td>\n",
       "      <td>115088.224649</td>\n",
       "      <td>90810.193040</td>\n",
       "      <td>81060.59077</td>\n",
       "      <td>94075.211822</td>\n",
       "      <td>...</td>\n",
       "      <td>99146.826723</td>\n",
       "      <td>124587.828824</td>\n",
       "      <td>126683.122358</td>\n",
       "      <td>102618.334594</td>\n",
       "      <td>108700.588748</td>\n",
       "      <td>123272.527095</td>\n",
       "      <td>123416.156532</td>\n",
       "      <td>92545.946975</td>\n",
       "      <td>122656.234644</td>\n",
       "      <td>109264.670392</td>\n",
       "    </tr>\n",
       "    <tr>\n",
       "      <th>original</th>\n",
       "      <td>159376.140000</td>\n",
       "      <td>125327.360000</td>\n",
       "      <td>110660.820000</td>\n",
       "      <td>100727.540000</td>\n",
       "      <td>122500.580000</td>\n",
       "      <td>111810.750000</td>\n",
       "      <td>108682.280000</td>\n",
       "      <td>73181.387143</td>\n",
       "      <td>81796.53000</td>\n",
       "      <td>96710.980000</td>\n",
       "      <td>...</td>\n",
       "      <td>88669.668000</td>\n",
       "      <td>146360.040000</td>\n",
       "      <td>112973.586667</td>\n",
       "      <td>86924.550667</td>\n",
       "      <td>113861.070000</td>\n",
       "      <td>185531.270000</td>\n",
       "      <td>148491.787667</td>\n",
       "      <td>81615.135333</td>\n",
       "      <td>98251.060000</td>\n",
       "      <td>107153.060000</td>\n",
       "    </tr>\n",
       "  </tbody>\n",
       "</table>\n",
       "<p>2 rows × 80 columns</p>\n",
       "</div>"
      ],
      "text/plain": [
       "                      0              1              2              3   \\\n",
       "predicted  124990.877428  128658.225544  109898.366444  113369.874316   \n",
       "original   159376.140000  125327.360000  110660.820000  100727.540000   \n",
       "\n",
       "                      4              5              6             7   \\\n",
       "predicted  121484.562352   93450.217571  115088.224649  90810.193040   \n",
       "original   122500.580000  111810.750000  108682.280000  73181.387143   \n",
       "\n",
       "                    8             9   ...            70             71  \\\n",
       "predicted  81060.59077  94075.211822  ...  99146.826723  124587.828824   \n",
       "original   81796.53000  96710.980000  ...  88669.668000  146360.040000   \n",
       "\n",
       "                      72             73             74             75  \\\n",
       "predicted  126683.122358  102618.334594  108700.588748  123272.527095   \n",
       "original   112973.586667   86924.550667  113861.070000  185531.270000   \n",
       "\n",
       "                      76            77             78             79  \n",
       "predicted  123416.156532  92545.946975  122656.234644  109264.670392  \n",
       "original   148491.787667  81615.135333   98251.060000  107153.060000  \n",
       "\n",
       "[2 rows x 80 columns]"
      ]
     },
     "execution_count": 50,
     "metadata": {},
     "output_type": "execute_result"
    }
   ],
   "source": [
    "conclusion"
   ]
  },
  {
   "cell_type": "code",
   "execution_count": null,
   "id": "ae3a355b",
   "metadata": {},
   "outputs": [],
   "source": []
  }
 ],
 "metadata": {
  "kernelspec": {
   "display_name": "Python 3 (ipykernel)",
   "language": "python",
   "name": "python3"
  },
  "language_info": {
   "codemirror_mode": {
    "name": "ipython",
    "version": 3
   },
   "file_extension": ".py",
   "mimetype": "text/x-python",
   "name": "python",
   "nbconvert_exporter": "python",
   "pygments_lexer": "ipython3",
   "version": "3.9.7"
  }
 },
 "nbformat": 4,
 "nbformat_minor": 5
}
