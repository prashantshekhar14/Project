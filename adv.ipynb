{
 "cells": [
  {
   "cell_type": "code",
   "execution_count": 1,
   "id": "633db81a",
   "metadata": {},
   "outputs": [],
   "source": [
    "import pandas as pd\n",
    "import numpy as np\n",
    "from sklearn.preprocessing import StandardScaler\n",
    "from sklearn.linear_model import LinearRegression\n",
    "from sklearn.model_selection import train_test_split,GridSearchCV\n",
    "from sklearn.tree import DecisionTreeClassifier\n",
    "from sklearn.metrics import accuracy_score,confusion_matrix,roc_curve,roc_auc_score\n",
    "#import statesmodel.api as sm\n",
    "import matplotlib.pyplot as plt\n",
    "%matplotlib inline\n",
    "import seaborn as sns\n",
    "import pickle\n",
    "import warnings\n",
    "warnings.filterwarnings('ignore')\n"
   ]
  },
  {
   "cell_type": "code",
   "execution_count": 2,
   "id": "291c6fa9",
   "metadata": {},
   "outputs": [],
   "source": [
    "data = pd.read_csv('D:/advert.csv')"
   ]
  },
  {
   "cell_type": "code",
   "execution_count": 3,
   "id": "b6cacf32",
   "metadata": {},
   "outputs": [
    {
     "data": {
      "text/html": [
       "<div>\n",
       "<style scoped>\n",
       "    .dataframe tbody tr th:only-of-type {\n",
       "        vertical-align: middle;\n",
       "    }\n",
       "\n",
       "    .dataframe tbody tr th {\n",
       "        vertical-align: top;\n",
       "    }\n",
       "\n",
       "    .dataframe thead th {\n",
       "        text-align: right;\n",
       "    }\n",
       "</style>\n",
       "<table border=\"1\" class=\"dataframe\">\n",
       "  <thead>\n",
       "    <tr style=\"text-align: right;\">\n",
       "      <th></th>\n",
       "      <th>Unnamed: 0</th>\n",
       "      <th>TV</th>\n",
       "      <th>radio</th>\n",
       "      <th>newspaper</th>\n",
       "      <th>sales</th>\n",
       "    </tr>\n",
       "  </thead>\n",
       "  <tbody>\n",
       "    <tr>\n",
       "      <th>0</th>\n",
       "      <td>1</td>\n",
       "      <td>230.1</td>\n",
       "      <td>37.8</td>\n",
       "      <td>69.2</td>\n",
       "      <td>22.1</td>\n",
       "    </tr>\n",
       "    <tr>\n",
       "      <th>1</th>\n",
       "      <td>2</td>\n",
       "      <td>44.5</td>\n",
       "      <td>39.3</td>\n",
       "      <td>45.1</td>\n",
       "      <td>10.4</td>\n",
       "    </tr>\n",
       "    <tr>\n",
       "      <th>2</th>\n",
       "      <td>3</td>\n",
       "      <td>17.2</td>\n",
       "      <td>45.9</td>\n",
       "      <td>69.3</td>\n",
       "      <td>9.3</td>\n",
       "    </tr>\n",
       "    <tr>\n",
       "      <th>3</th>\n",
       "      <td>4</td>\n",
       "      <td>151.5</td>\n",
       "      <td>41.3</td>\n",
       "      <td>58.5</td>\n",
       "      <td>18.5</td>\n",
       "    </tr>\n",
       "    <tr>\n",
       "      <th>4</th>\n",
       "      <td>5</td>\n",
       "      <td>180.8</td>\n",
       "      <td>10.8</td>\n",
       "      <td>58.4</td>\n",
       "      <td>12.9</td>\n",
       "    </tr>\n",
       "    <tr>\n",
       "      <th>...</th>\n",
       "      <td>...</td>\n",
       "      <td>...</td>\n",
       "      <td>...</td>\n",
       "      <td>...</td>\n",
       "      <td>...</td>\n",
       "    </tr>\n",
       "    <tr>\n",
       "      <th>195</th>\n",
       "      <td>196</td>\n",
       "      <td>38.2</td>\n",
       "      <td>3.7</td>\n",
       "      <td>13.8</td>\n",
       "      <td>7.6</td>\n",
       "    </tr>\n",
       "    <tr>\n",
       "      <th>196</th>\n",
       "      <td>197</td>\n",
       "      <td>94.2</td>\n",
       "      <td>4.9</td>\n",
       "      <td>8.1</td>\n",
       "      <td>9.7</td>\n",
       "    </tr>\n",
       "    <tr>\n",
       "      <th>197</th>\n",
       "      <td>198</td>\n",
       "      <td>177.0</td>\n",
       "      <td>9.3</td>\n",
       "      <td>6.4</td>\n",
       "      <td>12.8</td>\n",
       "    </tr>\n",
       "    <tr>\n",
       "      <th>198</th>\n",
       "      <td>199</td>\n",
       "      <td>283.6</td>\n",
       "      <td>42.0</td>\n",
       "      <td>66.2</td>\n",
       "      <td>25.5</td>\n",
       "    </tr>\n",
       "    <tr>\n",
       "      <th>199</th>\n",
       "      <td>200</td>\n",
       "      <td>232.1</td>\n",
       "      <td>8.6</td>\n",
       "      <td>8.7</td>\n",
       "      <td>13.4</td>\n",
       "    </tr>\n",
       "  </tbody>\n",
       "</table>\n",
       "<p>200 rows × 5 columns</p>\n",
       "</div>"
      ],
      "text/plain": [
       "     Unnamed: 0     TV  radio  newspaper  sales\n",
       "0             1  230.1   37.8       69.2   22.1\n",
       "1             2   44.5   39.3       45.1   10.4\n",
       "2             3   17.2   45.9       69.3    9.3\n",
       "3             4  151.5   41.3       58.5   18.5\n",
       "4             5  180.8   10.8       58.4   12.9\n",
       "..          ...    ...    ...        ...    ...\n",
       "195         196   38.2    3.7       13.8    7.6\n",
       "196         197   94.2    4.9        8.1    9.7\n",
       "197         198  177.0    9.3        6.4   12.8\n",
       "198         199  283.6   42.0       66.2   25.5\n",
       "199         200  232.1    8.6        8.7   13.4\n",
       "\n",
       "[200 rows x 5 columns]"
      ]
     },
     "execution_count": 3,
     "metadata": {},
     "output_type": "execute_result"
    }
   ],
   "source": [
    "data"
   ]
  },
  {
   "cell_type": "code",
   "execution_count": 3,
   "id": "2b41f360",
   "metadata": {},
   "outputs": [
    {
     "data": {
      "text/plain": [
       "Unnamed: 0    0\n",
       "TV            0\n",
       "radio         0\n",
       "newspaper     0\n",
       "sales         0\n",
       "dtype: int64"
      ]
     },
     "execution_count": 3,
     "metadata": {},
     "output_type": "execute_result"
    }
   ],
   "source": [
    "data.isnull().sum()"
   ]
  },
  {
   "cell_type": "code",
   "execution_count": 4,
   "id": "c746cea7",
   "metadata": {},
   "outputs": [
    {
     "data": {
      "text/plain": [
       "Index(['Unnamed: 0', 'TV', 'radio', 'newspaper', 'sales'], dtype='object')"
      ]
     },
     "execution_count": 4,
     "metadata": {},
     "output_type": "execute_result"
    }
   ],
   "source": [
    "data.columns"
   ]
  },
  {
   "cell_type": "code",
   "execution_count": 6,
   "id": "658a07c8",
   "metadata": {},
   "outputs": [
    {
     "data": {
      "text/html": [
       "<div>\n",
       "<style scoped>\n",
       "    .dataframe tbody tr th:only-of-type {\n",
       "        vertical-align: middle;\n",
       "    }\n",
       "\n",
       "    .dataframe tbody tr th {\n",
       "        vertical-align: top;\n",
       "    }\n",
       "\n",
       "    .dataframe thead th {\n",
       "        text-align: right;\n",
       "    }\n",
       "</style>\n",
       "<table border=\"1\" class=\"dataframe\">\n",
       "  <thead>\n",
       "    <tr style=\"text-align: right;\">\n",
       "      <th></th>\n",
       "      <th>Unnamed: 0</th>\n",
       "      <th>TV</th>\n",
       "      <th>radio</th>\n",
       "      <th>newspaper</th>\n",
       "      <th>sales</th>\n",
       "    </tr>\n",
       "  </thead>\n",
       "  <tbody>\n",
       "    <tr>\n",
       "      <th>0</th>\n",
       "      <td>1</td>\n",
       "      <td>230.1</td>\n",
       "      <td>37.8</td>\n",
       "      <td>69.2</td>\n",
       "      <td>22.1</td>\n",
       "    </tr>\n",
       "    <tr>\n",
       "      <th>1</th>\n",
       "      <td>2</td>\n",
       "      <td>44.5</td>\n",
       "      <td>39.3</td>\n",
       "      <td>45.1</td>\n",
       "      <td>10.4</td>\n",
       "    </tr>\n",
       "    <tr>\n",
       "      <th>2</th>\n",
       "      <td>3</td>\n",
       "      <td>17.2</td>\n",
       "      <td>45.9</td>\n",
       "      <td>69.3</td>\n",
       "      <td>9.3</td>\n",
       "    </tr>\n",
       "    <tr>\n",
       "      <th>3</th>\n",
       "      <td>4</td>\n",
       "      <td>151.5</td>\n",
       "      <td>41.3</td>\n",
       "      <td>58.5</td>\n",
       "      <td>18.5</td>\n",
       "    </tr>\n",
       "    <tr>\n",
       "      <th>4</th>\n",
       "      <td>5</td>\n",
       "      <td>180.8</td>\n",
       "      <td>10.8</td>\n",
       "      <td>58.4</td>\n",
       "      <td>12.9</td>\n",
       "    </tr>\n",
       "  </tbody>\n",
       "</table>\n",
       "</div>"
      ],
      "text/plain": [
       "   Unnamed: 0     TV  radio  newspaper  sales\n",
       "0           1  230.1   37.8       69.2   22.1\n",
       "1           2   44.5   39.3       45.1   10.4\n",
       "2           3   17.2   45.9       69.3    9.3\n",
       "3           4  151.5   41.3       58.5   18.5\n",
       "4           5  180.8   10.8       58.4   12.9"
      ]
     },
     "execution_count": 6,
     "metadata": {},
     "output_type": "execute_result"
    }
   ],
   "source": [
    "data.head()"
   ]
  },
  {
   "cell_type": "code",
   "execution_count": 5,
   "id": "8f08e862",
   "metadata": {},
   "outputs": [],
   "source": [
    "import seaborn as sns"
   ]
  },
  {
   "cell_type": "code",
   "execution_count": 6,
   "id": "840a95e7",
   "metadata": {},
   "outputs": [
    {
     "data": {
      "text/plain": [
       "<AxesSubplot:xlabel='TV', ylabel='sales'>"
      ]
     },
     "execution_count": 6,
     "metadata": {},
     "output_type": "execute_result"
    },
    {
     "data": {
      "image/png": "[encoded data removed]",
      "text/plain": [
       "<Figure size 432x288 with 1 Axes>"
      ]
     },
     "metadata": {
      "needs_background": "light"
     },
     "output_type": "display_data"
    }
   ],
   "source": [
    "sns.scatterplot(data=data,x=\"TV\",y=\"sales\")"
   ]
  },
  {
   "cell_type": "code",
   "execution_count": 7,
   "id": "69a25604",
   "metadata": {},
   "outputs": [
    {
     "data": {
      "text/plain": [
       "<AxesSubplot:xlabel='radio', ylabel='sales'>"
      ]
     },
     "execution_count": 7,
     "metadata": {},
     "output_type": "execute_result"
    },
    {
     "data": {
      "image/png": "[encoded data removed]",
      "text/plain": [
       "<Figure size 432x288 with 1 Axes>"
      ]
     },
     "metadata": {
      "needs_background": "light"
     },
     "output_type": "display_data"
    }
   ],
   "source": [
    "sns.scatterplot(data=data,x=\"radio\",y=\"sales\")"
   ]
  },
  {
   "cell_type": "code",
   "execution_count": 8,
   "id": "3653d83a",
   "metadata": {},
   "outputs": [
    {
     "data": {
      "text/plain": [
       "<AxesSubplot:xlabel='newspaper', ylabel='sales'>"
      ]
     },
     "execution_count": 8,
     "metadata": {},
     "output_type": "execute_result"
    },
    {
     "data": {
      "image/png": "[encoded data removed]",
      "text/plain": [
       "<Figure size 432x288 with 1 Axes>"
      ]
     },
     "metadata": {
      "needs_background": "light"
     },
     "output_type": "display_data"
    }
   ],
   "source": [
    "sns.scatterplot(data=data,x=\"newspaper\",y=\"sales\")"
   ]
  },
  {
   "cell_type": "code",
   "execution_count": 9,
   "id": "f0e04e2a",
   "metadata": {},
   "outputs": [
    {
     "data": {
      "text/html": [
       "<div>\n",
       "<style scoped>\n",
       "    .dataframe tbody tr th:only-of-type {\n",
       "        vertical-align: middle;\n",
       "    }\n",
       "\n",
       "    .dataframe tbody tr th {\n",
       "        vertical-align: top;\n",
       "    }\n",
       "\n",
       "    .dataframe thead th {\n",
       "        text-align: right;\n",
       "    }\n",
       "</style>\n",
       "<table border=\"1\" class=\"dataframe\">\n",
       "  <thead>\n",
       "    <tr style=\"text-align: right;\">\n",
       "      <th></th>\n",
       "      <th>Unnamed: 0</th>\n",
       "      <th>TV</th>\n",
       "      <th>radio</th>\n",
       "      <th>newspaper</th>\n",
       "      <th>sales</th>\n",
       "    </tr>\n",
       "  </thead>\n",
       "  <tbody>\n",
       "    <tr>\n",
       "      <th>count</th>\n",
       "      <td>200.000000</td>\n",
       "      <td>200.000000</td>\n",
       "      <td>200.000000</td>\n",
       "      <td>200.000000</td>\n",
       "      <td>200.000000</td>\n",
       "    </tr>\n",
       "    <tr>\n",
       "      <th>mean</th>\n",
       "      <td>100.500000</td>\n",
       "      <td>147.042500</td>\n",
       "      <td>23.264000</td>\n",
       "      <td>30.554000</td>\n",
       "      <td>14.022500</td>\n",
       "    </tr>\n",
       "    <tr>\n",
       "      <th>std</th>\n",
       "      <td>57.879185</td>\n",
       "      <td>85.854236</td>\n",
       "      <td>14.846809</td>\n",
       "      <td>21.778621</td>\n",
       "      <td>5.217457</td>\n",
       "    </tr>\n",
       "    <tr>\n",
       "      <th>min</th>\n",
       "      <td>1.000000</td>\n",
       "      <td>0.700000</td>\n",
       "      <td>0.000000</td>\n",
       "      <td>0.300000</td>\n",
       "      <td>1.600000</td>\n",
       "    </tr>\n",
       "    <tr>\n",
       "      <th>25%</th>\n",
       "      <td>50.750000</td>\n",
       "      <td>74.375000</td>\n",
       "      <td>9.975000</td>\n",
       "      <td>12.750000</td>\n",
       "      <td>10.375000</td>\n",
       "    </tr>\n",
       "    <tr>\n",
       "      <th>50%</th>\n",
       "      <td>100.500000</td>\n",
       "      <td>149.750000</td>\n",
       "      <td>22.900000</td>\n",
       "      <td>25.750000</td>\n",
       "      <td>12.900000</td>\n",
       "    </tr>\n",
       "    <tr>\n",
       "      <th>75%</th>\n",
       "      <td>150.250000</td>\n",
       "      <td>218.825000</td>\n",
       "      <td>36.525000</td>\n",
       "      <td>45.100000</td>\n",
       "      <td>17.400000</td>\n",
       "    </tr>\n",
       "    <tr>\n",
       "      <th>max</th>\n",
       "      <td>200.000000</td>\n",
       "      <td>296.400000</td>\n",
       "      <td>49.600000</td>\n",
       "      <td>114.000000</td>\n",
       "      <td>27.000000</td>\n",
       "    </tr>\n",
       "  </tbody>\n",
       "</table>\n",
       "</div>"
      ],
      "text/plain": [
       "       Unnamed: 0          TV       radio   newspaper       sales\n",
       "count  200.000000  200.000000  200.000000  200.000000  200.000000\n",
       "mean   100.500000  147.042500   23.264000   30.554000   14.022500\n",
       "std     57.879185   85.854236   14.846809   21.778621    5.217457\n",
       "min      1.000000    0.700000    0.000000    0.300000    1.600000\n",
       "25%     50.750000   74.375000    9.975000   12.750000   10.375000\n",
       "50%    100.500000  149.750000   22.900000   25.750000   12.900000\n",
       "75%    150.250000  218.825000   36.525000   45.100000   17.400000\n",
       "max    200.000000  296.400000   49.600000  114.000000   27.000000"
      ]
     },
     "execution_count": 9,
     "metadata": {},
     "output_type": "execute_result"
    }
   ],
   "source": [
    "data.describe()"
   ]
  },
  {
   "cell_type": "code",
   "execution_count": 11,
   "id": "387ee56c",
   "metadata": {},
   "outputs": [
    {
     "data": {
      "text/plain": [
       "<AxesSubplot:>"
      ]
     },
     "execution_count": 11,
     "metadata": {},
     "output_type": "execute_result"
    },
    {
     "data": {
      "image/png": "[encoded data removed]",
      "text/plain": [
       "<Figure size 1584x504 with 2 Axes>"
      ]
     },
     "metadata": {
      "needs_background": "light"
     },
     "output_type": "display_data"
    }
   ],
   "source": [
    "plt.figure(figsize=(22,7))\n",
    "sns.heatmap(data.describe(),annot=True,linewidth=0.1,linecolor=\"black\",fmt=\"0.2f\")"
   ]
  },
  {
   "cell_type": "code",
   "execution_count": 12,
   "id": "b4339de9",
   "metadata": {},
   "outputs": [
    {
     "data": {
      "text/html": [
       "<div>\n",
       "<style scoped>\n",
       "    .dataframe tbody tr th:only-of-type {\n",
       "        vertical-align: middle;\n",
       "    }\n",
       "\n",
       "    .dataframe tbody tr th {\n",
       "        vertical-align: top;\n",
       "    }\n",
       "\n",
       "    .dataframe thead th {\n",
       "        text-align: right;\n",
       "    }\n",
       "</style>\n",
       "<table border=\"1\" class=\"dataframe\">\n",
       "  <thead>\n",
       "    <tr style=\"text-align: right;\">\n",
       "      <th></th>\n",
       "      <th>Unnamed: 0</th>\n",
       "      <th>TV</th>\n",
       "      <th>radio</th>\n",
       "      <th>newspaper</th>\n",
       "      <th>sales</th>\n",
       "    </tr>\n",
       "  </thead>\n",
       "  <tbody>\n",
       "    <tr>\n",
       "      <th>Unnamed: 0</th>\n",
       "      <td>1.000000</td>\n",
       "      <td>0.017715</td>\n",
       "      <td>-0.110680</td>\n",
       "      <td>-0.154944</td>\n",
       "      <td>-0.051616</td>\n",
       "    </tr>\n",
       "    <tr>\n",
       "      <th>TV</th>\n",
       "      <td>0.017715</td>\n",
       "      <td>1.000000</td>\n",
       "      <td>0.054809</td>\n",
       "      <td>0.056648</td>\n",
       "      <td>0.782224</td>\n",
       "    </tr>\n",
       "    <tr>\n",
       "      <th>radio</th>\n",
       "      <td>-0.110680</td>\n",
       "      <td>0.054809</td>\n",
       "      <td>1.000000</td>\n",
       "      <td>0.354104</td>\n",
       "      <td>0.576223</td>\n",
       "    </tr>\n",
       "    <tr>\n",
       "      <th>newspaper</th>\n",
       "      <td>-0.154944</td>\n",
       "      <td>0.056648</td>\n",
       "      <td>0.354104</td>\n",
       "      <td>1.000000</td>\n",
       "      <td>0.228299</td>\n",
       "    </tr>\n",
       "    <tr>\n",
       "      <th>sales</th>\n",
       "      <td>-0.051616</td>\n",
       "      <td>0.782224</td>\n",
       "      <td>0.576223</td>\n",
       "      <td>0.228299</td>\n",
       "      <td>1.000000</td>\n",
       "    </tr>\n",
       "  </tbody>\n",
       "</table>\n",
       "</div>"
      ],
      "text/plain": [
       "            Unnamed: 0        TV     radio  newspaper     sales\n",
       "Unnamed: 0    1.000000  0.017715 -0.110680  -0.154944 -0.051616\n",
       "TV            0.017715  1.000000  0.054809   0.056648  0.782224\n",
       "radio        -0.110680  0.054809  1.000000   0.354104  0.576223\n",
       "newspaper    -0.154944  0.056648  0.354104   1.000000  0.228299\n",
       "sales        -0.051616  0.782224  0.576223   0.228299  1.000000"
      ]
     },
     "execution_count": 12,
     "metadata": {},
     "output_type": "execute_result"
    }
   ],
   "source": [
    "data.corr()"
   ]
  },
  {
   "cell_type": "code",
   "execution_count": 29,
   "id": "d50d0784",
   "metadata": {},
   "outputs": [
    {
     "data": {
      "image/png": "[encoded data removed]",
      "text/plain": [
       "<Figure size 1584x504 with 2 Axes>"
      ]
     },
     "metadata": {
      "needs_background": "light"
     },
     "output_type": "display_data"
    },
    {
     "data": {
      "image/png": "[encoded data removed]",
      "text/plain": [
       "<Figure size 1584x504 with 1 Axes>"
      ]
     },
     "metadata": {
      "needs_background": "light"
     },
     "output_type": "display_data"
    }
   ],
   "source": [
    "plt.figure(figsize=(22,7))\n",
    "sns.heatmap(data.corr(),annot=True,linewidth=0.1,linecolor=\"black\",fmt=\"0.2f\")\n",
    "\n",
    "plt.figure(figsize=(22,7))\n",
    "data.corr()['sales'].sort_values(ascending=False).drop(['sales']).plot(kind='bar',color='c')\n",
    "plt.xlabel('Feature',fontsize=14)\n",
    "plt.ylabel('Column with target name',fontsize=14)\n",
    "plt.title('correlation',fontsize=18)\n",
    "plt.show()"
   ]
  },
  {
   "cell_type": "code",
   "execution_count": 22,
   "id": "4f30f58c",
   "metadata": {},
   "outputs": [
    {
     "data": {
      "text/plain": [
       "<AxesSubplot:xlabel='sales', ylabel='Density'>"
      ]
     },
     "execution_count": 22,
     "metadata": {},
     "output_type": "execute_result"
    },
    {
     "data": {
      "image/png": "[encoded data removed]",
      "text/plain": [
       "<Figure size 432x288 with 1 Axes>"
      ]
     },
     "metadata": {
      "needs_background": "light"
     },
     "output_type": "display_data"
    }
   ],
   "source": [
    "import seaborn as sns\n",
    "sns.distplot(data['sales'],kde=True)"
   ]
  },
  {
   "cell_type": "code",
   "execution_count": 23,
   "id": "13fa54d4",
   "metadata": {},
   "outputs": [
    {
     "data": {
      "text/plain": [
       "<AxesSubplot:xlabel='TV', ylabel='Density'>"
      ]
     },
     "execution_count": 23,
     "metadata": {},
     "output_type": "execute_result"
    },
    {
     "data": {
      "image/png": "[encoded data removed]",
      "text/plain": [
       "<Figure size 432x288 with 1 Axes>"
      ]
     },
     "metadata": {
      "needs_background": "light"
     },
     "output_type": "display_data"
    }
   ],
   "source": [
    "import seaborn as sns\n",
    "sns.distplot(data['TV'],kde=True)"
   ]
  },
  {
   "cell_type": "code",
   "execution_count": 24,
   "id": "c6c2f47d",
   "metadata": {},
   "outputs": [
    {
     "data": {
      "text/plain": [
       "<AxesSubplot:xlabel='radio', ylabel='Density'>"
      ]
     },
     "execution_count": 24,
     "metadata": {},
     "output_type": "execute_result"
    },
    {
     "data": {
      "image/png": "[encoded data removed]",
      "text/plain": [
       "<Figure size 432x288 with 1 Axes>"
      ]
     },
     "metadata": {
      "needs_background": "light"
     },
     "output_type": "display_data"
    }
   ],
   "source": [
    "import seaborn as sns\n",
    "sns.distplot(data['radio'],kde=True)"
   ]
  },
  {
   "cell_type": "code",
   "execution_count": 25,
   "id": "15dc5c90",
   "metadata": {},
   "outputs": [
    {
     "data": {
      "text/plain": [
       "<AxesSubplot:xlabel='newspaper', ylabel='Density'>"
      ]
     },
     "execution_count": 25,
     "metadata": {},
     "output_type": "execute_result"
    },
    {
     "data": {
      "image/png": "[encoded data removed]",
      "text/plain": [
       "<Figure size 432x288 with 1 Axes>"
      ]
     },
     "metadata": {
      "needs_background": "light"
     },
     "output_type": "display_data"
    }
   ],
   "source": [
    "import seaborn as sns\n",
    "sns.distplot(data['newspaper'],kde=True)"
   ]
  },
  {
   "cell_type": "code",
   "execution_count": 30,
   "id": "78c2e211",
   "metadata": {},
   "outputs": [
    {
     "data": {
      "text/plain": [
       "Unnamed: 0    0.000000\n",
       "TV           -0.069853\n",
       "radio         0.094175\n",
       "newspaper     0.894720\n",
       "sales         0.407571\n",
       "dtype: float64"
      ]
     },
     "execution_count": 30,
     "metadata": {},
     "output_type": "execute_result"
    }
   ],
   "source": [
    "\n",
    "data.skew()"
   ]
  },
  {
   "cell_type": "code",
   "execution_count": 31,
   "id": "6f9d7a5c",
   "metadata": {},
   "outputs": [
    {
     "data": {
      "text/plain": [
       "<AxesSubplot:>"
      ]
     },
     "execution_count": 31,
     "metadata": {},
     "output_type": "execute_result"
    },
    {
     "data": {
      "image/png": "[encoded data removed]",
      "text/plain": [
       "<Figure size 432x288 with 1 Axes>"
      ]
     },
     "metadata": {
      "needs_background": "light"
     },
     "output_type": "display_data"
    }
   ],
   "source": [
    "data['sales'].plot.box()"
   ]
  },
  {
   "cell_type": "code",
   "execution_count": 32,
   "id": "f78072d3",
   "metadata": {},
   "outputs": [
    {
     "data": {
      "text/plain": [
       "<AxesSubplot:>"
      ]
     },
     "execution_count": 32,
     "metadata": {},
     "output_type": "execute_result"
    },
    {
     "data": {
      "image/png": "[encoded data removed]",
      "text/plain": [
       "<Figure size 432x288 with 1 Axes>"
      ]
     },
     "metadata": {
      "needs_background": "light"
     },
     "output_type": "display_data"
    }
   ],
   "source": [
    "data['TV'].plot.box()"
   ]
  },
  {
   "cell_type": "code",
   "execution_count": 33,
   "id": "3ba8258b",
   "metadata": {},
   "outputs": [
    {
     "data": {
      "text/plain": [
       "<AxesSubplot:>"
      ]
     },
     "execution_count": 33,
     "metadata": {},
     "output_type": "execute_result"
    },
    {
     "data": {
      "image/png": "[encoded data removed]",
      "text/plain": [
       "<Figure size 432x288 with 1 Axes>"
      ]
     },
     "metadata": {
      "needs_background": "light"
     },
     "output_type": "display_data"
    }
   ],
   "source": [
    "data['radio'].plot.box()"
   ]
  },
  {
   "cell_type": "code",
   "execution_count": 34,
   "id": "14096e4f",
   "metadata": {},
   "outputs": [
    {
     "data": {
      "text/plain": [
       "<AxesSubplot:>"
      ]
     },
     "execution_count": 34,
     "metadata": {},
     "output_type": "execute_result"
    },
    {
     "data": {
      "image/png": "[encoded data removed]",
      "text/plain": [
       "<Figure size 432x288 with 1 Axes>"
      ]
     },
     "metadata": {
      "needs_background": "light"
     },
     "output_type": "display_data"
    }
   ],
   "source": [
    "data['newspaper'].plot.box()"
   ]
  },
  {
   "cell_type": "code",
   "execution_count": 40,
   "id": "574ddce1",
   "metadata": {},
   "outputs": [],
   "source": [
    "data.shape\n",
    "\n",
    "features =data.drop(\"sales\",axis=1)\n",
    "target=data[\"sales\"]"
   ]
  },
  {
   "cell_type": "code",
   "execution_count": 41,
   "id": "affcc2b9",
   "metadata": {},
   "outputs": [],
   "source": [
    "from sklearn.preprocessing import MinMaxScaler\n",
    "mms=MinMaxScaler()\n",
    "from sklearn.linear_model import LinearRegression\n",
    "lr=LinearRegression()\n",
    "from sklearn.metrics import r2_score\n",
    "from sklearn.model_selection import train_test_split"
   ]
  },
  {
   "cell_type": "code",
   "execution_count": 42,
   "id": "b7d4674a",
   "metadata": {},
   "outputs": [],
   "source": [
    "import warnings\n",
    "warnings.filterwarnings('ignore')"
   ]
  },
  {
   "cell_type": "code",
   "execution_count": 44,
   "id": "07e6f226",
   "metadata": {},
   "outputs": [
    {
     "name": "stdout",
     "output_type": "stream",
     "text": [
      "At random state 0,the training accuracy is:- 0.9073274552252846\n",
      "At random state 0,the testing accuracy is:- 0.856480214327925\n",
      "\n",
      "\n",
      "At random state 1,the training accuracy is:- 0.8959391993971187\n",
      "At random state 1,the testing accuracy is:- 0.8928781912093181\n",
      "\n",
      "\n",
      "At random state 2,the training accuracy is:- 0.9152614531156523\n",
      "At random state 2,the testing accuracy is:- 0.7570326409482367\n",
      "\n",
      "\n",
      "At random state 3,the training accuracy is:- 0.8931443451313652\n",
      "At random state 3,the testing accuracy is:- 0.9134449674582059\n",
      "\n",
      "\n",
      "At random state 4,the training accuracy is:- 0.8911682084041699\n",
      "At random state 4,the testing accuracy is:- 0.9084934434517352\n",
      "\n",
      "\n",
      "At random state 5,the training accuracy is:- 0.89570620107301\n",
      "At random state 5,the testing accuracy is:- 0.89851958363058\n",
      "\n",
      "\n",
      "At random state 6,the training accuracy is:- 0.8915582028345674\n",
      "At random state 6,the testing accuracy is:- 0.921941222913581\n",
      "\n",
      "\n",
      "At random state 7,the training accuracy is:- 0.8929171093102488\n",
      "At random state 7,the testing accuracy is:- 0.9094946118605033\n",
      "\n",
      "\n",
      "At random state 8,the training accuracy is:- 0.9089671598668994\n",
      "At random state 8,the testing accuracy is:- 0.8454524606304807\n",
      "\n",
      "\n",
      "At random state 9,the training accuracy is:- 0.8897879071515497\n",
      "At random state 9,the testing accuracy is:- 0.9254791165935141\n",
      "\n",
      "\n",
      "At random state 10,the training accuracy is:- 0.9210064755430887\n",
      "At random state 10,the testing accuracy is:- 0.8350889287403334\n",
      "\n",
      "\n",
      "At random state 11,the training accuracy is:- 0.9111623809104603\n",
      "At random state 11,the testing accuracy is:- 0.8449820092996336\n",
      "\n",
      "\n",
      "At random state 12,the training accuracy is:- 0.8918075499129059\n",
      "At random state 12,the testing accuracy is:- 0.9110007582766769\n",
      "\n",
      "\n",
      "At random state 13,the training accuracy is:- 0.887016186914774\n",
      "At random state 13,the testing accuracy is:- 0.9305870148904292\n",
      "\n",
      "\n",
      "At random state 14,the training accuracy is:- 0.9086355983008996\n",
      "At random state 14,the testing accuracy is:- 0.8549475163509118\n",
      "\n",
      "\n",
      "At random state 15,the training accuracy is:- 0.8938079254185115\n",
      "At random state 15,the testing accuracy is:- 0.9055692412310968\n",
      "\n",
      "\n",
      "At random state 16,the training accuracy is:- 0.8926643673594483\n",
      "At random state 16,the testing accuracy is:- 0.9179051167419227\n",
      "\n",
      "\n",
      "At random state 17,the training accuracy is:- 0.9116703196823303\n",
      "At random state 17,the testing accuracy is:- 0.8260144163842627\n",
      "\n",
      "\n",
      "At random state 18,the training accuracy is:- 0.9058537276169787\n",
      "At random state 18,the testing accuracy is:- 0.8692586836034338\n",
      "\n",
      "\n",
      "At random state 19,the training accuracy is:- 0.8936964884458823\n",
      "At random state 19,the testing accuracy is:- 0.9035293150713195\n",
      "\n",
      "\n",
      "At random state 20,the training accuracy is:- 0.8940674217997686\n",
      "At random state 20,the testing accuracy is:- 0.9028631545455051\n",
      "\n",
      "\n",
      "At random state 21,the training accuracy is:- 0.8890540600770627\n",
      "At random state 21,the testing accuracy is:- 0.9146569039385174\n",
      "\n",
      "\n",
      "At random state 22,the training accuracy is:- 0.8899973381223143\n",
      "At random state 22,the testing accuracy is:- 0.9182082402965809\n",
      "\n",
      "\n",
      "At random state 23,the training accuracy is:- 0.8921767001074105\n",
      "At random state 23,the testing accuracy is:- 0.9099324713476881\n",
      "\n",
      "\n",
      "At random state 24,the training accuracy is:- 0.8948669853718487\n",
      "At random state 24,the testing accuracy is:- 0.9031175758867456\n",
      "\n",
      "\n",
      "At random state 25,the training accuracy is:- 0.901084029469538\n",
      "At random state 25,the testing accuracy is:- 0.8720389628792304\n",
      "\n",
      "\n",
      "At random state 26,the training accuracy is:- 0.9008142925470226\n",
      "At random state 26,the testing accuracy is:- 0.8660817826604932\n",
      "\n",
      "\n",
      "At random state 27,the training accuracy is:- 0.8949084508267352\n",
      "At random state 27,the testing accuracy is:- 0.9055839757493602\n",
      "\n",
      "\n",
      "At random state 28,the training accuracy is:- 0.8997566457323917\n",
      "At random state 28,the testing accuracy is:- 0.882889952375476\n",
      "\n",
      "\n",
      "At random state 29,the training accuracy is:- 0.8897990754621425\n",
      "At random state 29,the testing accuracy is:- 0.9121642709962423\n",
      "\n",
      "\n",
      "At random state 30,the training accuracy is:- 0.8935867104133169\n",
      "At random state 30,the testing accuracy is:- 0.9070725716744538\n",
      "\n",
      "\n",
      "At random state 31,the training accuracy is:- 0.8861151331622692\n",
      "At random state 31,the testing accuracy is:- 0.9274231828872666\n",
      "\n",
      "\n",
      "At random state 32,the training accuracy is:- 0.9172993061976911\n",
      "At random state 32,the testing accuracy is:- 0.7769624816211904\n",
      "\n",
      "\n",
      "At random state 33,the training accuracy is:- 0.896294422055296\n",
      "At random state 33,the testing accuracy is:- 0.8938166042095906\n",
      "\n",
      "\n",
      "At random state 34,the training accuracy is:- 0.8970815554113069\n",
      "At random state 34,the testing accuracy is:- 0.8919648426080482\n",
      "\n",
      "\n",
      "At random state 35,the training accuracy is:- 0.9149816013369177\n",
      "At random state 35,the testing accuracy is:- 0.786373587730015\n",
      "\n",
      "\n",
      "At random state 36,the training accuracy is:- 0.8887390025066806\n",
      "At random state 36,the testing accuracy is:- 0.9265569630488937\n",
      "\n",
      "\n",
      "At random state 37,the training accuracy is:- 0.8998734924150504\n",
      "At random state 37,the testing accuracy is:- 0.8832381464120009\n",
      "\n",
      "\n",
      "At random state 38,the training accuracy is:- 0.8972914103912516\n",
      "At random state 38,the testing accuracy is:- 0.8908696135503188\n",
      "\n",
      "\n",
      "At random state 39,the training accuracy is:- 0.9002556473795614\n",
      "At random state 39,the testing accuracy is:- 0.8690558832908658\n",
      "\n",
      "\n",
      "At random state 40,the training accuracy is:- 0.9204058033654225\n",
      "At random state 40,the testing accuracy is:- 0.7965905680536843\n",
      "\n",
      "\n",
      "At random state 41,the training accuracy is:- 0.9006927327079468\n",
      "At random state 41,the testing accuracy is:- 0.8820470614688671\n",
      "\n",
      "\n",
      "At random state 42,the training accuracy is:- 0.8957553000540606\n",
      "At random state 42,the testing accuracy is:- 0.8986489151417081\n",
      "\n",
      "\n",
      "At random state 43,the training accuracy is:- 0.8886405668646471\n",
      "At random state 43,the testing accuracy is:- 0.9279997802005557\n",
      "\n",
      "\n",
      "At random state 44,the training accuracy is:- 0.9065906284233083\n",
      "At random state 44,the testing accuracy is:- 0.8309225032852494\n",
      "\n",
      "\n",
      "At random state 45,the training accuracy is:- 0.8963875424029035\n",
      "At random state 45,the testing accuracy is:- 0.8915316806090338\n",
      "\n",
      "\n",
      "At random state 46,the training accuracy is:- 0.9036235036433334\n",
      "At random state 46,the testing accuracy is:- 0.8503383755246359\n",
      "\n",
      "\n",
      "At random state 47,the training accuracy is:- 0.8988386546103042\n",
      "At random state 47,the testing accuracy is:- 0.8849834045904889\n",
      "\n",
      "\n",
      "At random state 48,the training accuracy is:- 0.890542166403924\n",
      "At random state 48,the testing accuracy is:- 0.9189262097926163\n",
      "\n",
      "\n",
      "At random state 49,the training accuracy is:- 0.913865852180709\n",
      "At random state 49,the testing accuracy is:- 0.8231216329494812\n",
      "\n",
      "\n",
      "At random state 50,the training accuracy is:- 0.9013718398317787\n",
      "At random state 50,the testing accuracy is:- 0.8476464379397719\n",
      "\n",
      "\n",
      "At random state 51,the training accuracy is:- 0.8936175989328149\n",
      "At random state 51,the testing accuracy is:- 0.9076546711720634\n",
      "\n",
      "\n",
      "At random state 52,the training accuracy is:- 0.9018604295382086\n",
      "At random state 52,the testing accuracy is:- 0.8807089729330375\n",
      "\n",
      "\n",
      "At random state 53,the training accuracy is:- 0.888857938922339\n",
      "At random state 53,the testing accuracy is:- 0.9251773581549692\n",
      "\n",
      "\n",
      "At random state 54,the training accuracy is:- 0.8920887237166686\n",
      "At random state 54,the testing accuracy is:- 0.9172149618279113\n",
      "\n",
      "\n",
      "At random state 55,the training accuracy is:- 0.894930160761274\n",
      "At random state 55,the testing accuracy is:- 0.8978864477773828\n",
      "\n",
      "\n",
      "At random state 56,the training accuracy is:- 0.8989201587327643\n",
      "At random state 56,the testing accuracy is:- 0.888224634953456\n",
      "\n",
      "\n",
      "At random state 57,the training accuracy is:- 0.8825879766148067\n",
      "At random state 57,the testing accuracy is:- 0.9408099432427623\n",
      "\n",
      "\n",
      "At random state 58,the training accuracy is:- 0.9127355018257423\n",
      "At random state 58,the testing accuracy is:- 0.8401442189987403\n",
      "\n",
      "\n",
      "At random state 59,the training accuracy is:- 0.8893758445368163\n",
      "At random state 59,the testing accuracy is:- 0.9250247055288898\n",
      "\n",
      "\n",
      "At random state 60,the training accuracy is:- 0.8929488169971975\n",
      "At random state 60,the testing accuracy is:- 0.9074416119003319\n",
      "\n",
      "\n",
      "At random state 61,the training accuracy is:- 0.8995558396715964\n",
      "At random state 61,the testing accuracy is:- 0.878101642882558\n",
      "\n",
      "\n",
      "At random state 62,the training accuracy is:- 0.9120188082159291\n",
      "At random state 62,the testing accuracy is:- 0.8418326614272956\n",
      "\n",
      "\n",
      "At random state 63,the training accuracy is:- 0.8951057681539462\n",
      "At random state 63,the testing accuracy is:- 0.9005058624602784\n",
      "\n",
      "\n",
      "At random state 64,the training accuracy is:- 0.8977795664080803\n",
      "At random state 64,the testing accuracy is:- 0.8817995595827229\n",
      "\n",
      "\n",
      "At random state 65,the training accuracy is:- 0.8969891176837769\n",
      "At random state 65,the testing accuracy is:- 0.8942556589953752\n",
      "\n",
      "\n",
      "At random state 66,the training accuracy is:- 0.8992060099166295\n",
      "At random state 66,the testing accuracy is:- 0.8838295132236418\n",
      "\n",
      "\n",
      "At random state 67,the training accuracy is:- 0.8995954079489461\n",
      "At random state 67,the testing accuracy is:- 0.8813062371563375\n",
      "\n",
      "\n",
      "At random state 68,the training accuracy is:- 0.9004472797727481\n",
      "At random state 68,the testing accuracy is:- 0.8669862566176891\n",
      "\n",
      "\n",
      "At random state 69,the training accuracy is:- 0.8870476050134384\n",
      "At random state 69,the testing accuracy is:- 0.9233095015758521\n",
      "\n",
      "\n",
      "At random state 70,the training accuracy is:- 0.8862589587247461\n",
      "At random state 70,the testing accuracy is:- 0.9261899619072469\n",
      "\n",
      "\n",
      "At random state 71,the training accuracy is:- 0.9170792242159567\n",
      "At random state 71,the testing accuracy is:- 0.8214330315197064\n",
      "\n",
      "\n",
      "At random state 72,the training accuracy is:- 0.8939630309765105\n",
      "At random state 72,the testing accuracy is:- 0.9063814288042916\n",
      "\n",
      "\n",
      "At random state 73,the training accuracy is:- 0.9081745525874727\n",
      "At random state 73,the testing accuracy is:- 0.838245651416483\n",
      "\n",
      "\n",
      "At random state 74,the training accuracy is:- 0.8980451797105264\n",
      "At random state 74,the testing accuracy is:- 0.8802918295913446\n",
      "\n",
      "\n",
      "At random state 75,the training accuracy is:- 0.8944097316106918\n",
      "At random state 75,the testing accuracy is:- 0.9074740863261651\n",
      "\n",
      "\n",
      "At random state 76,the training accuracy is:- 0.9092071576699313\n",
      "At random state 76,the testing accuracy is:- 0.7531289748171518\n",
      "\n",
      "\n",
      "At random state 77,the training accuracy is:- 0.8859821552154192\n",
      "At random state 77,the testing accuracy is:- 0.937956975915543\n",
      "\n",
      "\n",
      "At random state 78,the training accuracy is:- 0.8957614044756782\n",
      "At random state 78,the testing accuracy is:- 0.9027962436962178\n",
      "\n",
      "\n",
      "At random state 79,the training accuracy is:- 0.8918809749821501\n",
      "At random state 79,the testing accuracy is:- 0.9039590138288892\n",
      "\n",
      "\n",
      "At random state 80,the training accuracy is:- 0.9169729628077916\n",
      "At random state 80,the testing accuracy is:- 0.8002879936768352\n",
      "\n",
      "\n",
      "At random state 81,the training accuracy is:- 0.9035712487248864\n",
      "At random state 81,the testing accuracy is:- 0.8609698767855934\n",
      "\n",
      "\n",
      "At random state 82,the training accuracy is:- 0.9154275126468338\n",
      "At random state 82,the testing accuracy is:- 0.8013214526563002\n",
      "\n",
      "\n",
      "At random state 83,the training accuracy is:- 0.8842230653829803\n",
      "At random state 83,the testing accuracy is:- 0.936533183297641\n",
      "\n",
      "\n",
      "At random state 84,the training accuracy is:- 0.8954723130793452\n",
      "At random state 84,the testing accuracy is:- 0.8982625547501828\n",
      "\n",
      "\n",
      "At random state 85,the training accuracy is:- 0.9086556153894079\n",
      "At random state 85,the testing accuracy is:- 0.8439750044569613\n",
      "\n",
      "\n",
      "At random state 86,the training accuracy is:- 0.8941933141983467\n",
      "At random state 86,the testing accuracy is:- 0.9101136416354886\n",
      "\n",
      "\n",
      "At random state 87,the training accuracy is:- 0.9120854281966964\n",
      "At random state 87,the testing accuracy is:- 0.7590318344044371\n",
      "\n",
      "\n",
      "At random state 88,the training accuracy is:- 0.909607024863585\n",
      "At random state 88,the testing accuracy is:- 0.8387190488012204\n",
      "\n",
      "\n",
      "At random state 89,the training accuracy is:- 0.9007733237783739\n",
      "At random state 89,the testing accuracy is:- 0.8715218402293794\n",
      "\n",
      "\n",
      "At random state 90,the training accuracy is:- 0.9035155910972225\n",
      "At random state 90,the testing accuracy is:- 0.8470679956762829\n",
      "\n",
      "\n",
      "At random state 91,the training accuracy is:- 0.8874503790642361\n",
      "At random state 91,the testing accuracy is:- 0.9040620243534963\n",
      "\n",
      "\n",
      "At random state 92,the training accuracy is:- 0.879228484038034\n",
      "At random state 92,the testing accuracy is:- 0.950983339269277\n",
      "\n",
      "\n",
      "At random state 93,the training accuracy is:- 0.8934257355566151\n",
      "At random state 93,the testing accuracy is:- 0.9092789029786972\n",
      "\n",
      "\n",
      "At random state 94,the training accuracy is:- 0.9084405371218475\n",
      "At random state 94,the testing accuracy is:- 0.8559756457570239\n",
      "\n",
      "\n",
      "At random state 95,the training accuracy is:- 0.8935661522674359\n",
      "At random state 95,the testing accuracy is:- 0.8951483094107863\n",
      "\n",
      "\n",
      "At random state 96,the training accuracy is:- 0.9038616523881903\n",
      "At random state 96,the testing accuracy is:- 0.858009872088536\n",
      "\n",
      "\n",
      "At random state 97,the training accuracy is:- 0.8906962083562392\n",
      "At random state 97,the testing accuracy is:- 0.907763020464028\n",
      "\n",
      "\n",
      "At random state 98,the training accuracy is:- 0.8820113423343215\n",
      "At random state 98,the testing accuracy is:- 0.9393724951506759\n",
      "\n",
      "\n",
      "At random state 99,the training accuracy is:- 0.8906644266587815\n",
      "At random state 99,the testing accuracy is:- 0.9201416862699034\n",
      "\n",
      "\n"
     ]
    }
   ],
   "source": [
    "for i in range(0,100):\n",
    "    features_train,features_test,target_train,target_test=train_test_split(features,target,test_size=0.2,random_state=i)\n",
    "    lr.fit(features_train,target_train)\n",
    "    pred_train=lr.predict(features_train)\n",
    "    pred_test=lr.predict(features_test)\n",
    "    print(f\"At random state {i},the training accuracy is:- {r2_score(target_train,pred_train)}\")\n",
    "    print(f\"At random state {i},the testing accuracy is:- {r2_score(target_test,pred_test)}\")\n",
    "    print(\"\\n\")"
   ]
  },
  {
   "cell_type": "code",
   "execution_count": 45,
   "id": "08a35531",
   "metadata": {},
   "outputs": [
    {
     "data": {
      "text/plain": [
       "LinearRegression()"
      ]
     },
     "execution_count": 45,
     "metadata": {},
     "output_type": "execute_result"
    }
   ],
   "source": [
    "lr.fit(features_train,target_train)"
   ]
  },
  {
   "cell_type": "code",
   "execution_count": 46,
   "id": "07564844",
   "metadata": {},
   "outputs": [],
   "source": [
    "features_train,features_test,target_train,target_test=train_test_split(features,target,test_size=0.2,random_state=57)"
   ]
  },
  {
   "cell_type": "code",
   "execution_count": 47,
   "id": "b5c24ae2",
   "metadata": {},
   "outputs": [],
   "source": [
    "pred_test=lr.predict(features_test)"
   ]
  },
  {
   "cell_type": "code",
   "execution_count": 48,
   "id": "14f0a2e7",
   "metadata": {},
   "outputs": [
    {
     "name": "stdout",
     "output_type": "stream",
     "text": [
      "0.9451596033809792\n"
     ]
    }
   ],
   "source": [
    "print(r2_score(target_test,pred_test))"
   ]
  },
  {
   "cell_type": "code",
   "execution_count": 49,
   "id": "280bd799",
   "metadata": {},
   "outputs": [
    {
     "name": "stdout",
     "output_type": "stream",
     "text": [
      " At cross fold 2 the cv score is 0.8557808905096393 and the accuracy score for the training is -0.8073942271565175 and for the testing is 0.9451596033809792\n",
      "\n",
      "\n",
      " At cross fold 3 the cv score is 0.8913539823868294 and the accuracy score for the training is -0.8073942271565175 and for the testing is 0.9451596033809792\n",
      "\n",
      "\n",
      " At cross fold 4 the cv score is 0.8858779626590163 and the accuracy score for the training is -0.8073942271565175 and for the testing is 0.9451596033809792\n",
      "\n",
      "\n",
      " At cross fold 5 the cv score is 0.8842777844741689 and the accuracy score for the training is -0.8073942271565175 and for the testing is 0.9451596033809792\n",
      "\n",
      "\n",
      " At cross fold 6 the cv score is 0.8877823078964706 and the accuracy score for the training is -0.8073942271565175 and for the testing is 0.9451596033809792\n",
      "\n",
      "\n",
      " At cross fold 7 the cv score is 0.8830284351379021 and the accuracy score for the training is -0.8073942271565175 and for the testing is 0.9451596033809792\n",
      "\n",
      "\n",
      " At cross fold 8 the cv score is 0.8795059347365249 and the accuracy score for the training is -0.8073942271565175 and for the testing is 0.9451596033809792\n",
      "\n",
      "\n",
      " At cross fold 9 the cv score is 0.879704245100306 and the accuracy score for the training is -0.8073942271565175 and for the testing is 0.9451596033809792\n",
      "\n",
      "\n"
     ]
    }
   ],
   "source": [
    "Train_accuracy=r2_score(target_train,pred_train)\n",
    "Test_accuracy=r2_score(target_test,pred_test)\n",
    "\n",
    "from sklearn.model_selection import cross_val_score\n",
    "for j in range(2,10):\n",
    "    cv_score=cross_val_score(lr,features,target,cv=j)\n",
    "    cv_mean=cv_score.mean()\n",
    "    print (f\" At cross fold {j} the cv score is {cv_mean} and the accuracy score for the training is {Train_accuracy} and for the testing is {Test_accuracy}\")\n",
    "    print(\"\\n\")"
   ]
  },
  {
   "cell_type": "code",
   "execution_count": 50,
   "id": "39c374b4",
   "metadata": {},
   "outputs": [
    {
     "data": {
      "image/png": "[encoded data removed]",
      "text/plain": [
       "<Figure size 576x432 with 1 Axes>"
      ]
     },
     "metadata": {
      "needs_background": "light"
     },
     "output_type": "display_data"
    }
   ],
   "source": [
    "import matplotlib.pyplot as plt\n",
    "plt.figure(figsize=(8,6))\n",
    "plt.scatter(x=target_test,y=pred_test,color='r')\n",
    "plt.plot(target_test,target_test,color='b')\n",
    "plt.xlabel('sales',fontsize=14)\n",
    "plt.ylabel('Predicted sales',fontsize=14)\n",
    "plt.title('Linear Regression',fontsize=18)\n",
    "plt.show()"
   ]
  },
  {
   "cell_type": "code",
   "execution_count": 51,
   "id": "29f5e458",
   "metadata": {},
   "outputs": [],
   "source": [
    "from sklearn.model_selection import GridSearchCV\n",
    "from sklearn.model_selection import cross_val_score\n",
    "import warnings\n",
    "warnings.filterwarnings ('ignore')"
   ]
  },
  {
   "cell_type": "code",
   "execution_count": 52,
   "id": "2e75f41b",
   "metadata": {},
   "outputs": [
    {
     "name": "stdout",
     "output_type": "stream",
     "text": [
      "{'alpha': 1, 'random_state': 0}\n"
     ]
    }
   ],
   "source": [
    "from sklearn.linear_model import Lasso\n",
    "\n",
    "parameters ={'alpha':[.0001,.001,.01,.1,1,10],'random_state':list(range(0,10))}\n",
    "ls=Lasso()\n",
    "clf=GridSearchCV(ls,parameters)\n",
    "clf.fit(features_train,target_train)\n",
    "\n",
    "print(clf.best_params_)"
   ]
  },
  {
   "cell_type": "code",
   "execution_count": 53,
   "id": "a3f95889",
   "metadata": {},
   "outputs": [
    {
     "data": {
      "text/plain": [
       "0.9412955867165456"
      ]
     },
     "execution_count": 53,
     "metadata": {},
     "output_type": "execute_result"
    }
   ],
   "source": [
    "ls = Lasso(alpha=1,random_state=0)\n",
    "ls.fit(features_train,target_train)\n",
    "ls.score(features_train,target_train)\n",
    "pred_ls =ls.predict(features_test)\n",
    "\n",
    "lss = r2_score(target_test,pred_ls)\n",
    "lss"
   ]
  },
  {
   "cell_type": "code",
   "execution_count": 54,
   "id": "2d9d96a3",
   "metadata": {},
   "outputs": [
    {
     "data": {
      "text/plain": [
       "0.8812459618042253"
      ]
     },
     "execution_count": 54,
     "metadata": {},
     "output_type": "execute_result"
    }
   ],
   "source": [
    "cv_score =cross_val_score(ls,features,target,cv=8)\n",
    "cv_mean=cv_score.mean()\n",
    "cv_mean"
   ]
  },
  {
   "cell_type": "code",
   "execution_count": 55,
   "id": "7ff5120d",
   "metadata": {},
   "outputs": [
    {
     "name": "stdout",
     "output_type": "stream",
     "text": [
      "{'criterion': 'mse', 'max_features': 'auto'}\n"
     ]
    }
   ],
   "source": [
    "#Ensemble Technique\n",
    "\n",
    "from sklearn.model_selection import GridSearchCV\n",
    "from sklearn.ensemble import RandomForestRegressor\n",
    "\n",
    "parameters = {'criterion':['mse','mae'],'max_features':[\"auto\",\"sqrt\",\"log2\"]}\n",
    "rf= RandomForestRegressor()\n",
    "clf= GridSearchCV(rf,parameters)\n",
    "clf.fit(features_train,target_train)\n",
    "\n",
    "print(clf.best_params_)"
   ]
  },
  {
   "cell_type": "code",
   "execution_count": 56,
   "id": "cfbdd0cb",
   "metadata": {},
   "outputs": [],
   "source": [
    "rf= RandomForestRegressor(criterion=\"mse\",max_features=\"auto\")"
   ]
  },
  {
   "cell_type": "code",
   "execution_count": 57,
   "id": "3838fa59",
   "metadata": {},
   "outputs": [
    {
     "name": "stdout",
     "output_type": "stream",
     "text": [
      "R2 Score: 98.50746709587098\n",
      "Cross Val Score: 97.38389041334428\n"
     ]
    }
   ],
   "source": [
    "rf.fit(features_train,target_train)\n",
    "rf.score(features_train,target_train)\n",
    "pred_decison = rf.predict(features_test)\n",
    "\n",
    "rfs = r2_score(target_test,pred_decison)\n",
    "print('R2 Score:',rfs*100)\n",
    "\n",
    "rfscore = cross_val_score(rf,features,target,cv=8)\n",
    "rfc=rfscore.mean()\n",
    "print('Cross Val Score:',rfc*100)"
   ]
  },
  {
   "cell_type": "code",
   "execution_count": 60,
   "id": "1f364387",
   "metadata": {},
   "outputs": [],
   "source": [
    "import pickle \n",
    "filename ='ps.pkl'\n",
    "pickle.dump(rf,open(filename,'wb'))"
   ]
  },
  {
   "cell_type": "code",
   "execution_count": 61,
   "id": "84d638a4",
   "metadata": {},
   "outputs": [
    {
     "name": "stdout",
     "output_type": "stream",
     "text": [
      "0.9850746709587098\n"
     ]
    }
   ],
   "source": [
    "loaded_model=pickle.load(open('ps.pkl','rb'))\n",
    "result=loaded_model.score(features_test,target_test)\n",
    "print(result)"
   ]
  },
  {
   "cell_type": "code",
   "execution_count": 62,
   "id": "ed601fc9",
   "metadata": {},
   "outputs": [],
   "source": [
    "conclusion =pd.DataFrame([loaded_model.predict(features_test)[:],pred_decison[:]],index=[\"predicted\",\"original\"])"
   ]
  },
  {
   "cell_type": "code",
   "execution_count": 63,
   "id": "371ae85b",
   "metadata": {},
   "outputs": [
    {
     "data": {
      "text/html": [
       "<div>\n",
       "<style scoped>\n",
       "    .dataframe tbody tr th:only-of-type {\n",
       "        vertical-align: middle;\n",
       "    }\n",
       "\n",
       "    .dataframe tbody tr th {\n",
       "        vertical-align: top;\n",
       "    }\n",
       "\n",
       "    .dataframe thead th {\n",
       "        text-align: right;\n",
       "    }\n",
       "</style>\n",
       "<table border=\"1\" class=\"dataframe\">\n",
       "  <thead>\n",
       "    <tr style=\"text-align: right;\">\n",
       "      <th></th>\n",
       "      <th>0</th>\n",
       "      <th>1</th>\n",
       "      <th>2</th>\n",
       "      <th>3</th>\n",
       "      <th>4</th>\n",
       "      <th>5</th>\n",
       "      <th>6</th>\n",
       "      <th>7</th>\n",
       "      <th>8</th>\n",
       "      <th>9</th>\n",
       "      <th>...</th>\n",
       "      <th>30</th>\n",
       "      <th>31</th>\n",
       "      <th>32</th>\n",
       "      <th>33</th>\n",
       "      <th>34</th>\n",
       "      <th>35</th>\n",
       "      <th>36</th>\n",
       "      <th>37</th>\n",
       "      <th>38</th>\n",
       "      <th>39</th>\n",
       "    </tr>\n",
       "  </thead>\n",
       "  <tbody>\n",
       "    <tr>\n",
       "      <th>predicted</th>\n",
       "      <td>22.613</td>\n",
       "      <td>14.848</td>\n",
       "      <td>9.078</td>\n",
       "      <td>13.637</td>\n",
       "      <td>18.359</td>\n",
       "      <td>18.804</td>\n",
       "      <td>10.787</td>\n",
       "      <td>12.881</td>\n",
       "      <td>18.642</td>\n",
       "      <td>9.046</td>\n",
       "      <td>...</td>\n",
       "      <td>17.979</td>\n",
       "      <td>22.02</td>\n",
       "      <td>5.895</td>\n",
       "      <td>14.166</td>\n",
       "      <td>17.534</td>\n",
       "      <td>9.43</td>\n",
       "      <td>15.477</td>\n",
       "      <td>15.912</td>\n",
       "      <td>18.441</td>\n",
       "      <td>24.19</td>\n",
       "    </tr>\n",
       "    <tr>\n",
       "      <th>original</th>\n",
       "      <td>22.613</td>\n",
       "      <td>14.848</td>\n",
       "      <td>9.078</td>\n",
       "      <td>13.637</td>\n",
       "      <td>18.359</td>\n",
       "      <td>18.804</td>\n",
       "      <td>10.787</td>\n",
       "      <td>12.881</td>\n",
       "      <td>18.642</td>\n",
       "      <td>9.046</td>\n",
       "      <td>...</td>\n",
       "      <td>17.979</td>\n",
       "      <td>22.02</td>\n",
       "      <td>5.895</td>\n",
       "      <td>14.166</td>\n",
       "      <td>17.534</td>\n",
       "      <td>9.43</td>\n",
       "      <td>15.477</td>\n",
       "      <td>15.912</td>\n",
       "      <td>18.441</td>\n",
       "      <td>24.19</td>\n",
       "    </tr>\n",
       "  </tbody>\n",
       "</table>\n",
       "<p>2 rows × 40 columns</p>\n",
       "</div>"
      ],
      "text/plain": [
       "               0       1      2       3       4       5       6       7   \\\n",
       "predicted  22.613  14.848  9.078  13.637  18.359  18.804  10.787  12.881   \n",
       "original   22.613  14.848  9.078  13.637  18.359  18.804  10.787  12.881   \n",
       "\n",
       "               8      9   ...      30     31     32      33      34    35  \\\n",
       "predicted  18.642  9.046  ...  17.979  22.02  5.895  14.166  17.534  9.43   \n",
       "original   18.642  9.046  ...  17.979  22.02  5.895  14.166  17.534  9.43   \n",
       "\n",
       "               36      37      38     39  \n",
       "predicted  15.477  15.912  18.441  24.19  \n",
       "original   15.477  15.912  18.441  24.19  \n",
       "\n",
       "[2 rows x 40 columns]"
      ]
     },
     "execution_count": 63,
     "metadata": {},
     "output_type": "execute_result"
    }
   ],
   "source": [
    "conclusion"
   ]
  },
  {
   "cell_type": "code",
   "execution_count": null,
   "id": "402c5f93",
   "metadata": {},
   "outputs": [],
   "source": []
  }
 ],
 "metadata": {
  "kernelspec": {
   "display_name": "Python 3 (ipykernel)",
   "language": "python",
   "name": "python3"
  },
  "language_info": {
   "codemirror_mode": {
    "name": "ipython",
    "version": 3
   },
   "file_extension": ".py",
   "mimetype": "text/x-python",
   "name": "python",
   "nbconvert_exporter": "python",
   "pygments_lexer": "ipython3",
   "version": "3.9.7"
  }
 },
 "nbformat": 4,
 "nbformat_minor": 5
}
