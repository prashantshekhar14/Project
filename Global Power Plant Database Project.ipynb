{
 "cells": [
  {
   "cell_type": "markdown",
   "id": "9a866102",
   "metadata": {},
   "source": [
    "# Global Power Plant Database Project"
   ]
  },
  {
   "cell_type": "markdown",
   "id": "247d1bb6",
   "metadata": {},
   "source": [
    "## Submitted by Prashant Shekhar"
   ]
  },
  {
   "cell_type": "markdown",
   "id": "1a8885bf",
   "metadata": {},
   "source": [
    "Problem Statement:\n",
    "Description\n",
    "\n",
    "The Global Power Plant Database is a comprehensive, open source database of power plants around the world. It centralizes power plant data to make it easier to navigate, compare and draw insights for one’s own analysis. The database covers approximately 35,000 power plants from 167 countries and includes thermal plants (e.g. coal, gas, oil, nuclear, biomass, waste, geothermal) and renewables (e.g. hydro, wind, solar). Each power plant is geolocated and entries contain information on plant capacity, generation, ownership, and fuel type. It will be continuously updated as data becomes available.\n"
   ]
  },
  {
   "cell_type": "code",
   "execution_count": 1,
   "id": "1ef7737f",
   "metadata": {},
   "outputs": [],
   "source": [
    "#importing required libraries\n",
    "import pandas as pd\n",
    "import numpy as np\n",
    "import matplotlib.pyplot as plt\n",
    "import seaborn as sns\n",
    "import datetime as dt\n",
    "\n",
    "import warnings\n",
    "warnings.filterwarnings('ignore')"
   ]
  },
  {
   "cell_type": "code",
   "execution_count": 3,
   "id": "62b27f6f",
   "metadata": {},
   "outputs": [],
   "source": [
    "#To print all columns and all rows\n",
    "pd.set_option('display.max_columns',None)\n",
    "#pd.set_option('display.max_rows',None)"
   ]
  },
  {
   "cell_type": "code",
   "execution_count": 4,
   "id": "8563c04d",
   "metadata": {},
   "outputs": [
    {
     "data": {
      "text/html": [
       "<div>\n",
       "<style scoped>\n",
       "    .dataframe tbody tr th:only-of-type {\n",
       "        vertical-align: middle;\n",
       "    }\n",
       "\n",
       "    .dataframe tbody tr th {\n",
       "        vertical-align: top;\n",
       "    }\n",
       "\n",
       "    .dataframe thead th {\n",
       "        text-align: right;\n",
       "    }\n",
       "</style>\n",
       "<table border=\"1\" class=\"dataframe\">\n",
       "  <thead>\n",
       "    <tr style=\"text-align: right;\">\n",
       "      <th></th>\n",
       "      <th>country</th>\n",
       "      <th>country_long</th>\n",
       "      <th>name</th>\n",
       "      <th>gppd_idnr</th>\n",
       "      <th>capacity_mw</th>\n",
       "      <th>latitude</th>\n",
       "      <th>longitude</th>\n",
       "      <th>primary_fuel</th>\n",
       "      <th>other_fuel1</th>\n",
       "      <th>other_fuel2</th>\n",
       "      <th>other_fuel3</th>\n",
       "      <th>commissioning_year</th>\n",
       "      <th>owner</th>\n",
       "      <th>source</th>\n",
       "      <th>url</th>\n",
       "      <th>geolocation_source</th>\n",
       "      <th>wepp_id</th>\n",
       "      <th>year_of_capacity_data</th>\n",
       "      <th>generation_gwh_2013</th>\n",
       "      <th>generation_gwh_2014</th>\n",
       "      <th>generation_gwh_2015</th>\n",
       "      <th>generation_gwh_2016</th>\n",
       "      <th>generation_gwh_2017</th>\n",
       "      <th>generation_gwh_2018</th>\n",
       "      <th>generation_gwh_2019</th>\n",
       "      <th>generation_data_source</th>\n",
       "      <th>estimated_generation_gwh</th>\n",
       "    </tr>\n",
       "  </thead>\n",
       "  <tbody>\n",
       "    <tr>\n",
       "      <th>0</th>\n",
       "      <td>IND</td>\n",
       "      <td>India</td>\n",
       "      <td>ACME Solar Tower</td>\n",
       "      <td>WRI1020239</td>\n",
       "      <td>2.5</td>\n",
       "      <td>28.1839</td>\n",
       "      <td>73.2407</td>\n",
       "      <td>Solar</td>\n",
       "      <td>NaN</td>\n",
       "      <td>NaN</td>\n",
       "      <td>NaN</td>\n",
       "      <td>2011.0</td>\n",
       "      <td>Solar Paces</td>\n",
       "      <td>National Renewable Energy Laboratory</td>\n",
       "      <td>http://www.nrel.gov/csp/solarpaces/project_det...</td>\n",
       "      <td>National Renewable Energy Laboratory</td>\n",
       "      <td>NaN</td>\n",
       "      <td>NaN</td>\n",
       "      <td>NaN</td>\n",
       "      <td>NaN</td>\n",
       "      <td>NaN</td>\n",
       "      <td>NaN</td>\n",
       "      <td>NaN</td>\n",
       "      <td>NaN</td>\n",
       "      <td>NaN</td>\n",
       "      <td>NaN</td>\n",
       "      <td>NaN</td>\n",
       "    </tr>\n",
       "    <tr>\n",
       "      <th>1</th>\n",
       "      <td>IND</td>\n",
       "      <td>India</td>\n",
       "      <td>ADITYA CEMENT WORKS</td>\n",
       "      <td>WRI1019881</td>\n",
       "      <td>98.0</td>\n",
       "      <td>24.7663</td>\n",
       "      <td>74.6090</td>\n",
       "      <td>Coal</td>\n",
       "      <td>NaN</td>\n",
       "      <td>NaN</td>\n",
       "      <td>NaN</td>\n",
       "      <td>NaN</td>\n",
       "      <td>Ultratech Cement ltd</td>\n",
       "      <td>Ultratech Cement ltd</td>\n",
       "      <td>http://www.ultratechcement.com/</td>\n",
       "      <td>WRI</td>\n",
       "      <td>NaN</td>\n",
       "      <td>NaN</td>\n",
       "      <td>NaN</td>\n",
       "      <td>NaN</td>\n",
       "      <td>NaN</td>\n",
       "      <td>NaN</td>\n",
       "      <td>NaN</td>\n",
       "      <td>NaN</td>\n",
       "      <td>NaN</td>\n",
       "      <td>NaN</td>\n",
       "      <td>NaN</td>\n",
       "    </tr>\n",
       "    <tr>\n",
       "      <th>2</th>\n",
       "      <td>IND</td>\n",
       "      <td>India</td>\n",
       "      <td>AES Saurashtra Windfarms</td>\n",
       "      <td>WRI1026669</td>\n",
       "      <td>39.2</td>\n",
       "      <td>21.9038</td>\n",
       "      <td>69.3732</td>\n",
       "      <td>Wind</td>\n",
       "      <td>NaN</td>\n",
       "      <td>NaN</td>\n",
       "      <td>NaN</td>\n",
       "      <td>NaN</td>\n",
       "      <td>AES</td>\n",
       "      <td>CDM</td>\n",
       "      <td>https://cdm.unfccc.int/Projects/DB/DNV-CUK1328...</td>\n",
       "      <td>WRI</td>\n",
       "      <td>NaN</td>\n",
       "      <td>NaN</td>\n",
       "      <td>NaN</td>\n",
       "      <td>NaN</td>\n",
       "      <td>NaN</td>\n",
       "      <td>NaN</td>\n",
       "      <td>NaN</td>\n",
       "      <td>NaN</td>\n",
       "      <td>NaN</td>\n",
       "      <td>NaN</td>\n",
       "      <td>NaN</td>\n",
       "    </tr>\n",
       "    <tr>\n",
       "      <th>3</th>\n",
       "      <td>IND</td>\n",
       "      <td>India</td>\n",
       "      <td>AGARTALA GT</td>\n",
       "      <td>IND0000001</td>\n",
       "      <td>135.0</td>\n",
       "      <td>23.8712</td>\n",
       "      <td>91.3602</td>\n",
       "      <td>Gas</td>\n",
       "      <td>NaN</td>\n",
       "      <td>NaN</td>\n",
       "      <td>NaN</td>\n",
       "      <td>2004.0</td>\n",
       "      <td>NaN</td>\n",
       "      <td>Central Electricity Authority</td>\n",
       "      <td>http://www.cea.nic.in/</td>\n",
       "      <td>WRI</td>\n",
       "      <td>NaN</td>\n",
       "      <td>2019.0</td>\n",
       "      <td>NaN</td>\n",
       "      <td>617.789264</td>\n",
       "      <td>843.747</td>\n",
       "      <td>886.004428</td>\n",
       "      <td>663.774500</td>\n",
       "      <td>626.239128</td>\n",
       "      <td>NaN</td>\n",
       "      <td>Central Electricity Authority</td>\n",
       "      <td>NaN</td>\n",
       "    </tr>\n",
       "    <tr>\n",
       "      <th>4</th>\n",
       "      <td>IND</td>\n",
       "      <td>India</td>\n",
       "      <td>AKALTARA TPP</td>\n",
       "      <td>IND0000002</td>\n",
       "      <td>1800.0</td>\n",
       "      <td>21.9603</td>\n",
       "      <td>82.4091</td>\n",
       "      <td>Coal</td>\n",
       "      <td>Oil</td>\n",
       "      <td>NaN</td>\n",
       "      <td>NaN</td>\n",
       "      <td>2015.0</td>\n",
       "      <td>NaN</td>\n",
       "      <td>Central Electricity Authority</td>\n",
       "      <td>http://www.cea.nic.in/</td>\n",
       "      <td>WRI</td>\n",
       "      <td>NaN</td>\n",
       "      <td>2019.0</td>\n",
       "      <td>NaN</td>\n",
       "      <td>3035.550000</td>\n",
       "      <td>5916.370</td>\n",
       "      <td>6243.000000</td>\n",
       "      <td>5385.579736</td>\n",
       "      <td>7279.000000</td>\n",
       "      <td>NaN</td>\n",
       "      <td>Central Electricity Authority</td>\n",
       "      <td>NaN</td>\n",
       "    </tr>\n",
       "  </tbody>\n",
       "</table>\n",
       "</div>"
      ],
      "text/plain": [
       "  country country_long                      name   gppd_idnr  capacity_mw  \\\n",
       "0     IND        India          ACME Solar Tower  WRI1020239          2.5   \n",
       "1     IND        India       ADITYA CEMENT WORKS  WRI1019881         98.0   \n",
       "2     IND        India  AES Saurashtra Windfarms  WRI1026669         39.2   \n",
       "3     IND        India               AGARTALA GT  IND0000001        135.0   \n",
       "4     IND        India              AKALTARA TPP  IND0000002       1800.0   \n",
       "\n",
       "   latitude  longitude primary_fuel other_fuel1 other_fuel2  other_fuel3  \\\n",
       "0   28.1839    73.2407        Solar         NaN         NaN          NaN   \n",
       "1   24.7663    74.6090         Coal         NaN         NaN          NaN   \n",
       "2   21.9038    69.3732         Wind         NaN         NaN          NaN   \n",
       "3   23.8712    91.3602          Gas         NaN         NaN          NaN   \n",
       "4   21.9603    82.4091         Coal         Oil         NaN          NaN   \n",
       "\n",
       "   commissioning_year                 owner  \\\n",
       "0              2011.0           Solar Paces   \n",
       "1                 NaN  Ultratech Cement ltd   \n",
       "2                 NaN                   AES   \n",
       "3              2004.0                   NaN   \n",
       "4              2015.0                   NaN   \n",
       "\n",
       "                                 source  \\\n",
       "0  National Renewable Energy Laboratory   \n",
       "1                  Ultratech Cement ltd   \n",
       "2                                   CDM   \n",
       "3         Central Electricity Authority   \n",
       "4         Central Electricity Authority   \n",
       "\n",
       "                                                 url  \\\n",
       "0  http://www.nrel.gov/csp/solarpaces/project_det...   \n",
       "1                    http://www.ultratechcement.com/   \n",
       "2  https://cdm.unfccc.int/Projects/DB/DNV-CUK1328...   \n",
       "3                             http://www.cea.nic.in/   \n",
       "4                             http://www.cea.nic.in/   \n",
       "\n",
       "                     geolocation_source  wepp_id  year_of_capacity_data  \\\n",
       "0  National Renewable Energy Laboratory      NaN                    NaN   \n",
       "1                                   WRI      NaN                    NaN   \n",
       "2                                   WRI      NaN                    NaN   \n",
       "3                                   WRI      NaN                 2019.0   \n",
       "4                                   WRI      NaN                 2019.0   \n",
       "\n",
       "   generation_gwh_2013  generation_gwh_2014  generation_gwh_2015  \\\n",
       "0                  NaN                  NaN                  NaN   \n",
       "1                  NaN                  NaN                  NaN   \n",
       "2                  NaN                  NaN                  NaN   \n",
       "3                  NaN           617.789264              843.747   \n",
       "4                  NaN          3035.550000             5916.370   \n",
       "\n",
       "   generation_gwh_2016  generation_gwh_2017  generation_gwh_2018  \\\n",
       "0                  NaN                  NaN                  NaN   \n",
       "1                  NaN                  NaN                  NaN   \n",
       "2                  NaN                  NaN                  NaN   \n",
       "3           886.004428           663.774500           626.239128   \n",
       "4          6243.000000          5385.579736          7279.000000   \n",
       "\n",
       "   generation_gwh_2019         generation_data_source  \\\n",
       "0                  NaN                            NaN   \n",
       "1                  NaN                            NaN   \n",
       "2                  NaN                            NaN   \n",
       "3                  NaN  Central Electricity Authority   \n",
       "4                  NaN  Central Electricity Authority   \n",
       "\n",
       "   estimated_generation_gwh  \n",
       "0                       NaN  \n",
       "1                       NaN  \n",
       "2                       NaN  \n",
       "3                       NaN  \n",
       "4                       NaN  "
      ]
     },
     "execution_count": 4,
     "metadata": {},
     "output_type": "execute_result"
    }
   ],
   "source": [
    "#importing data\n",
    "df=pd.read_csv(\"D:/Global.csv\") #Reading csv file\n",
    "df.head()"
   ]
  },
  {
   "cell_type": "markdown",
   "id": "75be28ac",
   "metadata": {},
   "source": [
    "## Data description:"
   ]
  },
  {
   "cell_type": "raw",
   "id": "6748f048",
   "metadata": {},
   "source": [
    "country :- 3 character country code corresponding to the ISO 3166-1 alpha-3 specification.\n",
    "country_long :- longer form of the country designation.\n",
    "name :- name or title of the power plant, generally in Romanized form.\n",
    "gppd_idnr :- 10 or 12 character identifier for the power plant.\n",
    "capacity_mw :- electrical generating capacity in megawatts.\n",
    "latitude :- geolocation in decimal degrees; WGS84 (EPSG:4326).\n",
    "longitude :- geolocation in decimal degrees; WGS84 (EPSG:4326).\n",
    "primary_fuel :- energy source used in primary electricity generation or export.\n",
    "other_fuel1 :- energy source used in electricity generation or export.\n",
    "other_fuel2 :- energy source used in electricity generation or export.\n",
    "other_fuel3 :- energy source used in electricity generation or export.\n",
    "commissioning_year :- year of plant operation, weighted by unit-capacity when data is available.\n",
    "owner :- majority shareholder of the power plant, generally in Romanized form.\n",
    "source :- entity reporting the data; could be an organization, report, or document, generally in Romanized form.\n",
    "url :- web document corresponding to the source field.\n",
    "geolocation_source :- attribution for geolocation information.\n",
    "wepp_id :- a reference to a unique plant identifier in the widely-used PLATTS-WEPP database.\n",
    "year_of_capacity_data :- year the capacity information was reported.\n",
    "generation_gwh_2013 :- electricity generation in gigawatt-hours reported for the year 2013.\n",
    "generation_gwh_2014 :- electricity generation in gigawatt-hours reported for the year 2014.\n",
    "generation_gwh_2015 :- electricity generation in gigawatt-hours reported for the year 2015.\n",
    "generation_gwh_2016 :- electricity generation in gigawatt-hours reported for the year 2016.\n",
    "generation_gwh_2017 :- electricity generation in gigawatt-hours reported for the year 2017.\n",
    "generation_data_source :- attribution for the reported generation information.\n",
    "estimated_generation_gwh :- estimated annual electricity generation in gigawatt-hours."
   ]
  },
  {
   "cell_type": "markdown",
   "id": "dbb08149",
   "metadata": {},
   "source": [
    "In this perticular problem i have two targets i have to find out predictions for Fuel type and capacity_mw."
   ]
  },
  {
   "cell_type": "markdown",
   "id": "13f46148",
   "metadata": {},
   "source": [
    "If i consider Fuel type as target then i have to take classification models to predict and\n",
    "If i consider capacity_mw as target then i have to take Regression models to predict."
   ]
  },
  {
   "cell_type": "code",
   "execution_count": 6,
   "id": "9067344d",
   "metadata": {},
   "outputs": [],
   "source": [
    "#Lets rename the column primary_fuel with Fuel_type as in the statement it is asked to predict Fuel_type\n",
    "df.rename(columns={'primary_fuel':'Fuel_type'},inplace=True)"
   ]
  },
  {
   "cell_type": "markdown",
   "id": "7adfd986",
   "metadata": {},
   "source": [
    "## EDA:"
   ]
  },
  {
   "cell_type": "code",
   "execution_count": 5,
   "id": "2afd01a6",
   "metadata": {},
   "outputs": [
    {
     "data": {
      "text/plain": [
       "(907, 27)"
      ]
     },
     "execution_count": 5,
     "metadata": {},
     "output_type": "execute_result"
    }
   ],
   "source": [
    "#Checking shape of dataset\n",
    "df.shape"
   ]
  },
  {
   "cell_type": "markdown",
   "id": "73283286",
   "metadata": {},
   "source": [
    "In this perticular dataset i have 907 rows and 25 columns."
   ]
  },
  {
   "cell_type": "code",
   "execution_count": 8,
   "id": "f8411145",
   "metadata": {},
   "outputs": [
    {
     "data": {
      "text/plain": [
       "Index(['country', 'country_long', 'name', 'gppd_idnr', 'capacity_mw',\n",
       "       'latitude', 'longitude', 'primary_fuel', 'other_fuel1', 'other_fuel2',\n",
       "       'other_fuel3', 'commissioning_year', 'owner', 'source', 'url',\n",
       "       'geolocation_source', 'wepp_id', 'year_of_capacity_data',\n",
       "       'generation_gwh_2013', 'generation_gwh_2014', 'generation_gwh_2015',\n",
       "       'generation_gwh_2016', 'generation_gwh_2017', 'generation_gwh_2018',\n",
       "       'generation_gwh_2019', 'generation_data_source',\n",
       "       'estimated_generation_gwh'],\n",
       "      dtype='object')"
      ]
     },
     "execution_count": 8,
     "metadata": {},
     "output_type": "execute_result"
    }
   ],
   "source": [
    "\n",
    "#Checking all column names\n",
    "df.columns"
   ]
  },
  {
   "cell_type": "markdown",
   "id": "34c28fdb",
   "metadata": {},
   "source": [
    "Above are the column names of my dataset."
   ]
  },
  {
   "cell_type": "code",
   "execution_count": 9,
   "id": "147b8f05",
   "metadata": {},
   "outputs": [
    {
     "data": {
      "text/plain": [
       "country                      object\n",
       "country_long                 object\n",
       "name                         object\n",
       "gppd_idnr                    object\n",
       "capacity_mw                 float64\n",
       "latitude                    float64\n",
       "longitude                   float64\n",
       "primary_fuel                 object\n",
       "other_fuel1                  object\n",
       "other_fuel2                  object\n",
       "other_fuel3                 float64\n",
       "commissioning_year          float64\n",
       "owner                        object\n",
       "source                       object\n",
       "url                          object\n",
       "geolocation_source           object\n",
       "wepp_id                     float64\n",
       "year_of_capacity_data       float64\n",
       "generation_gwh_2013         float64\n",
       "generation_gwh_2014         float64\n",
       "generation_gwh_2015         float64\n",
       "generation_gwh_2016         float64\n",
       "generation_gwh_2017         float64\n",
       "generation_gwh_2018         float64\n",
       "generation_gwh_2019         float64\n",
       "generation_data_source       object\n",
       "estimated_generation_gwh    float64\n",
       "dtype: object"
      ]
     },
     "execution_count": 9,
     "metadata": {},
     "output_type": "execute_result"
    }
   ],
   "source": [
    "#Checking the data types of all columns\n",
    "df.dtypes"
   ]
  },
  {
   "cell_type": "markdown",
   "id": "806f8d64",
   "metadata": {},
   "source": [
    "Above are the data types of each column in the dataset."
   ]
  },
  {
   "cell_type": "code",
   "execution_count": 10,
   "id": "20584abe",
   "metadata": {},
   "outputs": [
    {
     "name": "stdout",
     "output_type": "stream",
     "text": [
      "<class 'pandas.core.frame.DataFrame'>\n",
      "RangeIndex: 907 entries, 0 to 906\n",
      "Data columns (total 27 columns):\n",
      " #   Column                    Non-Null Count  Dtype  \n",
      "---  ------                    --------------  -----  \n",
      " 0   country                   907 non-null    object \n",
      " 1   country_long              907 non-null    object \n",
      " 2   name                      907 non-null    object \n",
      " 3   gppd_idnr                 907 non-null    object \n",
      " 4   capacity_mw               907 non-null    float64\n",
      " 5   latitude                  861 non-null    float64\n",
      " 6   longitude                 861 non-null    float64\n",
      " 7   primary_fuel              907 non-null    object \n",
      " 8   other_fuel1               198 non-null    object \n",
      " 9   other_fuel2               1 non-null      object \n",
      " 10  other_fuel3               0 non-null      float64\n",
      " 11  commissioning_year        527 non-null    float64\n",
      " 12  owner                     342 non-null    object \n",
      " 13  source                    907 non-null    object \n",
      " 14  url                       907 non-null    object \n",
      " 15  geolocation_source        888 non-null    object \n",
      " 16  wepp_id                   0 non-null      float64\n",
      " 17  year_of_capacity_data     519 non-null    float64\n",
      " 18  generation_gwh_2013       0 non-null      float64\n",
      " 19  generation_gwh_2014       398 non-null    float64\n",
      " 20  generation_gwh_2015       422 non-null    float64\n",
      " 21  generation_gwh_2016       434 non-null    float64\n",
      " 22  generation_gwh_2017       440 non-null    float64\n",
      " 23  generation_gwh_2018       448 non-null    float64\n",
      " 24  generation_gwh_2019       0 non-null      float64\n",
      " 25  generation_data_source    449 non-null    object \n",
      " 26  estimated_generation_gwh  0 non-null      float64\n",
      "dtypes: float64(15), object(12)\n",
      "memory usage: 191.4+ KB\n"
     ]
    }
   ],
   "source": [
    "#Checking the info about the dataset\n",
    "df.info()"
   ]
  },
  {
   "cell_type": "markdown",
   "id": "ca7410ec",
   "metadata": {},
   "source": [
    "I can clearly observe that there are some null values in some columns of the dataset.\n",
    "other_fuel3, wepp_id and estimated_generation_gwh has all NaN values keeping all the values in a column as NaN has no meaning so i can drop these 3 columns.\n",
    "other_fuel2 has only one non null value which means all other values are NaN so this column also has nothing to do with my data training."
   ]
  },
  {
   "cell_type": "code",
   "execution_count": 7,
   "id": "ad284fad",
   "metadata": {},
   "outputs": [],
   "source": [
    "#Droping unnecessary columns\n",
    "df = df.drop([\"other_fuel3\"],axis=1)\n",
    "df = df.drop([\"wepp_id\"],axis=1)\n",
    "df = df.drop([\"estimated_generation_gwh\"],axis=1)\n",
    "df = df.drop([\"other_fuel2\"],axis=1)"
   ]
  },
  {
   "cell_type": "code",
   "execution_count": 12,
   "id": "fa1aba5b",
   "metadata": {},
   "outputs": [
    {
     "data": {
      "text/plain": [
       "country                     1\n",
       "country_long                1\n",
       "name                      907\n",
       "gppd_idnr                 907\n",
       "capacity_mw               361\n",
       "latitude                  836\n",
       "longitude                 827\n",
       "primary_fuel                8\n",
       "other_fuel1                 3\n",
       "commissioning_year         73\n",
       "owner                     280\n",
       "source                    191\n",
       "url                       304\n",
       "geolocation_source          3\n",
       "year_of_capacity_data       1\n",
       "generation_gwh_2013         0\n",
       "generation_gwh_2014       371\n",
       "generation_gwh_2015       396\n",
       "generation_gwh_2016       403\n",
       "generation_gwh_2017       408\n",
       "generation_gwh_2018       410\n",
       "generation_gwh_2019         0\n",
       "generation_data_source      1\n",
       "dtype: int64"
      ]
     },
     "execution_count": 12,
     "metadata": {},
     "output_type": "execute_result"
    }
   ],
   "source": [
    "#Checking unique values of each column\n",
    "df.nunique()"
   ]
  },
  {
   "cell_type": "markdown",
   "id": "07db9d60",
   "metadata": {},
   "source": [
    "country, country_long, year_of_capacity_data and generation_data_source has only one unique count which means all the values of the column are same so no need to keep all these columns unnecessarily."
   ]
  },
  {
   "cell_type": "code",
   "execution_count": 8,
   "id": "8475ae00",
   "metadata": {},
   "outputs": [],
   "source": [
    "#Droping unnecessary columns\n",
    "df = df.drop([\"country\"],axis=1)\n",
    "df = df.drop([\"country_long\"],axis=1)\n",
    "df = df.drop([\"year_of_capacity_data\"],axis=1)\n",
    "df = df.drop([\"generation_data_source\"],axis=1)"
   ]
  },
  {
   "cell_type": "code",
   "execution_count": 16,
   "id": "f42632b5",
   "metadata": {},
   "outputs": [
    {
     "data": {
      "text/html": [
       "<div>\n",
       "<style scoped>\n",
       "    .dataframe tbody tr th:only-of-type {\n",
       "        vertical-align: middle;\n",
       "    }\n",
       "\n",
       "    .dataframe tbody tr th {\n",
       "        vertical-align: top;\n",
       "    }\n",
       "\n",
       "    .dataframe thead th {\n",
       "        text-align: right;\n",
       "    }\n",
       "</style>\n",
       "<table border=\"1\" class=\"dataframe\">\n",
       "  <thead>\n",
       "    <tr style=\"text-align: right;\">\n",
       "      <th></th>\n",
       "      <th>name</th>\n",
       "      <th>gppd_idnr</th>\n",
       "      <th>capacity_mw</th>\n",
       "      <th>latitude</th>\n",
       "      <th>longitude</th>\n",
       "      <th>primary_fuel</th>\n",
       "      <th>other_fuel1</th>\n",
       "      <th>commissioning_year</th>\n",
       "      <th>owner</th>\n",
       "      <th>source</th>\n",
       "      <th>url</th>\n",
       "      <th>geolocation_source</th>\n",
       "      <th>generation_gwh_2013</th>\n",
       "      <th>generation_gwh_2014</th>\n",
       "      <th>generation_gwh_2015</th>\n",
       "      <th>generation_gwh_2016</th>\n",
       "      <th>generation_gwh_2017</th>\n",
       "      <th>generation_gwh_2018</th>\n",
       "      <th>generation_gwh_2019</th>\n",
       "    </tr>\n",
       "  </thead>\n",
       "  <tbody>\n",
       "    <tr>\n",
       "      <th>0</th>\n",
       "      <td>ACME Solar Tower</td>\n",
       "      <td>WRI1020239</td>\n",
       "      <td>2.5</td>\n",
       "      <td>28.1839</td>\n",
       "      <td>73.2407</td>\n",
       "      <td>Solar</td>\n",
       "      <td>NaN</td>\n",
       "      <td>2011.0</td>\n",
       "      <td>Solar Paces</td>\n",
       "      <td>National Renewable Energy Laboratory</td>\n",
       "      <td>http://www.nrel.gov/csp/solarpaces/project_det...</td>\n",
       "      <td>National Renewable Energy Laboratory</td>\n",
       "      <td>NaN</td>\n",
       "      <td>NaN</td>\n",
       "      <td>NaN</td>\n",
       "      <td>NaN</td>\n",
       "      <td>NaN</td>\n",
       "      <td>NaN</td>\n",
       "      <td>NaN</td>\n",
       "    </tr>\n",
       "    <tr>\n",
       "      <th>1</th>\n",
       "      <td>ADITYA CEMENT WORKS</td>\n",
       "      <td>WRI1019881</td>\n",
       "      <td>98.0</td>\n",
       "      <td>24.7663</td>\n",
       "      <td>74.6090</td>\n",
       "      <td>Coal</td>\n",
       "      <td>NaN</td>\n",
       "      <td>NaN</td>\n",
       "      <td>Ultratech Cement ltd</td>\n",
       "      <td>Ultratech Cement ltd</td>\n",
       "      <td>http://www.ultratechcement.com/</td>\n",
       "      <td>WRI</td>\n",
       "      <td>NaN</td>\n",
       "      <td>NaN</td>\n",
       "      <td>NaN</td>\n",
       "      <td>NaN</td>\n",
       "      <td>NaN</td>\n",
       "      <td>NaN</td>\n",
       "      <td>NaN</td>\n",
       "    </tr>\n",
       "    <tr>\n",
       "      <th>2</th>\n",
       "      <td>AES Saurashtra Windfarms</td>\n",
       "      <td>WRI1026669</td>\n",
       "      <td>39.2</td>\n",
       "      <td>21.9038</td>\n",
       "      <td>69.3732</td>\n",
       "      <td>Wind</td>\n",
       "      <td>NaN</td>\n",
       "      <td>NaN</td>\n",
       "      <td>AES</td>\n",
       "      <td>CDM</td>\n",
       "      <td>https://cdm.unfccc.int/Projects/DB/DNV-CUK1328...</td>\n",
       "      <td>WRI</td>\n",
       "      <td>NaN</td>\n",
       "      <td>NaN</td>\n",
       "      <td>NaN</td>\n",
       "      <td>NaN</td>\n",
       "      <td>NaN</td>\n",
       "      <td>NaN</td>\n",
       "      <td>NaN</td>\n",
       "    </tr>\n",
       "    <tr>\n",
       "      <th>3</th>\n",
       "      <td>AGARTALA GT</td>\n",
       "      <td>IND0000001</td>\n",
       "      <td>135.0</td>\n",
       "      <td>23.8712</td>\n",
       "      <td>91.3602</td>\n",
       "      <td>Gas</td>\n",
       "      <td>NaN</td>\n",
       "      <td>2004.0</td>\n",
       "      <td>NaN</td>\n",
       "      <td>Central Electricity Authority</td>\n",
       "      <td>http://www.cea.nic.in/</td>\n",
       "      <td>WRI</td>\n",
       "      <td>NaN</td>\n",
       "      <td>617.789264</td>\n",
       "      <td>843.747</td>\n",
       "      <td>886.004428</td>\n",
       "      <td>663.774500</td>\n",
       "      <td>626.239128</td>\n",
       "      <td>NaN</td>\n",
       "    </tr>\n",
       "    <tr>\n",
       "      <th>4</th>\n",
       "      <td>AKALTARA TPP</td>\n",
       "      <td>IND0000002</td>\n",
       "      <td>1800.0</td>\n",
       "      <td>21.9603</td>\n",
       "      <td>82.4091</td>\n",
       "      <td>Coal</td>\n",
       "      <td>Oil</td>\n",
       "      <td>2015.0</td>\n",
       "      <td>NaN</td>\n",
       "      <td>Central Electricity Authority</td>\n",
       "      <td>http://www.cea.nic.in/</td>\n",
       "      <td>WRI</td>\n",
       "      <td>NaN</td>\n",
       "      <td>3035.550000</td>\n",
       "      <td>5916.370</td>\n",
       "      <td>6243.000000</td>\n",
       "      <td>5385.579736</td>\n",
       "      <td>7279.000000</td>\n",
       "      <td>NaN</td>\n",
       "    </tr>\n",
       "  </tbody>\n",
       "</table>\n",
       "</div>"
      ],
      "text/plain": [
       "                       name   gppd_idnr  capacity_mw  latitude  longitude  \\\n",
       "0          ACME Solar Tower  WRI1020239          2.5   28.1839    73.2407   \n",
       "1       ADITYA CEMENT WORKS  WRI1019881         98.0   24.7663    74.6090   \n",
       "2  AES Saurashtra Windfarms  WRI1026669         39.2   21.9038    69.3732   \n",
       "3               AGARTALA GT  IND0000001        135.0   23.8712    91.3602   \n",
       "4              AKALTARA TPP  IND0000002       1800.0   21.9603    82.4091   \n",
       "\n",
       "  primary_fuel other_fuel1  commissioning_year                 owner  \\\n",
       "0        Solar         NaN              2011.0           Solar Paces   \n",
       "1         Coal         NaN                 NaN  Ultratech Cement ltd   \n",
       "2         Wind         NaN                 NaN                   AES   \n",
       "3          Gas         NaN              2004.0                   NaN   \n",
       "4         Coal         Oil              2015.0                   NaN   \n",
       "\n",
       "                                 source  \\\n",
       "0  National Renewable Energy Laboratory   \n",
       "1                  Ultratech Cement ltd   \n",
       "2                                   CDM   \n",
       "3         Central Electricity Authority   \n",
       "4         Central Electricity Authority   \n",
       "\n",
       "                                                 url  \\\n",
       "0  http://www.nrel.gov/csp/solarpaces/project_det...   \n",
       "1                    http://www.ultratechcement.com/   \n",
       "2  https://cdm.unfccc.int/Projects/DB/DNV-CUK1328...   \n",
       "3                             http://www.cea.nic.in/   \n",
       "4                             http://www.cea.nic.in/   \n",
       "\n",
       "                     geolocation_source  generation_gwh_2013  \\\n",
       "0  National Renewable Energy Laboratory                  NaN   \n",
       "1                                   WRI                  NaN   \n",
       "2                                   WRI                  NaN   \n",
       "3                                   WRI                  NaN   \n",
       "4                                   WRI                  NaN   \n",
       "\n",
       "   generation_gwh_2014  generation_gwh_2015  generation_gwh_2016  \\\n",
       "0                  NaN                  NaN                  NaN   \n",
       "1                  NaN                  NaN                  NaN   \n",
       "2                  NaN                  NaN                  NaN   \n",
       "3           617.789264              843.747           886.004428   \n",
       "4          3035.550000             5916.370          6243.000000   \n",
       "\n",
       "   generation_gwh_2017  generation_gwh_2018  generation_gwh_2019  \n",
       "0                  NaN                  NaN                  NaN  \n",
       "1                  NaN                  NaN                  NaN  \n",
       "2                  NaN                  NaN                  NaN  \n",
       "3           663.774500           626.239128                  NaN  \n",
       "4          5385.579736          7279.000000                  NaN  "
      ]
     },
     "execution_count": 16,
     "metadata": {},
     "output_type": "execute_result"
    }
   ],
   "source": [
    "#Printing the data set after removing columns\n",
    "df.head()"
   ]
  },
  {
   "cell_type": "code",
   "execution_count": 9,
   "id": "179819ed",
   "metadata": {},
   "outputs": [
    {
     "data": {
      "text/plain": [
       "ACME Solar Tower           1\n",
       "RAICHUR                    1\n",
       "PRYAGRAJ (BARA) TPP        1\n",
       "PULICHINTALA               1\n",
       "PUNE MILL                  1\n",
       "                          ..\n",
       "KADANA                     1\n",
       "KADRA                      1\n",
       "KAHALGAON                  1\n",
       "KAIGA                      1\n",
       "iEnergy Theni Wind Farm    1\n",
       "Name: name, Length: 907, dtype: int64"
      ]
     },
     "execution_count": 9,
     "metadata": {},
     "output_type": "execute_result"
    }
   ],
   "source": [
    "#lets check the name column entries\n",
    "df['name'].value_counts()"
   ]
  },
  {
   "cell_type": "code",
   "execution_count": 10,
   "id": "02f9297a",
   "metadata": {},
   "outputs": [
    {
     "data": {
      "text/plain": [
       "WRI1020239    1\n",
       "IND0000356    1\n",
       "IND0000346    1\n",
       "IND0000523    1\n",
       "WRI1019978    1\n",
       "             ..\n",
       "IND0000167    1\n",
       "IND0000168    1\n",
       "IND0000169    1\n",
       "IND0000170    1\n",
       "WRI1026761    1\n",
       "Name: gppd_idnr, Length: 907, dtype: int64"
      ]
     },
     "execution_count": 10,
     "metadata": {},
     "output_type": "execute_result"
    }
   ],
   "source": [
    "#lets check the gppd_idnr column entries\n",
    "df['gppd_idnr'].value_counts()"
   ]
  },
  {
   "cell_type": "markdown",
   "id": "3bb1ebb7",
   "metadata": {},
   "source": [
    "\n",
    "gppd_idnr also has all the values unique so let me drop it since it can not contribute to model training."
   ]
  },
  {
   "cell_type": "code",
   "execution_count": 11,
   "id": "0c22c22d",
   "metadata": {},
   "outputs": [
    {
     "data": {
      "text/plain": [
       "Central Electricity Authority                                  519\n",
       "CDM                                                            124\n",
       "Lancosola                                                       10\n",
       "National Renewable Energy Laboratory                             8\n",
       "National Thermal Power Corporation (NTPC)                        6\n",
       "                                                              ... \n",
       "Harsha Engineers Limited                                         1\n",
       "Godawari Energy ltd                                              1\n",
       "Sunkon Energy Private Limited                                    1\n",
       "West Bengal Energy Development Corporation Limited (WBEDCL)      1\n",
       "Yashwantrao Krishna ssk                                          1\n",
       "Name: source, Length: 191, dtype: int64"
      ]
     },
     "execution_count": 11,
     "metadata": {},
     "output_type": "execute_result"
    }
   ],
   "source": [
    "#lets check entries in source column\n",
    "df[\"source\"].value_counts()"
   ]
  },
  {
   "cell_type": "code",
   "execution_count": 12,
   "id": "f070d49c",
   "metadata": {},
   "outputs": [
    {
     "data": {
      "text/plain": [
       "Acc Acc ltd                                                    4\n",
       "Sterling Agro Industries ltd.                                  4\n",
       "Jk Cement ltd                                                  4\n",
       "SWPPL                                                          3\n",
       "Jaypee Ltd jccl)                                               3\n",
       "                                                              ..\n",
       "Sunkon Energy Private Limited                                  1\n",
       "West Bengal Energy Development Corporation Limited (WBEDCL)    1\n",
       "Energy Infratech Private Limited                               1\n",
       "K. N. Ram                                                      1\n",
       "iEnergy Wind Farms                                             1\n",
       "Name: owner, Length: 280, dtype: int64"
      ]
     },
     "execution_count": 12,
     "metadata": {},
     "output_type": "execute_result"
    }
   ],
   "source": [
    "#lets check entries in source column\n",
    "df[\"owner\"].value_counts()"
   ]
  },
  {
   "cell_type": "markdown",
   "id": "efc7d81a",
   "metadata": {},
   "source": [
    "Owner also looks like an unnecessary column since keeping all owner names will never distrub or give inputs to my prediction so i think i have to drop this column.\n",
    "\n",
    "And url column also has no input for prediction ao i can this column as well."
   ]
  },
  {
   "cell_type": "code",
   "execution_count": 13,
   "id": "3ce329e8",
   "metadata": {},
   "outputs": [],
   "source": [
    "#Droping unnecessary columns\n",
    "df = df.drop([\"name\"],axis=1)\n",
    "df = df.drop([\"gppd_idnr\"],axis=1)\n",
    "df = df.drop([\"url\"],axis=1)\n",
    "df = df.drop([\"owner\"],axis=1)"
   ]
  },
  {
   "cell_type": "code",
   "execution_count": 14,
   "id": "76ddff38",
   "metadata": {},
   "outputs": [
    {
     "data": {
      "text/html": [
       "<div>\n",
       "<style scoped>\n",
       "    .dataframe tbody tr th:only-of-type {\n",
       "        vertical-align: middle;\n",
       "    }\n",
       "\n",
       "    .dataframe tbody tr th {\n",
       "        vertical-align: top;\n",
       "    }\n",
       "\n",
       "    .dataframe thead th {\n",
       "        text-align: right;\n",
       "    }\n",
       "</style>\n",
       "<table border=\"1\" class=\"dataframe\">\n",
       "  <thead>\n",
       "    <tr style=\"text-align: right;\">\n",
       "      <th></th>\n",
       "      <th>capacity_mw</th>\n",
       "      <th>latitude</th>\n",
       "      <th>longitude</th>\n",
       "      <th>Fuel_type</th>\n",
       "      <th>other_fuel1</th>\n",
       "      <th>commissioning_year</th>\n",
       "      <th>source</th>\n",
       "      <th>geolocation_source</th>\n",
       "      <th>generation_gwh_2013</th>\n",
       "      <th>generation_gwh_2014</th>\n",
       "      <th>generation_gwh_2015</th>\n",
       "      <th>generation_gwh_2016</th>\n",
       "      <th>generation_gwh_2017</th>\n",
       "      <th>generation_gwh_2018</th>\n",
       "      <th>generation_gwh_2019</th>\n",
       "    </tr>\n",
       "  </thead>\n",
       "  <tbody>\n",
       "    <tr>\n",
       "      <th>0</th>\n",
       "      <td>2.5</td>\n",
       "      <td>28.1839</td>\n",
       "      <td>73.2407</td>\n",
       "      <td>Solar</td>\n",
       "      <td>NaN</td>\n",
       "      <td>2011.0</td>\n",
       "      <td>National Renewable Energy Laboratory</td>\n",
       "      <td>National Renewable Energy Laboratory</td>\n",
       "      <td>NaN</td>\n",
       "      <td>NaN</td>\n",
       "      <td>NaN</td>\n",
       "      <td>NaN</td>\n",
       "      <td>NaN</td>\n",
       "      <td>NaN</td>\n",
       "      <td>NaN</td>\n",
       "    </tr>\n",
       "    <tr>\n",
       "      <th>1</th>\n",
       "      <td>98.0</td>\n",
       "      <td>24.7663</td>\n",
       "      <td>74.6090</td>\n",
       "      <td>Coal</td>\n",
       "      <td>NaN</td>\n",
       "      <td>NaN</td>\n",
       "      <td>Ultratech Cement ltd</td>\n",
       "      <td>WRI</td>\n",
       "      <td>NaN</td>\n",
       "      <td>NaN</td>\n",
       "      <td>NaN</td>\n",
       "      <td>NaN</td>\n",
       "      <td>NaN</td>\n",
       "      <td>NaN</td>\n",
       "      <td>NaN</td>\n",
       "    </tr>\n",
       "    <tr>\n",
       "      <th>2</th>\n",
       "      <td>39.2</td>\n",
       "      <td>21.9038</td>\n",
       "      <td>69.3732</td>\n",
       "      <td>Wind</td>\n",
       "      <td>NaN</td>\n",
       "      <td>NaN</td>\n",
       "      <td>CDM</td>\n",
       "      <td>WRI</td>\n",
       "      <td>NaN</td>\n",
       "      <td>NaN</td>\n",
       "      <td>NaN</td>\n",
       "      <td>NaN</td>\n",
       "      <td>NaN</td>\n",
       "      <td>NaN</td>\n",
       "      <td>NaN</td>\n",
       "    </tr>\n",
       "    <tr>\n",
       "      <th>3</th>\n",
       "      <td>135.0</td>\n",
       "      <td>23.8712</td>\n",
       "      <td>91.3602</td>\n",
       "      <td>Gas</td>\n",
       "      <td>NaN</td>\n",
       "      <td>2004.0</td>\n",
       "      <td>Central Electricity Authority</td>\n",
       "      <td>WRI</td>\n",
       "      <td>NaN</td>\n",
       "      <td>617.789264</td>\n",
       "      <td>843.747</td>\n",
       "      <td>886.004428</td>\n",
       "      <td>663.774500</td>\n",
       "      <td>626.239128</td>\n",
       "      <td>NaN</td>\n",
       "    </tr>\n",
       "    <tr>\n",
       "      <th>4</th>\n",
       "      <td>1800.0</td>\n",
       "      <td>21.9603</td>\n",
       "      <td>82.4091</td>\n",
       "      <td>Coal</td>\n",
       "      <td>Oil</td>\n",
       "      <td>2015.0</td>\n",
       "      <td>Central Electricity Authority</td>\n",
       "      <td>WRI</td>\n",
       "      <td>NaN</td>\n",
       "      <td>3035.550000</td>\n",
       "      <td>5916.370</td>\n",
       "      <td>6243.000000</td>\n",
       "      <td>5385.579736</td>\n",
       "      <td>7279.000000</td>\n",
       "      <td>NaN</td>\n",
       "    </tr>\n",
       "  </tbody>\n",
       "</table>\n",
       "</div>"
      ],
      "text/plain": [
       "   capacity_mw  latitude  longitude Fuel_type other_fuel1  commissioning_year  \\\n",
       "0          2.5   28.1839    73.2407     Solar         NaN              2011.0   \n",
       "1         98.0   24.7663    74.6090      Coal         NaN                 NaN   \n",
       "2         39.2   21.9038    69.3732      Wind         NaN                 NaN   \n",
       "3        135.0   23.8712    91.3602       Gas         NaN              2004.0   \n",
       "4       1800.0   21.9603    82.4091      Coal         Oil              2015.0   \n",
       "\n",
       "                                 source                    geolocation_source  \\\n",
       "0  National Renewable Energy Laboratory  National Renewable Energy Laboratory   \n",
       "1                  Ultratech Cement ltd                                   WRI   \n",
       "2                                   CDM                                   WRI   \n",
       "3         Central Electricity Authority                                   WRI   \n",
       "4         Central Electricity Authority                                   WRI   \n",
       "\n",
       "   generation_gwh_2013  generation_gwh_2014  generation_gwh_2015  \\\n",
       "0                  NaN                  NaN                  NaN   \n",
       "1                  NaN                  NaN                  NaN   \n",
       "2                  NaN                  NaN                  NaN   \n",
       "3                  NaN           617.789264              843.747   \n",
       "4                  NaN          3035.550000             5916.370   \n",
       "\n",
       "   generation_gwh_2016  generation_gwh_2017  generation_gwh_2018  \\\n",
       "0                  NaN                  NaN                  NaN   \n",
       "1                  NaN                  NaN                  NaN   \n",
       "2                  NaN                  NaN                  NaN   \n",
       "3           886.004428           663.774500           626.239128   \n",
       "4          6243.000000          5385.579736          7279.000000   \n",
       "\n",
       "   generation_gwh_2019  \n",
       "0                  NaN  \n",
       "1                  NaN  \n",
       "2                  NaN  \n",
       "3                  NaN  \n",
       "4                  NaN  "
      ]
     },
     "execution_count": 14,
     "metadata": {},
     "output_type": "execute_result"
    }
   ],
   "source": [
    "#Printing the data set after removing columns\n",
    "df.head()"
   ]
  },
  {
   "cell_type": "code",
   "execution_count": 15,
   "id": "dcde3ee7",
   "metadata": {},
   "outputs": [
    {
     "data": {
      "text/plain": [
       "2015.0    28\n",
       "2013.0    25\n",
       "2012.0    23\n",
       "2016.0    19\n",
       "2010.0    18\n",
       "          ..\n",
       "1946.0     1\n",
       "1956.0     1\n",
       "1937.0     1\n",
       "1949.0     1\n",
       "1953.0     1\n",
       "Name: commissioning_year, Length: 73, dtype: int64"
      ]
     },
     "execution_count": 15,
     "metadata": {},
     "output_type": "execute_result"
    }
   ],
   "source": [
    "#Checking the value counts of commissioning_year\n",
    "df[\"commissioning_year\"].value_counts()"
   ]
  },
  {
   "cell_type": "code",
   "execution_count": 16,
   "id": "3c3d69c4",
   "metadata": {},
   "outputs": [
    {
     "data": {
      "text/plain": [
       "capacity_mw              0\n",
       "latitude                46\n",
       "longitude               46\n",
       "Fuel_type                0\n",
       "other_fuel1            709\n",
       "commissioning_year     380\n",
       "source                   0\n",
       "geolocation_source      19\n",
       "generation_gwh_2013    907\n",
       "generation_gwh_2014    509\n",
       "generation_gwh_2015    485\n",
       "generation_gwh_2016    473\n",
       "generation_gwh_2017    467\n",
       "generation_gwh_2018    459\n",
       "generation_gwh_2019    907\n",
       "dtype: int64"
      ]
     },
     "execution_count": 16,
     "metadata": {},
     "output_type": "execute_result"
    }
   ],
   "source": [
    "#Checking null values in the dataset\n",
    "df.isnull().sum()"
   ]
  },
  {
   "cell_type": "markdown",
   "id": "9c0face3",
   "metadata": {},
   "source": [
    "There are null values in all columns except capacity_mw and Fuel_type."
   ]
  },
  {
   "cell_type": "code",
   "execution_count": 17,
   "id": "b76dfc97",
   "metadata": {},
   "outputs": [
    {
     "data": {
      "image/png": "[encoded data removed]",
      "text/plain": [
       "<Figure size 576x432 with 2 Axes>"
      ]
     },
     "metadata": {
      "needs_background": "light"
     },
     "output_type": "display_data"
    }
   ],
   "source": [
    "#Visualizeing null values\n",
    "plt.figure(figsize=[8,6])\n",
    "sns.heatmap(df.isnull())\n",
    "plt.title(\"Null Values\")\n",
    "plt.show()"
   ]
  },
  {
   "cell_type": "markdown",
   "id": "0cbc17be",
   "metadata": {},
   "source": [
    "I can notice a huge amount of null values in almost all columns except 2 columns, so i have treat them using imputation technique."
   ]
  },
  {
   "cell_type": "markdown",
   "id": "0e81a603",
   "metadata": {},
   "source": [
    "## Feature engineering:"
   ]
  },
  {
   "cell_type": "code",
   "execution_count": 18,
   "id": "5528d126",
   "metadata": {},
   "outputs": [],
   "source": [
    "#Lets extract Power_plant_age from commissioning_year by subtracting it from 2018\n",
    "df['Power_plant_age'] = 2018 - df['commissioning_year']\n",
    "df.drop(columns=[\"commissioning_year\"],inplace=True)"
   ]
  },
  {
   "cell_type": "markdown",
   "id": "eab3adfb",
   "metadata": {},
   "source": [
    "I have extracted Power_plant_age column from commissioning_year column and droped commissioning_year.I think Power_plant_age may contribute more than commissioning_year for our prediction."
   ]
  },
  {
   "cell_type": "markdown",
   "id": "f5f711f5",
   "metadata": {},
   "source": [
    "## Imputation technique to replace NaN values:"
   ]
  },
  {
   "cell_type": "code",
   "execution_count": 19,
   "id": "1c23164c",
   "metadata": {},
   "outputs": [
    {
     "data": {
      "text/plain": [
       "capacity_mw            3.123576\n",
       "latitude              -0.145866\n",
       "longitude              1.112646\n",
       "generation_gwh_2013         NaN\n",
       "generation_gwh_2014    3.342707\n",
       "generation_gwh_2015    3.665904\n",
       "generation_gwh_2016    3.512370\n",
       "generation_gwh_2017    3.566070\n",
       "generation_gwh_2018    3.476298\n",
       "generation_gwh_2019         NaN\n",
       "Power_plant_age        1.067949\n",
       "dtype: float64"
      ]
     },
     "execution_count": 19,
     "metadata": {},
     "output_type": "execute_result"
    }
   ],
   "source": [
    "#Checking for skewness\n",
    "df.skew()"
   ]
  },
  {
   "cell_type": "markdown",
   "id": "509ba34c",
   "metadata": {},
   "source": [
    "Except latitude all other columns are skewed.So in all other numerical columns i have to replace the NaN values with median.In latitude column i can replace NaN by mean."
   ]
  },
  {
   "cell_type": "code",
   "execution_count": 20,
   "id": "7eff6ba9",
   "metadata": {},
   "outputs": [],
   "source": [
    "#Replacing NaN values in numerical columns\n",
    "df[\"latitude\"] = df[\"latitude\"].fillna(df[\"latitude\"].mean())\n",
    "df[\"longitude\"] = df[\"longitude\"].fillna(df[\"longitude\"].median())\n",
    "df[\"Power_plant_age\"] = df[\"Power_plant_age\"].fillna(df[\"Power_plant_age\"].median())\n",
    "df[\"generation_gwh_2013\"] = df[\"generation_gwh_2013\"].fillna(df[\"generation_gwh_2013\"].median())\n",
    "df[\"generation_gwh_2014\"] = df[\"generation_gwh_2014\"].fillna(df[\"generation_gwh_2014\"].median())\n",
    "df[\"generation_gwh_2015\"] = df[\"generation_gwh_2015\"].fillna(df[\"generation_gwh_2015\"].median())\n",
    "df[\"generation_gwh_2016\"] = df[\"generation_gwh_2016\"].fillna(df[\"generation_gwh_2016\"].median())\n",
    "df[\"generation_gwh_2017\"] = df[\"generation_gwh_2017\"].fillna(df[\"generation_gwh_2017\"].median())"
   ]
  },
  {
   "cell_type": "code",
   "execution_count": 21,
   "id": "1c903a68",
   "metadata": {},
   "outputs": [],
   "source": [
    "#Replacing null values in categorical columns\n",
    "df[\"other_fuel1\"] = df[\"other_fuel1\"].fillna(df[\"other_fuel1\"].mode()[0])\n",
    "df[\"geolocation_source\"] = df[\"geolocation_source\"].fillna(df[\"geolocation_source\"].mode()[0])"
   ]
  },
  {
   "cell_type": "markdown",
   "id": "40d17219",
   "metadata": {},
   "source": [
    "I have replaced all the null values in all columns."
   ]
  },
  {
   "cell_type": "code",
   "execution_count": 22,
   "id": "b03dd246",
   "metadata": {},
   "outputs": [
    {
     "data": {
      "text/plain": [
       "capacity_mw              0\n",
       "latitude                 0\n",
       "longitude                0\n",
       "Fuel_type                0\n",
       "other_fuel1              0\n",
       "source                   0\n",
       "geolocation_source       0\n",
       "generation_gwh_2013    907\n",
       "generation_gwh_2014      0\n",
       "generation_gwh_2015      0\n",
       "generation_gwh_2016      0\n",
       "generation_gwh_2017      0\n",
       "generation_gwh_2018    459\n",
       "generation_gwh_2019    907\n",
       "Power_plant_age          0\n",
       "dtype: int64"
      ]
     },
     "execution_count": 22,
     "metadata": {},
     "output_type": "execute_result"
    }
   ],
   "source": [
    "#Checking null values after imputing\n",
    "df.isnull().sum()"
   ]
  },
  {
   "cell_type": "markdown",
   "id": "0f003dc3",
   "metadata": {},
   "source": [
    "Now i don't have any null values in my dataset."
   ]
  },
  {
   "cell_type": "code",
   "execution_count": 23,
   "id": "06ddd4ab",
   "metadata": {},
   "outputs": [
    {
     "data": {
      "text/html": [
       "<div>\n",
       "<style scoped>\n",
       "    .dataframe tbody tr th:only-of-type {\n",
       "        vertical-align: middle;\n",
       "    }\n",
       "\n",
       "    .dataframe tbody tr th {\n",
       "        vertical-align: top;\n",
       "    }\n",
       "\n",
       "    .dataframe thead th {\n",
       "        text-align: right;\n",
       "    }\n",
       "</style>\n",
       "<table border=\"1\" class=\"dataframe\">\n",
       "  <thead>\n",
       "    <tr style=\"text-align: right;\">\n",
       "      <th></th>\n",
       "      <th>capacity_mw</th>\n",
       "      <th>latitude</th>\n",
       "      <th>longitude</th>\n",
       "      <th>Fuel_type</th>\n",
       "      <th>other_fuel1</th>\n",
       "      <th>source</th>\n",
       "      <th>geolocation_source</th>\n",
       "      <th>generation_gwh_2013</th>\n",
       "      <th>generation_gwh_2014</th>\n",
       "      <th>generation_gwh_2015</th>\n",
       "      <th>generation_gwh_2016</th>\n",
       "      <th>generation_gwh_2017</th>\n",
       "      <th>generation_gwh_2018</th>\n",
       "      <th>generation_gwh_2019</th>\n",
       "      <th>Power_plant_age</th>\n",
       "    </tr>\n",
       "  </thead>\n",
       "  <tbody>\n",
       "    <tr>\n",
       "      <th>0</th>\n",
       "      <td>2.5</td>\n",
       "      <td>28.1839</td>\n",
       "      <td>73.2407</td>\n",
       "      <td>Solar</td>\n",
       "      <td>Oil</td>\n",
       "      <td>National Renewable Energy Laboratory</td>\n",
       "      <td>National Renewable Energy Laboratory</td>\n",
       "      <td>NaN</td>\n",
       "      <td>801.123775</td>\n",
       "      <td>711.181225</td>\n",
       "      <td>737.205450</td>\n",
       "      <td>817.977250</td>\n",
       "      <td>NaN</td>\n",
       "      <td>NaN</td>\n",
       "      <td>7.0</td>\n",
       "    </tr>\n",
       "    <tr>\n",
       "      <th>1</th>\n",
       "      <td>98.0</td>\n",
       "      <td>24.7663</td>\n",
       "      <td>74.6090</td>\n",
       "      <td>Coal</td>\n",
       "      <td>Oil</td>\n",
       "      <td>Ultratech Cement ltd</td>\n",
       "      <td>WRI</td>\n",
       "      <td>NaN</td>\n",
       "      <td>801.123775</td>\n",
       "      <td>711.181225</td>\n",
       "      <td>737.205450</td>\n",
       "      <td>817.977250</td>\n",
       "      <td>NaN</td>\n",
       "      <td>NaN</td>\n",
       "      <td>17.0</td>\n",
       "    </tr>\n",
       "    <tr>\n",
       "      <th>2</th>\n",
       "      <td>39.2</td>\n",
       "      <td>21.9038</td>\n",
       "      <td>69.3732</td>\n",
       "      <td>Wind</td>\n",
       "      <td>Oil</td>\n",
       "      <td>CDM</td>\n",
       "      <td>WRI</td>\n",
       "      <td>NaN</td>\n",
       "      <td>801.123775</td>\n",
       "      <td>711.181225</td>\n",
       "      <td>737.205450</td>\n",
       "      <td>817.977250</td>\n",
       "      <td>NaN</td>\n",
       "      <td>NaN</td>\n",
       "      <td>17.0</td>\n",
       "    </tr>\n",
       "    <tr>\n",
       "      <th>3</th>\n",
       "      <td>135.0</td>\n",
       "      <td>23.8712</td>\n",
       "      <td>91.3602</td>\n",
       "      <td>Gas</td>\n",
       "      <td>Oil</td>\n",
       "      <td>Central Electricity Authority</td>\n",
       "      <td>WRI</td>\n",
       "      <td>NaN</td>\n",
       "      <td>617.789264</td>\n",
       "      <td>843.747000</td>\n",
       "      <td>886.004428</td>\n",
       "      <td>663.774500</td>\n",
       "      <td>626.239128</td>\n",
       "      <td>NaN</td>\n",
       "      <td>14.0</td>\n",
       "    </tr>\n",
       "    <tr>\n",
       "      <th>4</th>\n",
       "      <td>1800.0</td>\n",
       "      <td>21.9603</td>\n",
       "      <td>82.4091</td>\n",
       "      <td>Coal</td>\n",
       "      <td>Oil</td>\n",
       "      <td>Central Electricity Authority</td>\n",
       "      <td>WRI</td>\n",
       "      <td>NaN</td>\n",
       "      <td>3035.550000</td>\n",
       "      <td>5916.370000</td>\n",
       "      <td>6243.000000</td>\n",
       "      <td>5385.579736</td>\n",
       "      <td>7279.000000</td>\n",
       "      <td>NaN</td>\n",
       "      <td>3.0</td>\n",
       "    </tr>\n",
       "    <tr>\n",
       "      <th>...</th>\n",
       "      <td>...</td>\n",
       "      <td>...</td>\n",
       "      <td>...</td>\n",
       "      <td>...</td>\n",
       "      <td>...</td>\n",
       "      <td>...</td>\n",
       "      <td>...</td>\n",
       "      <td>...</td>\n",
       "      <td>...</td>\n",
       "      <td>...</td>\n",
       "      <td>...</td>\n",
       "      <td>...</td>\n",
       "      <td>...</td>\n",
       "      <td>...</td>\n",
       "      <td>...</td>\n",
       "    </tr>\n",
       "    <tr>\n",
       "      <th>902</th>\n",
       "      <td>1600.0</td>\n",
       "      <td>16.2949</td>\n",
       "      <td>77.3568</td>\n",
       "      <td>Coal</td>\n",
       "      <td>Oil</td>\n",
       "      <td>Central Electricity Authority</td>\n",
       "      <td>WRI</td>\n",
       "      <td>NaN</td>\n",
       "      <td>801.123775</td>\n",
       "      <td>0.994875</td>\n",
       "      <td>233.596650</td>\n",
       "      <td>865.400000</td>\n",
       "      <td>686.500000</td>\n",
       "      <td>NaN</td>\n",
       "      <td>2.0</td>\n",
       "    </tr>\n",
       "    <tr>\n",
       "      <th>903</th>\n",
       "      <td>3.0</td>\n",
       "      <td>12.8932</td>\n",
       "      <td>78.1654</td>\n",
       "      <td>Solar</td>\n",
       "      <td>Oil</td>\n",
       "      <td>Karnataka Power Corporation Limited</td>\n",
       "      <td>Industry About</td>\n",
       "      <td>NaN</td>\n",
       "      <td>801.123775</td>\n",
       "      <td>711.181225</td>\n",
       "      <td>737.205450</td>\n",
       "      <td>817.977250</td>\n",
       "      <td>NaN</td>\n",
       "      <td>NaN</td>\n",
       "      <td>17.0</td>\n",
       "    </tr>\n",
       "    <tr>\n",
       "      <th>904</th>\n",
       "      <td>25.5</td>\n",
       "      <td>15.2758</td>\n",
       "      <td>75.5811</td>\n",
       "      <td>Wind</td>\n",
       "      <td>Oil</td>\n",
       "      <td>CDM</td>\n",
       "      <td>WRI</td>\n",
       "      <td>NaN</td>\n",
       "      <td>801.123775</td>\n",
       "      <td>711.181225</td>\n",
       "      <td>737.205450</td>\n",
       "      <td>817.977250</td>\n",
       "      <td>NaN</td>\n",
       "      <td>NaN</td>\n",
       "      <td>17.0</td>\n",
       "    </tr>\n",
       "    <tr>\n",
       "      <th>905</th>\n",
       "      <td>80.0</td>\n",
       "      <td>24.3500</td>\n",
       "      <td>73.7477</td>\n",
       "      <td>Coal</td>\n",
       "      <td>Oil</td>\n",
       "      <td>Hindustan Zinc ltd</td>\n",
       "      <td>WRI</td>\n",
       "      <td>NaN</td>\n",
       "      <td>801.123775</td>\n",
       "      <td>711.181225</td>\n",
       "      <td>737.205450</td>\n",
       "      <td>817.977250</td>\n",
       "      <td>NaN</td>\n",
       "      <td>NaN</td>\n",
       "      <td>17.0</td>\n",
       "    </tr>\n",
       "    <tr>\n",
       "      <th>906</th>\n",
       "      <td>16.5</td>\n",
       "      <td>9.9344</td>\n",
       "      <td>77.4768</td>\n",
       "      <td>Wind</td>\n",
       "      <td>Oil</td>\n",
       "      <td>CDM</td>\n",
       "      <td>WRI</td>\n",
       "      <td>NaN</td>\n",
       "      <td>801.123775</td>\n",
       "      <td>711.181225</td>\n",
       "      <td>737.205450</td>\n",
       "      <td>817.977250</td>\n",
       "      <td>NaN</td>\n",
       "      <td>NaN</td>\n",
       "      <td>17.0</td>\n",
       "    </tr>\n",
       "  </tbody>\n",
       "</table>\n",
       "<p>907 rows × 15 columns</p>\n",
       "</div>"
      ],
      "text/plain": [
       "     capacity_mw  latitude  longitude Fuel_type other_fuel1  \\\n",
       "0            2.5   28.1839    73.2407     Solar         Oil   \n",
       "1           98.0   24.7663    74.6090      Coal         Oil   \n",
       "2           39.2   21.9038    69.3732      Wind         Oil   \n",
       "3          135.0   23.8712    91.3602       Gas         Oil   \n",
       "4         1800.0   21.9603    82.4091      Coal         Oil   \n",
       "..           ...       ...        ...       ...         ...   \n",
       "902       1600.0   16.2949    77.3568      Coal         Oil   \n",
       "903          3.0   12.8932    78.1654     Solar         Oil   \n",
       "904         25.5   15.2758    75.5811      Wind         Oil   \n",
       "905         80.0   24.3500    73.7477      Coal         Oil   \n",
       "906         16.5    9.9344    77.4768      Wind         Oil   \n",
       "\n",
       "                                   source  \\\n",
       "0    National Renewable Energy Laboratory   \n",
       "1                    Ultratech Cement ltd   \n",
       "2                                     CDM   \n",
       "3           Central Electricity Authority   \n",
       "4           Central Electricity Authority   \n",
       "..                                    ...   \n",
       "902         Central Electricity Authority   \n",
       "903   Karnataka Power Corporation Limited   \n",
       "904                                   CDM   \n",
       "905                    Hindustan Zinc ltd   \n",
       "906                                   CDM   \n",
       "\n",
       "                       geolocation_source  generation_gwh_2013  \\\n",
       "0    National Renewable Energy Laboratory                  NaN   \n",
       "1                                     WRI                  NaN   \n",
       "2                                     WRI                  NaN   \n",
       "3                                     WRI                  NaN   \n",
       "4                                     WRI                  NaN   \n",
       "..                                    ...                  ...   \n",
       "902                                   WRI                  NaN   \n",
       "903                        Industry About                  NaN   \n",
       "904                                   WRI                  NaN   \n",
       "905                                   WRI                  NaN   \n",
       "906                                   WRI                  NaN   \n",
       "\n",
       "     generation_gwh_2014  generation_gwh_2015  generation_gwh_2016  \\\n",
       "0             801.123775           711.181225           737.205450   \n",
       "1             801.123775           711.181225           737.205450   \n",
       "2             801.123775           711.181225           737.205450   \n",
       "3             617.789264           843.747000           886.004428   \n",
       "4            3035.550000          5916.370000          6243.000000   \n",
       "..                   ...                  ...                  ...   \n",
       "902           801.123775             0.994875           233.596650   \n",
       "903           801.123775           711.181225           737.205450   \n",
       "904           801.123775           711.181225           737.205450   \n",
       "905           801.123775           711.181225           737.205450   \n",
       "906           801.123775           711.181225           737.205450   \n",
       "\n",
       "     generation_gwh_2017  generation_gwh_2018  generation_gwh_2019  \\\n",
       "0             817.977250                  NaN                  NaN   \n",
       "1             817.977250                  NaN                  NaN   \n",
       "2             817.977250                  NaN                  NaN   \n",
       "3             663.774500           626.239128                  NaN   \n",
       "4            5385.579736          7279.000000                  NaN   \n",
       "..                   ...                  ...                  ...   \n",
       "902           865.400000           686.500000                  NaN   \n",
       "903           817.977250                  NaN                  NaN   \n",
       "904           817.977250                  NaN                  NaN   \n",
       "905           817.977250                  NaN                  NaN   \n",
       "906           817.977250                  NaN                  NaN   \n",
       "\n",
       "     Power_plant_age  \n",
       "0                7.0  \n",
       "1               17.0  \n",
       "2               17.0  \n",
       "3               14.0  \n",
       "4                3.0  \n",
       "..               ...  \n",
       "902              2.0  \n",
       "903             17.0  \n",
       "904             17.0  \n",
       "905             17.0  \n",
       "906             17.0  \n",
       "\n",
       "[907 rows x 15 columns]"
      ]
     },
     "execution_count": 23,
     "metadata": {},
     "output_type": "execute_result"
    }
   ],
   "source": [
    "\n",
    "#Printing the dataset after replacing all nan values\n",
    "df"
   ]
  },
  {
   "cell_type": "markdown",
   "id": "e987af3a",
   "metadata": {},
   "source": [
    "This is my dataset after removing all null values using imputation technique."
   ]
  },
  {
   "cell_type": "code",
   "execution_count": 28,
   "id": "5bf89a4c",
   "metadata": {},
   "outputs": [
    {
     "data": {
      "text/plain": [
       "array([2.50000e+00, 9.80000e+01, 3.92000e+01, 1.35000e+02, 1.80000e+03,\n",
       "       2.50000e+02, 6.00000e+01, 1.92000e+02, 2.90000e+02, 2.10000e+02,\n",
       "       1.35000e+03, 1.34000e+02, 1.20000e+03, 1.69500e+01, 9.00000e+00,\n",
       "       2.63000e+03, 4.19330e+02, 6.00000e+02, 1.00000e+01, 1.70000e+01,\n",
       "       2.40000e+01, 6.52000e+02, 4.60000e+01, 5.00000e+01, 1.00000e+00,\n",
       "       1.65000e+01, 1.13600e+02, 1.98000e+01, 1.32000e+01, 5.00000e+00,\n",
       "       7.05000e+02, 2.80000e+01, 4.50000e+02, 1.80000e+02, 1.05000e+03,\n",
       "       5.10000e+02, 6.75000e+01, 3.00000e+02, 3.35000e+02, 1.20000e+01,\n",
       "       3.15000e+02, 3.00000e+01, 2.00000e+01, 4.20000e+01, 7.20000e+02,\n",
       "       9.00000e+01, 1.32000e+03, 1.20000e+02, 6.60000e+01, 2.70000e+02,\n",
       "       2.28000e+01, 1.50000e+01, 2.52000e+01, 1.80000e+01, 1.70000e+03,\n",
       "       2.60000e+01, 4.10000e+01, 1.37900e+03, 3.40000e+01, 1.60000e+01,\n",
       "       5.00000e+02, 8.00000e+01, 7.50000e+01, 1.21000e+03, 9.90000e+01,\n",
       "       6.96000e+01, 6.00000e+00, 7.50000e+02, 4.00000e+01, 1.65000e+02,\n",
       "       7.00000e+01, 8.15000e+01, 1.12000e+01, 3.63000e+01, 1.70000e+00,\n",
       "       2.48000e+01, 5.04000e+01, 1.50000e+02, 9.87000e+01, 3.00000e+00,\n",
       "       4.20000e+00, 5.40000e+02, 2.31000e+02, 3.50000e+01, 2.34000e+02,\n",
       "       6.30000e+02, 2.92000e+03, 3.60000e+01, 3.75000e+00, 3.28000e+01,\n",
       "       2.32000e+03, 2.40000e+02, 1.44000e+02, 4.40000e+01, 1.10000e+02,\n",
       "       2.21000e+02, 2.10000e+01, 6.60000e+02, 1.82000e+03, 8.29780e+02,\n",
       "       1.00000e+02, 1.60000e+03, 2.50000e+01, 9.90000e+02, 3.37500e+01,\n",
       "       5.10000e+01, 2.80000e+02, 3.30000e+02, 5.95200e+02, 2.20000e+01,\n",
       "       9.60000e+01, 1.55000e+01, 1.29600e+01, 6.76000e+01, 3.90000e+02,\n",
       "       1.28000e+01, 1.00000e+03, 1.25000e+02, 2.00000e+00, 3.75000e+01,\n",
       "       2.82000e+01, 2.25000e+01, 5.15000e+02, 6.88000e+01, 2.10000e+03,\n",
       "       4.31586e+02, 4.25000e+00, 3.10000e+02, 3.90000e+01, 8.00000e+02,\n",
       "       1.05000e+01, 2.25000e+02, 6.48000e+02, 1.15000e+02, 7.76500e+01,\n",
       "       4.68570e+02, 2.31000e+01, 3.20000e+01, 9.20000e+02, 2.05240e+02,\n",
       "       7.68000e+02, 5.50000e+01, 2.56000e+01, 7.50000e+00, 1.80000e+00,\n",
       "       2.55000e+01, 1.56100e+02, 3.51430e+02, 1.89000e+01, 3.47500e+02,\n",
       "       3.44000e+01, 2.73000e+01, 8.88000e+01, 6.05000e+02, 4.90000e+01,\n",
       "       4.20000e+02, 7.80000e+02, 3.50000e+02, 1.50000e+03, 1.00800e+02,\n",
       "       1.08000e+03, 6.35000e+01, 5.45000e+01, 1.55000e+02, 4.45674e+02,\n",
       "       1.39200e+02, 4.27500e+02, 9.18000e+01, 2.96000e+01, 3.30000e+01,\n",
       "       1.02500e+01, 4.00000e+02, 2.34000e+03, 8.80000e+02, 1.10000e+03,\n",
       "       4.40000e+02, 8.55000e+02, 4.00000e+00, 3.25000e+01, 1.19800e+02,\n",
       "       2.18400e+01, 1.95000e+02, 2.91000e+02, 6.45000e+02, 7.20000e+01,\n",
       "       4.14000e+01, 1.26000e+03, 1.75000e+01, 4.45000e+02, 1.45800e+03,\n",
       "       2.00000e+02, 2.40000e+03, 2.60000e+03, 8.90000e+02, 1.34000e+03,\n",
       "       1.24000e+03, 1.07880e+02, 1.95600e+03, 5.55000e+02, 2.00000e+03,\n",
       "       1.01000e+02, 7.56000e+01, 5.20000e+00, 2.08000e+01, 5.62500e+01,\n",
       "       2.11955e+02, 1.98000e+03, 1.26000e+02, 3.15000e+01, 1.05000e+02,\n",
       "       4.60000e+02, 9.70000e+00, 3.68000e+01, 2.10000e+00, 2.40000e+00,\n",
       "       1.14750e+02, 4.50000e+00, 1.40000e+02, 3.14000e+01, 6.32000e+01,\n",
       "       1.86000e+02, 3.94000e+02, 1.66500e+02, 3.88000e+02, 4.50000e+01,\n",
       "       3.06000e+01, 8.40000e+02, 2.46000e+02, 9.30000e+00, 7.89000e+01,\n",
       "       2.07000e+02, 3.12000e+01, 4.62000e+03, 4.00000e+03, 2.83000e+01,\n",
       "       6.10000e+02, 1.46500e+01, 6.60000e+00, 5.25000e+01, 8.15600e+02,\n",
       "       4.55000e+01, 6.50000e+01, 1.61750e+02, 1.16000e+01, 1.22700e+01,\n",
       "       1.47000e+03, 3.32000e+01, 2.76500e+01, 6.25000e+00, 3.76000e+01,\n",
       "       5.80000e+00, 7.20000e+00, 1.09400e+03, 5.20000e+02, 1.02000e+02,\n",
       "       3.30500e+02, 6.55000e+02, 7.26600e+02, 1.75000e+02, 1.14000e+03,\n",
       "       1.17000e+03, 2.04000e+01, 2.20000e+02, 1.60000e+02, 1.61000e+02,\n",
       "       7.02860e+02, 3.96000e+02, 1.37120e+03, 9.00000e+02, 5.92000e+01,\n",
       "       6.56000e+01, 3.52000e+01, 2.18000e+01, 1.48500e+01, 9.90000e+00,\n",
       "       1.52000e+01, 1.90000e+01, 1.72000e+02, 1.87000e+01, 4.80000e+00,\n",
       "       1.72000e+03, 1.37000e+03, 3.85000e+01, 1.40000e+03, 1.10000e+01,\n",
       "       1.98000e+02, 2.70500e+02, 4.12020e+02, 4.05000e+02, 1.25000e+01,\n",
       "       1.96708e+03, 1.65000e+03, 4.80000e+01, 3.00000e+03, 9.48000e+01,\n",
       "       6.30000e+01, 6.25000e+01, 2.64000e+01, 3.05000e+01, 3.51000e+01,\n",
       "       6.90000e+02, 1.05700e+02, 1.06000e+02, 1.97000e+01, 3.96000e+03,\n",
       "       2.90000e+01, 1.33000e+03, 1.03500e+03, 1.72000e+01, 5.40000e+01,\n",
       "       3.36000e+01, 2.98000e+03, 4.30000e+01, 3.30000e+00, 7.70000e+02,\n",
       "       1.30000e+02, 1.14750e+03, 1.50000e+00, 8.50000e+00, 2.25000e+00,\n",
       "       2.52000e+03, 8.40000e+00, 6.30000e+00, 3.60000e+00, 9.42000e+01,\n",
       "       9.70000e+01, 1.35000e+01, 1.32000e+02, 3.30000e+03, 2.60000e+02,\n",
       "       4.22000e+02, 9.35000e+00, 1.44000e+01, 7.40000e+01, 0.00000e+00,\n",
       "       4.96000e+01, 9.13500e+01, 8.00000e+00, 1.44000e+03, 1.11000e+03,\n",
       "       1.55000e+03, 3.82500e+02, 3.20000e+02, 6.72000e+02, 6.26000e+01,\n",
       "       4.80000e+02, 3.74571e+02, 2.57000e+01, 5.28000e+01, 1.87200e+02,\n",
       "       2.58000e+01, 3.07500e+01, 5.07000e+01, 3.88500e+02, 2.72300e+02,\n",
       "       4.76000e+03, 1.04000e+03, 4.25000e+01, 6.24000e+01, 3.46500e+01,\n",
       "       1.06600e+02])"
      ]
     },
     "execution_count": 28,
     "metadata": {},
     "output_type": "execute_result"
    }
   ],
   "source": [
    "#Checking unique values of target column\n",
    "df['capacity_mw'].unique()"
   ]
  },
  {
   "cell_type": "markdown",
   "id": "c00bda48",
   "metadata": {},
   "source": [
    "Above are the unique values of capacity_mw column."
   ]
  },
  {
   "cell_type": "code",
   "execution_count": 30,
   "id": "cd6b71fc",
   "metadata": {},
   "outputs": [
    {
     "data": {
      "text/plain": [
       "array(['Solar', 'Coal', 'Wind', 'Gas', 'Hydro', 'Biomass', 'Oil',\n",
       "       'Nuclear'], dtype=object)"
      ]
     },
     "execution_count": 30,
     "metadata": {},
     "output_type": "execute_result"
    }
   ],
   "source": [
    "#Checking unique values of target column\n",
    "df['Fuel_type'].unique()"
   ]
  },
  {
   "cell_type": "markdown",
   "id": "dd70664e",
   "metadata": {},
   "source": [
    "Above are the unique values of primary_fuel column."
   ]
  },
  {
   "cell_type": "code",
   "execution_count": 31,
   "id": "28013ae4",
   "metadata": {},
   "outputs": [
    {
     "data": {
      "text/html": [
       "<div>\n",
       "<style scoped>\n",
       "    .dataframe tbody tr th:only-of-type {\n",
       "        vertical-align: middle;\n",
       "    }\n",
       "\n",
       "    .dataframe tbody tr th {\n",
       "        vertical-align: top;\n",
       "    }\n",
       "\n",
       "    .dataframe thead th {\n",
       "        text-align: right;\n",
       "    }\n",
       "</style>\n",
       "<table border=\"1\" class=\"dataframe\">\n",
       "  <thead>\n",
       "    <tr style=\"text-align: right;\">\n",
       "      <th></th>\n",
       "      <th>capacity_mw</th>\n",
       "      <th>latitude</th>\n",
       "      <th>longitude</th>\n",
       "      <th>Fuel_type</th>\n",
       "      <th>other_fuel1</th>\n",
       "      <th>source</th>\n",
       "      <th>geolocation_source</th>\n",
       "      <th>generation_gwh_2013</th>\n",
       "      <th>generation_gwh_2014</th>\n",
       "      <th>generation_gwh_2015</th>\n",
       "      <th>generation_gwh_2016</th>\n",
       "      <th>generation_gwh_2017</th>\n",
       "      <th>generation_gwh_2018</th>\n",
       "      <th>generation_gwh_2019</th>\n",
       "      <th>Power_plant_age</th>\n",
       "    </tr>\n",
       "  </thead>\n",
       "  <tbody>\n",
       "  </tbody>\n",
       "</table>\n",
       "</div>"
      ],
      "text/plain": [
       "Empty DataFrame\n",
       "Columns: [capacity_mw, latitude, longitude, Fuel_type, other_fuel1, source, geolocation_source, generation_gwh_2013, generation_gwh_2014, generation_gwh_2015, generation_gwh_2016, generation_gwh_2017, generation_gwh_2018, generation_gwh_2019, Power_plant_age]\n",
       "Index: []"
      ]
     },
     "execution_count": 31,
     "metadata": {},
     "output_type": "execute_result"
    }
   ],
   "source": [
    "\n",
    "#Checking for empty observations\n",
    "df.loc[df['capacity_mw'] == \" \"]"
   ]
  },
  {
   "cell_type": "markdown",
   "id": "480a55e7",
   "metadata": {},
   "source": [
    "There is no empty observations in capacity_mw column."
   ]
  },
  {
   "cell_type": "code",
   "execution_count": 34,
   "id": "6b54b790",
   "metadata": {},
   "outputs": [
    {
     "data": {
      "text/html": [
       "<div>\n",
       "<style scoped>\n",
       "    .dataframe tbody tr th:only-of-type {\n",
       "        vertical-align: middle;\n",
       "    }\n",
       "\n",
       "    .dataframe tbody tr th {\n",
       "        vertical-align: top;\n",
       "    }\n",
       "\n",
       "    .dataframe thead th {\n",
       "        text-align: right;\n",
       "    }\n",
       "</style>\n",
       "<table border=\"1\" class=\"dataframe\">\n",
       "  <thead>\n",
       "    <tr style=\"text-align: right;\">\n",
       "      <th></th>\n",
       "      <th>capacity_mw</th>\n",
       "      <th>latitude</th>\n",
       "      <th>longitude</th>\n",
       "      <th>Fuel_type</th>\n",
       "      <th>other_fuel1</th>\n",
       "      <th>source</th>\n",
       "      <th>geolocation_source</th>\n",
       "      <th>generation_gwh_2013</th>\n",
       "      <th>generation_gwh_2014</th>\n",
       "      <th>generation_gwh_2015</th>\n",
       "      <th>generation_gwh_2016</th>\n",
       "      <th>generation_gwh_2017</th>\n",
       "      <th>generation_gwh_2018</th>\n",
       "      <th>generation_gwh_2019</th>\n",
       "      <th>Power_plant_age</th>\n",
       "    </tr>\n",
       "  </thead>\n",
       "  <tbody>\n",
       "  </tbody>\n",
       "</table>\n",
       "</div>"
      ],
      "text/plain": [
       "Empty DataFrame\n",
       "Columns: [capacity_mw, latitude, longitude, Fuel_type, other_fuel1, source, geolocation_source, generation_gwh_2013, generation_gwh_2014, generation_gwh_2015, generation_gwh_2016, generation_gwh_2017, generation_gwh_2018, generation_gwh_2019, Power_plant_age]\n",
       "Index: []"
      ]
     },
     "execution_count": 34,
     "metadata": {},
     "output_type": "execute_result"
    }
   ],
   "source": [
    "#Checking for empty observations\n",
    "df.loc[df['Fuel_type'] == \" \"]"
   ]
  },
  {
   "cell_type": "markdown",
   "id": "4e032b61",
   "metadata": {},
   "source": [
    "There is no empty observations in primary_fuel column also."
   ]
  },
  {
   "cell_type": "code",
   "execution_count": 35,
   "id": "df6d0806",
   "metadata": {},
   "outputs": [
    {
     "data": {
      "text/html": [
       "<div>\n",
       "<style scoped>\n",
       "    .dataframe tbody tr th:only-of-type {\n",
       "        vertical-align: middle;\n",
       "    }\n",
       "\n",
       "    .dataframe tbody tr th {\n",
       "        vertical-align: top;\n",
       "    }\n",
       "\n",
       "    .dataframe thead th {\n",
       "        text-align: right;\n",
       "    }\n",
       "</style>\n",
       "<table border=\"1\" class=\"dataframe\">\n",
       "  <thead>\n",
       "    <tr style=\"text-align: right;\">\n",
       "      <th></th>\n",
       "      <th>capacity_mw</th>\n",
       "      <th>latitude</th>\n",
       "      <th>longitude</th>\n",
       "      <th>generation_gwh_2013</th>\n",
       "      <th>generation_gwh_2014</th>\n",
       "      <th>generation_gwh_2015</th>\n",
       "      <th>generation_gwh_2016</th>\n",
       "      <th>generation_gwh_2017</th>\n",
       "      <th>generation_gwh_2018</th>\n",
       "      <th>generation_gwh_2019</th>\n",
       "      <th>Power_plant_age</th>\n",
       "    </tr>\n",
       "  </thead>\n",
       "  <tbody>\n",
       "    <tr>\n",
       "      <th>count</th>\n",
       "      <td>907.000000</td>\n",
       "      <td>907.000000</td>\n",
       "      <td>907.000000</td>\n",
       "      <td>0.0</td>\n",
       "      <td>907.000000</td>\n",
       "      <td>907.000000</td>\n",
       "      <td>907.000000</td>\n",
       "      <td>907.000000</td>\n",
       "      <td>448.000000</td>\n",
       "      <td>0.0</td>\n",
       "      <td>907.000000</td>\n",
       "    </tr>\n",
       "    <tr>\n",
       "      <th>mean</th>\n",
       "      <td>326.223755</td>\n",
       "      <td>21.197918</td>\n",
       "      <td>77.427103</td>\n",
       "      <td>NaN</td>\n",
       "      <td>1516.689956</td>\n",
       "      <td>1510.071296</td>\n",
       "      <td>1565.361383</td>\n",
       "      <td>1657.121797</td>\n",
       "      <td>2600.804099</td>\n",
       "      <td>NaN</td>\n",
       "      <td>19.271224</td>\n",
       "    </tr>\n",
       "    <tr>\n",
       "      <th>std</th>\n",
       "      <td>590.085456</td>\n",
       "      <td>6.079148</td>\n",
       "      <td>4.815073</td>\n",
       "      <td>NaN</td>\n",
       "      <td>2785.604307</td>\n",
       "      <td>2984.994556</td>\n",
       "      <td>3005.087210</td>\n",
       "      <td>3046.862910</td>\n",
       "      <td>4314.880456</td>\n",
       "      <td>NaN</td>\n",
       "      <td>13.158621</td>\n",
       "    </tr>\n",
       "    <tr>\n",
       "      <th>min</th>\n",
       "      <td>0.000000</td>\n",
       "      <td>8.168900</td>\n",
       "      <td>68.644700</td>\n",
       "      <td>NaN</td>\n",
       "      <td>0.000000</td>\n",
       "      <td>0.000000</td>\n",
       "      <td>0.000000</td>\n",
       "      <td>0.000000</td>\n",
       "      <td>0.000000</td>\n",
       "      <td>NaN</td>\n",
       "      <td>0.000000</td>\n",
       "    </tr>\n",
       "    <tr>\n",
       "      <th>25%</th>\n",
       "      <td>16.725000</td>\n",
       "      <td>17.072000</td>\n",
       "      <td>74.388900</td>\n",
       "      <td>NaN</td>\n",
       "      <td>801.123775</td>\n",
       "      <td>711.181225</td>\n",
       "      <td>737.205450</td>\n",
       "      <td>817.977250</td>\n",
       "      <td>193.378250</td>\n",
       "      <td>NaN</td>\n",
       "      <td>15.000000</td>\n",
       "    </tr>\n",
       "    <tr>\n",
       "      <th>50%</th>\n",
       "      <td>59.200000</td>\n",
       "      <td>21.281800</td>\n",
       "      <td>76.719500</td>\n",
       "      <td>NaN</td>\n",
       "      <td>801.123775</td>\n",
       "      <td>711.181225</td>\n",
       "      <td>737.205450</td>\n",
       "      <td>817.977250</td>\n",
       "      <td>751.644375</td>\n",
       "      <td>NaN</td>\n",
       "      <td>17.000000</td>\n",
       "    </tr>\n",
       "    <tr>\n",
       "      <th>75%</th>\n",
       "      <td>385.250000</td>\n",
       "      <td>25.176450</td>\n",
       "      <td>79.206100</td>\n",
       "      <td>NaN</td>\n",
       "      <td>801.123775</td>\n",
       "      <td>711.181225</td>\n",
       "      <td>737.205450</td>\n",
       "      <td>817.977250</td>\n",
       "      <td>3143.535900</td>\n",
       "      <td>NaN</td>\n",
       "      <td>20.000000</td>\n",
       "    </tr>\n",
       "    <tr>\n",
       "      <th>max</th>\n",
       "      <td>4760.000000</td>\n",
       "      <td>34.649000</td>\n",
       "      <td>95.408000</td>\n",
       "      <td>NaN</td>\n",
       "      <td>28127.000000</td>\n",
       "      <td>30539.000000</td>\n",
       "      <td>30015.000000</td>\n",
       "      <td>35116.000000</td>\n",
       "      <td>35136.000000</td>\n",
       "      <td>NaN</td>\n",
       "      <td>91.000000</td>\n",
       "    </tr>\n",
       "  </tbody>\n",
       "</table>\n",
       "</div>"
      ],
      "text/plain": [
       "       capacity_mw    latitude   longitude  generation_gwh_2013  \\\n",
       "count   907.000000  907.000000  907.000000                  0.0   \n",
       "mean    326.223755   21.197918   77.427103                  NaN   \n",
       "std     590.085456    6.079148    4.815073                  NaN   \n",
       "min       0.000000    8.168900   68.644700                  NaN   \n",
       "25%      16.725000   17.072000   74.388900                  NaN   \n",
       "50%      59.200000   21.281800   76.719500                  NaN   \n",
       "75%     385.250000   25.176450   79.206100                  NaN   \n",
       "max    4760.000000   34.649000   95.408000                  NaN   \n",
       "\n",
       "       generation_gwh_2014  generation_gwh_2015  generation_gwh_2016  \\\n",
       "count           907.000000           907.000000           907.000000   \n",
       "mean           1516.689956          1510.071296          1565.361383   \n",
       "std            2785.604307          2984.994556          3005.087210   \n",
       "min               0.000000             0.000000             0.000000   \n",
       "25%             801.123775           711.181225           737.205450   \n",
       "50%             801.123775           711.181225           737.205450   \n",
       "75%             801.123775           711.181225           737.205450   \n",
       "max           28127.000000         30539.000000         30015.000000   \n",
       "\n",
       "       generation_gwh_2017  generation_gwh_2018  generation_gwh_2019  \\\n",
       "count           907.000000           448.000000                  0.0   \n",
       "mean           1657.121797          2600.804099                  NaN   \n",
       "std            3046.862910          4314.880456                  NaN   \n",
       "min               0.000000             0.000000                  NaN   \n",
       "25%             817.977250           193.378250                  NaN   \n",
       "50%             817.977250           751.644375                  NaN   \n",
       "75%             817.977250          3143.535900                  NaN   \n",
       "max           35116.000000         35136.000000                  NaN   \n",
       "\n",
       "       Power_plant_age  \n",
       "count       907.000000  \n",
       "mean         19.271224  \n",
       "std          13.158621  \n",
       "min           0.000000  \n",
       "25%          15.000000  \n",
       "50%          17.000000  \n",
       "75%          20.000000  \n",
       "max          91.000000  "
      ]
     },
     "execution_count": 35,
     "metadata": {},
     "output_type": "execute_result"
    }
   ],
   "source": [
    "#Checking description of data set\n",
    "df.describe()"
   ]
  },
  {
   "cell_type": "markdown",
   "id": "94f2fb8e",
   "metadata": {},
   "source": [
    "By looking into the stats of the dataset i can say that.\n",
    "\n",
    "All the null values has been removed.\n",
    "There is a huge difference in mean and 2nq quantile of capacity_mw column which means there are extream outliers in the column.\n",
    "Mean and 2nd quantile all other columns are almost same.\n",
    "Mean of generation_gwh_2017 is high compared to other columns which means the power production is high in 2017."
   ]
  },
  {
   "cell_type": "markdown",
   "id": "d49e7896",
   "metadata": {},
   "source": [
    "## Visualization:"
   ]
  },
  {
   "cell_type": "markdown",
   "id": "cc3d98bf",
   "metadata": {},
   "source": [
    "## Univariate Analysis:"
   ]
  },
  {
   "cell_type": "code",
   "execution_count": 36,
   "id": "226e5a30",
   "metadata": {},
   "outputs": [
    {
     "name": "stdout",
     "output_type": "stream",
     "text": [
      "['Fuel_type', 'other_fuel1', 'source', 'geolocation_source']\n"
     ]
    }
   ],
   "source": [
    "# checking for categorical columns\n",
    "categorical_columns=[]\n",
    "for i in df.dtypes.index:\n",
    "    if df.dtypes[i]=='object':\n",
    "        categorical_columns.append(i)\n",
    "print(categorical_columns)"
   ]
  },
  {
   "cell_type": "code",
   "execution_count": 37,
   "id": "e934a24c",
   "metadata": {},
   "outputs": [
    {
     "name": "stdout",
     "output_type": "stream",
     "text": [
      "['capacity_mw', 'latitude', 'longitude', 'generation_gwh_2013', 'generation_gwh_2014', 'generation_gwh_2015', 'generation_gwh_2016', 'generation_gwh_2017', 'generation_gwh_2018', 'generation_gwh_2019', 'Power_plant_age']\n"
     ]
    }
   ],
   "source": [
    "# Now checking for numerical columns\n",
    "numerical_columns=[]\n",
    "for i in df.dtypes.index:\n",
    "    if df.dtypes[i]!='object':\n",
    "        numerical_columns.append(i)\n",
    "print(numerical_columns)"
   ]
  },
  {
   "cell_type": "code",
   "execution_count": 38,
   "id": "f1cc43ae",
   "metadata": {},
   "outputs": [
    {
     "data": {
      "image/png": "[encoded data removed]",
      "text/plain": [
       "<Figure size 576x288 with 1 Axes>"
      ]
     },
     "metadata": {
      "needs_background": "light"
     },
     "output_type": "display_data"
    },
    {
     "data": {
      "image/png": "[encoded data removed]",
      "text/plain": [
       "<Figure size 576x288 with 1 Axes>"
      ]
     },
     "metadata": {
      "needs_background": "light"
     },
     "output_type": "display_data"
    },
    {
     "data": {
      "image/png": "[encoded data removed]",
      "text/plain": [
       "<Figure size 576x288 with 1 Axes>"
      ]
     },
     "metadata": {
      "needs_background": "light"
     },
     "output_type": "display_data"
    },
    {
     "data": {
      "image/png": "[encoded data removed]",
      "text/plain": [
       "<Figure size 576x288 with 1 Axes>"
      ]
     },
     "metadata": {
      "needs_background": "light"
     },
     "output_type": "display_data"
    },
    {
     "data": {
      "image/png": "[encoded data removed]",
      "text/plain": [
       "<Figure size 576x288 with 1 Axes>"
      ]
     },
     "metadata": {
      "needs_background": "light"
     },
     "output_type": "display_data"
    },
    {
     "data": {
      "image/png": "[encoded data removed]",
      "text/plain": [
       "<Figure size 576x288 with 1 Axes>"
      ]
     },
     "metadata": {
      "needs_background": "light"
     },
     "output_type": "display_data"
    },
    {
     "data": {
      "image/png": "[encoded data removed]",
      "text/plain": [
       "<Figure size 576x288 with 1 Axes>"
      ]
     },
     "metadata": {
      "needs_background": "light"
     },
     "output_type": "display_data"
    },
    {
     "data": {
      "image/png": "[encoded data removed]",
      "text/plain": [
       "<Figure size 576x288 with 1 Axes>"
      ]
     },
     "metadata": {
      "needs_background": "light"
     },
     "output_type": "display_data"
    },
    {
     "data": {
      "image/png": "[encoded data removed]",
      "text/plain": [
       "<Figure size 576x288 with 1 Axes>"
      ]
     },
     "metadata": {
      "needs_background": "light"
     },
     "output_type": "display_data"
    },
    {
     "data": {
      "image/png": "[encoded data removed]",
      "text/plain": [
       "<Figure size 576x288 with 1 Axes>"
      ]
     },
     "metadata": {
      "needs_background": "light"
     },
     "output_type": "display_data"
    },
    {
     "data": {
      "image/png": "[encoded data removed]",
      "text/plain": [
       "<Figure size 576x288 with 1 Axes>"
      ]
     },
     "metadata": {
      "needs_background": "light"
     },
     "output_type": "display_data"
    }
   ],
   "source": [
    "#Distribution plot for all numerical columns\n",
    "for i in df[numerical_columns]:              \n",
    "    plt.figure(figsize = (8, 4))\n",
    "    sns.distplot(df[i], bins = 10, color=\"indigo\")\n",
    "    plt.title(i)\n",
    "    plt.show()"
   ]
  },
  {
   "cell_type": "markdown",
   "id": "53bff1d8",
   "metadata": {},
   "source": [
    "All other columns except latitude in list of continuous_columns has skewness.And i have to take care of this skewness."
   ]
  },
  {
   "cell_type": "code",
   "execution_count": 41,
   "id": "8f5f747f",
   "metadata": {},
   "outputs": [
    {
     "data": {
      "text/plain": [
       "Coal       258\n",
       "Hydro      251\n",
       "Solar      127\n",
       "Wind       123\n",
       "Gas         69\n",
       "Biomass     50\n",
       "Oil         20\n",
       "Nuclear      9\n",
       "Name: Fuel_type, dtype: int64"
      ]
     },
     "execution_count": 41,
     "metadata": {},
     "output_type": "execute_result"
    }
   ],
   "source": [
    "#Checking the value counts of primary_fuel column\n",
    "df.Fuel_type.value_counts()"
   ]
  },
  {
   "cell_type": "markdown",
   "id": "6f84ef4e",
   "metadata": {},
   "source": [
    "Above are the value counts of primary_fuel column."
   ]
  },
  {
   "cell_type": "code",
   "execution_count": 42,
   "id": "b4bc368f",
   "metadata": {},
   "outputs": [
    {
     "data": {
      "image/png": "[encoded data removed]",
      "text/plain": [
       "<Figure size 432x288 with 1 Axes>"
      ]
     },
     "metadata": {},
     "output_type": "display_data"
    }
   ],
   "source": [
    "#Ploting pie chart for primary_fuel\n",
    "labels='Coal','Hydro','Solar','Wind', 'Gas', 'Biomass', 'Oil', 'Nuclear'\n",
    "fig, ax = plt.subplots()\n",
    "ax.pie(df['Fuel_type'].value_counts(), labels=labels, autopct='%1.2f%%', shadow=True)\n",
    "plt.show()"
   ]
  },
  {
   "cell_type": "markdown",
   "id": "85dae501",
   "metadata": {},
   "source": [
    "It looks like most of the plants in INDIA uses Coal and Hydro as there fuel.And very less plants uses Nuclear fuel."
   ]
  },
  {
   "cell_type": "code",
   "execution_count": 43,
   "id": "74a3ff80",
   "metadata": {},
   "outputs": [
    {
     "data": {
      "text/plain": [
       "Oil             904\n",
       "Gas               2\n",
       "Cogeneration      1\n",
       "Name: other_fuel1, dtype: int64"
      ]
     },
     "execution_count": 43,
     "metadata": {},
     "output_type": "execute_result"
    }
   ],
   "source": [
    "#Checking the value counts of other_fuel1 column\n",
    "df.other_fuel1.value_counts()"
   ]
  },
  {
   "cell_type": "code",
   "execution_count": 48,
   "id": "2a37c7d5",
   "metadata": {},
   "outputs": [
    {
     "data": {
      "image/png": "[encoded data removed]",
      "text/plain": [
       "<Figure size 432x288 with 1 Axes>"
      ]
     },
     "metadata": {
      "needs_background": "light"
     },
     "output_type": "display_data"
    }
   ],
   "source": [
    "#Count plot for other_fuel1\n",
    "sns.countplot(df['other_fuel1']);"
   ]
  },
  {
   "cell_type": "markdown",
   "id": "a3249297",
   "metadata": {},
   "source": [
    "It seems most of the plants are using Oil as the other_fuel."
   ]
  },
  {
   "cell_type": "code",
   "execution_count": 44,
   "id": "117b6306",
   "metadata": {},
   "outputs": [
    {
     "data": {
      "text/plain": [
       "WRI                                     784\n",
       "Industry About                          119\n",
       "National Renewable Energy Laboratory      4\n",
       "Name: geolocation_source, dtype: int64"
      ]
     },
     "execution_count": 44,
     "metadata": {},
     "output_type": "execute_result"
    }
   ],
   "source": [
    "#Checking the value counts of geolocation_source column\n",
    "df.geolocation_source.value_counts()"
   ]
  },
  {
   "cell_type": "code",
   "execution_count": 45,
   "id": "46a78d66",
   "metadata": {},
   "outputs": [
    {
     "data": {
      "image/png": "[encoded data removed]",
      "text/plain": [
       "<Figure size 432x288 with 1 Axes>"
      ]
     },
     "metadata": {},
     "output_type": "display_data"
    }
   ],
   "source": [
    "#Ploting pie chart for geolocation_source\n",
    "labels='WRI','Industry About','National Renewable Energy Laboratory'\n",
    "fig, ax = plt.subplots()\n",
    "ax.pie(df['geolocation_source'].value_counts(), labels=labels, autopct='%1.2f%%', shadow=True)\n",
    "plt.show()"
   ]
  },
  {
   "cell_type": "markdown",
   "id": "65ee8437",
   "metadata": {},
   "source": [
    "So maximum power plants source is WRI.And very less plants has National Renewable Energy Laboratory as source."
   ]
  },
  {
   "cell_type": "markdown",
   "id": "bf36796a",
   "metadata": {},
   "source": [
    "## Bivariate Analysis:"
   ]
  },
  {
   "cell_type": "code",
   "execution_count": 46,
   "id": "37998f5f",
   "metadata": {},
   "outputs": [
    {
     "data": {
      "image/png": "[encoded data removed]",
      "text/plain": [
       "<Figure size 576x432 with 1 Axes>"
      ]
     },
     "metadata": {
      "needs_background": "light"
     },
     "output_type": "display_data"
    }
   ],
   "source": [
    "\n",
    "#Comparision between features using scatter plot\n",
    "plt.figure(figsize=[8,6])\n",
    "plt.title('Comparision between generation_gwh_2015 and generation_gwh_2016')\n",
    "sns.scatterplot(df['generation_gwh_2015'],df['generation_gwh_2016'],hue=df['capacity_mw']);"
   ]
  },
  {
   "cell_type": "markdown",
   "id": "2ceb01cc",
   "metadata": {},
   "source": [
    "Here also i can see a linear relationship between generation of 2015 & 2016.And also the density of points is more in between o to 5000 which means less capacity power plants are more in number."
   ]
  },
  {
   "cell_type": "code",
   "execution_count": 47,
   "id": "6999a344",
   "metadata": {},
   "outputs": [
    {
     "data": {
      "image/png": "[encoded data removed]",
      "text/plain": [
       "<Figure size 576x432 with 1 Axes>"
      ]
     },
     "metadata": {
      "needs_background": "light"
     },
     "output_type": "display_data"
    }
   ],
   "source": [
    "#Comparision between features using scatter plot\n",
    "plt.figure(figsize=[8,6])\n",
    "sns.scatterplot(x = \"Power_plant_age\", y = \"capacity_mw\", data = df)\n",
    "plt.show()"
   ]
  },
  {
   "cell_type": "markdown",
   "id": "8d60c81c",
   "metadata": {},
   "source": [
    "From this we can say that older plants has less capacity than the plants started recently."
   ]
  },
  {
   "cell_type": "code",
   "execution_count": 49,
   "id": "2a2aa155",
   "metadata": {},
   "outputs": [
    {
     "data": {
      "image/png": "[encoded data removed]",
      "text/plain": [
       "<Figure size 432x288 with 1 Axes>"
      ]
     },
     "metadata": {
      "needs_background": "light"
     },
     "output_type": "display_data"
    }
   ],
   "source": [
    "#Comparision between features using bar plot\n",
    "sns.barplot(x = \"Fuel_type\", y = \"Power_plant_age\", data = df)\n",
    "plt.show()"
   ]
  },
  {
   "cell_type": "markdown",
   "id": "c6b124a1",
   "metadata": {},
   "source": [
    "The aged plants uses Hydro, Nuclear, Oil as fuels.\n",
    "The plants started recently uses Solar, Coal, Wind, Gas and Biomass as fuels."
   ]
  },
  {
   "cell_type": "code",
   "execution_count": 51,
   "id": "6165efa9",
   "metadata": {},
   "outputs": [
    {
     "data": {
      "image/png": "[encoded data removed]",
      "text/plain": [
       "<Figure size 720x360 with 1 Axes>"
      ]
     },
     "metadata": {
      "needs_background": "light"
     },
     "output_type": "display_data"
    }
   ],
   "source": [
    "#Comparision between features using count plot\n",
    "plt.figure(figsize = (10,5))\n",
    "sns.countplot(x = \"Fuel_type\", hue = \"geolocation_source\", data = df)\n",
    "plt.show()"
   ]
  },
  {
   "cell_type": "markdown",
   "id": "038803ca",
   "metadata": {},
   "source": [
    "Only in case of Solar fuel the source is of 3 types rather than that all other has WRI as geolocation_source."
   ]
  },
  {
   "cell_type": "code",
   "execution_count": 52,
   "id": "254a28d6",
   "metadata": {},
   "outputs": [
    {
     "data": {
      "text/plain": [
       "<seaborn.axisgrid.FacetGrid at 0x1cab61fb8b0>"
      ]
     },
     "execution_count": 52,
     "metadata": {},
     "output_type": "execute_result"
    },
    {
     "data": {
      "image/png": "[encoded data removed]",
      "text/plain": [
       "<Figure size 1080x360 with 3 Axes>"
      ]
     },
     "metadata": {
      "needs_background": "light"
     },
     "output_type": "display_data"
    }
   ],
   "source": [
    "#Comparision between features using cat plot\n",
    "sns.catplot(x='Fuel_type',col='geolocation_source',data=df,kind='count',palette=\"husl\")"
   ]
  },
  {
   "cell_type": "markdown",
   "id": "fc1b541a",
   "metadata": {},
   "source": [
    "I can say that geolocation_source= WRI has all the types of fuels used bur Industry About and National Renewable Energy Laboratory has only solar as fuel."
   ]
  },
  {
   "cell_type": "code",
   "execution_count": 53,
   "id": "238bdfa5",
   "metadata": {},
   "outputs": [
    {
     "data": {
      "image/png": "[encoded data removed]",
      "text/plain": [
       "<Figure size 432x288 with 1 Axes>"
      ]
     },
     "metadata": {
      "needs_background": "light"
     },
     "output_type": "display_data"
    }
   ],
   "source": [
    "#Comparision between features using bar plot\n",
    "sns.barplot(x = 'Fuel_type', y = 'capacity_mw', data = df)\n",
    "plt.show()"
   ]
  },
  {
   "cell_type": "markdown",
   "id": "49cccd65",
   "metadata": {},
   "source": [
    "The plant which uses Nuclear and Coal as fuel has more capacity than other plants uses other fuels.So to increase the power generation it is good to use Nuclear or Coal fuel."
   ]
  },
  {
   "cell_type": "markdown",
   "id": "c304779a",
   "metadata": {},
   "source": [
    "## Data Cleaning:"
   ]
  },
  {
   "cell_type": "markdown",
   "id": "2614facc",
   "metadata": {},
   "source": [
    "## Checking for outliers:"
   ]
  },
  {
   "cell_type": "code",
   "execution_count": 54,
   "id": "1aa81742",
   "metadata": {},
   "outputs": [
    {
     "data": {
      "image/png": "[encoded data removed]",
      "text/plain": [
       "<Figure size 1440x1800 with 9 Axes>"
      ]
     },
     "metadata": {},
     "output_type": "display_data"
    }
   ],
   "source": [
    "# Identifying the outliers using boxplot\n",
    "\n",
    "plt.figure(figsize=(20,25),facecolor='white')\n",
    "plotnumber=1\n",
    "for column in numerical_columns:\n",
    "    if plotnumber<=9:\n",
    "        ax=plt.subplot(3,3,plotnumber)\n",
    "        sns.boxplot(df[column],color='g')\n",
    "        plt.xlabel(column,fontsize=20)\n",
    "    plotnumber+=1\n",
    "plt.tight_layout()"
   ]
  },
  {
   "cell_type": "raw",
   "id": "20ba42a8",
   "metadata": {},
   "source": [
    "There are outliers in\n",
    "\n",
    "longitude\n",
    "generation_gwh_2013\n",
    "generation_gwh_2014\n",
    "generation_gwh_2015\n",
    "generation_gwh_2016\n",
    "generation_gwh_2017\n",
    "Power_plant_age\n",
    "Since capacity_mw is my target no need to remove outliers in that column."
   ]
  },
  {
   "cell_type": "markdown",
   "id": "ced0f8f1",
   "metadata": {},
   "source": [
    "## Removing outliers:"
   ]
  },
  {
   "cell_type": "markdown",
   "id": "23a109ae",
   "metadata": {},
   "source": [
    "## i) Zscore Method:"
   ]
  },
  {
   "cell_type": "code",
   "execution_count": 55,
   "id": "b46fb8b9",
   "metadata": {},
   "outputs": [],
   "source": [
    "#Features having outliers\n",
    "features=df[['longitude','generation_gwh_2013','generation_gwh_2014','generation_gwh_2015','generation_gwh_2016','generation_gwh_2017','Power_plant_age']]"
   ]
  },
  {
   "cell_type": "code",
   "execution_count": 56,
   "id": "347a5acd",
   "metadata": {},
   "outputs": [
    {
     "data": {
      "text/html": [
       "<div>\n",
       "<style scoped>\n",
       "    .dataframe tbody tr th:only-of-type {\n",
       "        vertical-align: middle;\n",
       "    }\n",
       "\n",
       "    .dataframe tbody tr th {\n",
       "        vertical-align: top;\n",
       "    }\n",
       "\n",
       "    .dataframe thead th {\n",
       "        text-align: right;\n",
       "    }\n",
       "</style>\n",
       "<table border=\"1\" class=\"dataframe\">\n",
       "  <thead>\n",
       "    <tr style=\"text-align: right;\">\n",
       "      <th></th>\n",
       "      <th>capacity_mw</th>\n",
       "      <th>latitude</th>\n",
       "      <th>longitude</th>\n",
       "      <th>Fuel_type</th>\n",
       "      <th>other_fuel1</th>\n",
       "      <th>source</th>\n",
       "      <th>geolocation_source</th>\n",
       "      <th>generation_gwh_2013</th>\n",
       "      <th>generation_gwh_2014</th>\n",
       "      <th>generation_gwh_2015</th>\n",
       "      <th>generation_gwh_2016</th>\n",
       "      <th>generation_gwh_2017</th>\n",
       "      <th>generation_gwh_2018</th>\n",
       "      <th>generation_gwh_2019</th>\n",
       "      <th>Power_plant_age</th>\n",
       "    </tr>\n",
       "  </thead>\n",
       "  <tbody>\n",
       "  </tbody>\n",
       "</table>\n",
       "</div>"
      ],
      "text/plain": [
       "Empty DataFrame\n",
       "Columns: [capacity_mw, latitude, longitude, Fuel_type, other_fuel1, source, geolocation_source, generation_gwh_2013, generation_gwh_2014, generation_gwh_2015, generation_gwh_2016, generation_gwh_2017, generation_gwh_2018, generation_gwh_2019, Power_plant_age]\n",
       "Index: []"
      ]
     },
     "execution_count": 56,
     "metadata": {},
     "output_type": "execute_result"
    }
   ],
   "source": [
    "from scipy.stats import zscore\n",
    "z=np.abs(zscore(features))\n",
    "df_new=df[(z<3).all(axis=1)]\n",
    "df_new"
   ]
  },
  {
   "cell_type": "code",
   "execution_count": 57,
   "id": "9a32f3c0",
   "metadata": {},
   "outputs": [
    {
     "data": {
      "text/plain": [
       "6.167400881057269"
      ]
     },
     "execution_count": 57,
     "metadata": {},
     "output_type": "execute_result"
    }
   ],
   "source": [
    "#Checking dataloss\n",
    "Dataloss = (((908-852)/908)*100)\n",
    "Dataloss"
   ]
  },
  {
   "cell_type": "markdown",
   "id": "081dd2af",
   "metadata": {},
   "source": [
    "Using Zscore i have 6.16% data loss.Which is less than 10%.But still let me have a look into IQR method also."
   ]
  },
  {
   "cell_type": "markdown",
   "id": "0a26b668",
   "metadata": {},
   "source": [
    "## ii) IQR method:"
   ]
  },
  {
   "cell_type": "code",
   "execution_count": 58,
   "id": "fb273b1d",
   "metadata": {},
   "outputs": [],
   "source": [
    "# 1st quantile\n",
    "Q1=features.quantile(0.25)\n",
    "\n",
    "# 3rd quantile\n",
    "Q3=features.quantile(0.75)\n",
    "\n",
    "# IQR\n",
    "IQR=Q3 - Q1\n",
    "\n",
    "df_1=df[~((df < (Q1 - 1.5 * IQR)) |(df > (Q3 + 1.5 * IQR))).any(axis=1)]"
   ]
  },
  {
   "cell_type": "markdown",
   "id": "e9601026",
   "metadata": {},
   "source": [
    "I have removed the skewness using IQR method."
   ]
  },
  {
   "cell_type": "code",
   "execution_count": 78,
   "id": "32ba3d65",
   "metadata": {},
   "outputs": [
    {
     "data": {
      "text/plain": [
       "(420, 15)"
      ]
     },
     "execution_count": 78,
     "metadata": {},
     "output_type": "execute_result"
    }
   ],
   "source": [
    "#Checking shape of new dataset\n",
    "df_1.shape"
   ]
  },
  {
   "cell_type": "markdown",
   "id": "4e114360",
   "metadata": {},
   "source": [
    "After removing outliers using IQR method i got 420 rows and 15 column."
   ]
  },
  {
   "cell_type": "code",
   "execution_count": 79,
   "id": "c496b7d4",
   "metadata": {},
   "outputs": [
    {
     "data": {
      "text/plain": [
       "(907, 15)"
      ]
     },
     "execution_count": 79,
     "metadata": {},
     "output_type": "execute_result"
    }
   ],
   "source": [
    "#Checking shape of old dataset\n",
    "df.shape"
   ]
  },
  {
   "cell_type": "markdown",
   "id": "9621d698",
   "metadata": {},
   "source": [
    "In my old dataset i was having 907 rows and 15 columns."
   ]
  },
  {
   "cell_type": "code",
   "execution_count": 59,
   "id": "f1801178",
   "metadata": {},
   "outputs": [
    {
     "data": {
      "text/plain": [
       "53.524229074889874"
      ]
     },
     "execution_count": 59,
     "metadata": {},
     "output_type": "execute_result"
    }
   ],
   "source": [
    "#Checking dataloss\n",
    "Dataloss = (((908-422)/908)*100)\n",
    "Dataloss"
   ]
  },
  {
   "cell_type": "markdown",
   "id": "e59be458",
   "metadata": {},
   "source": [
    "\n",
    "There is a great dataloss in IQR method "
   ]
  },
  {
   "cell_type": "markdown",
   "id": "3eb606d7",
   "metadata": {},
   "source": [
    "## Label Encoding:"
   ]
  },
  {
   "cell_type": "code",
   "execution_count": 66,
   "id": "91edc6e6",
   "metadata": {},
   "outputs": [],
   "source": [
    "\n",
    "cols=['Fuel_type','other_fuel1','geolocation_source','source']"
   ]
  },
  {
   "cell_type": "markdown",
   "id": "af54a88b",
   "metadata": {},
   "source": [
    "I have taken all the column need to be encoded as a list cols."
   ]
  },
  {
   "cell_type": "code",
   "execution_count": 67,
   "id": "12044b3a",
   "metadata": {},
   "outputs": [
    {
     "ename": "ValueError",
     "evalue": "Length of values (0) does not match length of index (4)",
     "output_type": "error",
     "traceback": [
      "\u001b[1;31m---------------------------------------------------------------------------\u001b[0m",
      "\u001b[1;31mValueError\u001b[0m                                Traceback (most recent call last)",
      "\u001b[1;32mC:\\Users\\PRASHA~1\\AppData\\Local\\Temp/ipykernel_25464/730914753.py\u001b[0m in \u001b[0;36m<module>\u001b[1;34m\u001b[0m\n\u001b[0;32m      1\u001b[0m \u001b[1;32mfrom\u001b[0m \u001b[0msklearn\u001b[0m\u001b[1;33m.\u001b[0m\u001b[0mpreprocessing\u001b[0m \u001b[1;32mimport\u001b[0m \u001b[0mLabelEncoder\u001b[0m\u001b[1;33m\u001b[0m\u001b[1;33m\u001b[0m\u001b[0m\n\u001b[0;32m      2\u001b[0m \u001b[0mLE\u001b[0m\u001b[1;33m=\u001b[0m\u001b[0mLabelEncoder\u001b[0m\u001b[1;33m(\u001b[0m\u001b[1;33m)\u001b[0m\u001b[1;33m\u001b[0m\u001b[1;33m\u001b[0m\u001b[0m\n\u001b[1;32m----> 3\u001b[1;33m \u001b[0mdf_new\u001b[0m\u001b[1;33m[\u001b[0m\u001b[0mcols\u001b[0m\u001b[1;33m]\u001b[0m\u001b[1;33m=\u001b[0m \u001b[0mdf_new\u001b[0m\u001b[1;33m[\u001b[0m\u001b[0mcols\u001b[0m\u001b[1;33m]\u001b[0m\u001b[1;33m.\u001b[0m\u001b[0mapply\u001b[0m\u001b[1;33m(\u001b[0m\u001b[0mLE\u001b[0m\u001b[1;33m.\u001b[0m\u001b[0mfit_transform\u001b[0m\u001b[1;33m)\u001b[0m\u001b[1;33m\u001b[0m\u001b[1;33m\u001b[0m\u001b[0m\n\u001b[0m",
      "\u001b[1;32m~\\New folder\\New folder\\lib\\site-packages\\pandas\\core\\frame.py\u001b[0m in \u001b[0;36mapply\u001b[1;34m(self, func, axis, raw, result_type, args, **kwargs)\u001b[0m\n\u001b[0;32m   8738\u001b[0m             \u001b[0mkwargs\u001b[0m\u001b[1;33m=\u001b[0m\u001b[0mkwargs\u001b[0m\u001b[1;33m,\u001b[0m\u001b[1;33m\u001b[0m\u001b[1;33m\u001b[0m\u001b[0m\n\u001b[0;32m   8739\u001b[0m         )\n\u001b[1;32m-> 8740\u001b[1;33m         \u001b[1;32mreturn\u001b[0m \u001b[0mop\u001b[0m\u001b[1;33m.\u001b[0m\u001b[0mapply\u001b[0m\u001b[1;33m(\u001b[0m\u001b[1;33m)\u001b[0m\u001b[1;33m\u001b[0m\u001b[1;33m\u001b[0m\u001b[0m\n\u001b[0m\u001b[0;32m   8741\u001b[0m \u001b[1;33m\u001b[0m\u001b[0m\n\u001b[0;32m   8742\u001b[0m     def applymap(\n",
      "\u001b[1;32m~\\New folder\\New folder\\lib\\site-packages\\pandas\\core\\apply.py\u001b[0m in \u001b[0;36mapply\u001b[1;34m(self)\u001b[0m\n\u001b[0;32m    680\u001b[0m         \u001b[1;31m# one axis empty\u001b[0m\u001b[1;33m\u001b[0m\u001b[1;33m\u001b[0m\u001b[0m\n\u001b[0;32m    681\u001b[0m         \u001b[1;32melif\u001b[0m \u001b[1;32mnot\u001b[0m \u001b[0mall\u001b[0m\u001b[1;33m(\u001b[0m\u001b[0mself\u001b[0m\u001b[1;33m.\u001b[0m\u001b[0mobj\u001b[0m\u001b[1;33m.\u001b[0m\u001b[0mshape\u001b[0m\u001b[1;33m)\u001b[0m\u001b[1;33m:\u001b[0m\u001b[1;33m\u001b[0m\u001b[1;33m\u001b[0m\u001b[0m\n\u001b[1;32m--> 682\u001b[1;33m             \u001b[1;32mreturn\u001b[0m \u001b[0mself\u001b[0m\u001b[1;33m.\u001b[0m\u001b[0mapply_empty_result\u001b[0m\u001b[1;33m(\u001b[0m\u001b[1;33m)\u001b[0m\u001b[1;33m\u001b[0m\u001b[1;33m\u001b[0m\u001b[0m\n\u001b[0m\u001b[0;32m    683\u001b[0m \u001b[1;33m\u001b[0m\u001b[0m\n\u001b[0;32m    684\u001b[0m         \u001b[1;31m# raw\u001b[0m\u001b[1;33m\u001b[0m\u001b[1;33m\u001b[0m\u001b[0m\n",
      "\u001b[1;32m~\\New folder\\New folder\\lib\\site-packages\\pandas\\core\\apply.py\u001b[0m in \u001b[0;36mapply_empty_result\u001b[1;34m(self)\u001b[0m\n\u001b[0;32m    750\u001b[0m                 \u001b[0mr\u001b[0m \u001b[1;33m=\u001b[0m \u001b[0mnp\u001b[0m\u001b[1;33m.\u001b[0m\u001b[0mnan\u001b[0m\u001b[1;33m\u001b[0m\u001b[1;33m\u001b[0m\u001b[0m\n\u001b[0;32m    751\u001b[0m \u001b[1;33m\u001b[0m\u001b[0m\n\u001b[1;32m--> 752\u001b[1;33m             \u001b[1;32mreturn\u001b[0m \u001b[0mself\u001b[0m\u001b[1;33m.\u001b[0m\u001b[0mobj\u001b[0m\u001b[1;33m.\u001b[0m\u001b[0m_constructor_sliced\u001b[0m\u001b[1;33m(\u001b[0m\u001b[0mr\u001b[0m\u001b[1;33m,\u001b[0m \u001b[0mindex\u001b[0m\u001b[1;33m=\u001b[0m\u001b[0mself\u001b[0m\u001b[1;33m.\u001b[0m\u001b[0magg_axis\u001b[0m\u001b[1;33m)\u001b[0m\u001b[1;33m\u001b[0m\u001b[1;33m\u001b[0m\u001b[0m\n\u001b[0m\u001b[0;32m    753\u001b[0m         \u001b[1;32melse\u001b[0m\u001b[1;33m:\u001b[0m\u001b[1;33m\u001b[0m\u001b[1;33m\u001b[0m\u001b[0m\n\u001b[0;32m    754\u001b[0m             \u001b[1;32mreturn\u001b[0m \u001b[0mself\u001b[0m\u001b[1;33m.\u001b[0m\u001b[0mobj\u001b[0m\u001b[1;33m.\u001b[0m\u001b[0mcopy\u001b[0m\u001b[1;33m(\u001b[0m\u001b[1;33m)\u001b[0m\u001b[1;33m\u001b[0m\u001b[1;33m\u001b[0m\u001b[0m\n",
      "\u001b[1;32m~\\New folder\\New folder\\lib\\site-packages\\pandas\\core\\series.py\u001b[0m in \u001b[0;36m__init__\u001b[1;34m(self, data, index, dtype, name, copy, fastpath)\u001b[0m\n\u001b[0;32m    428\u001b[0m                 \u001b[0mindex\u001b[0m \u001b[1;33m=\u001b[0m \u001b[0mibase\u001b[0m\u001b[1;33m.\u001b[0m\u001b[0mdefault_index\u001b[0m\u001b[1;33m(\u001b[0m\u001b[0mlen\u001b[0m\u001b[1;33m(\u001b[0m\u001b[0mdata\u001b[0m\u001b[1;33m)\u001b[0m\u001b[1;33m)\u001b[0m\u001b[1;33m\u001b[0m\u001b[1;33m\u001b[0m\u001b[0m\n\u001b[0;32m    429\u001b[0m             \u001b[1;32melif\u001b[0m \u001b[0mis_list_like\u001b[0m\u001b[1;33m(\u001b[0m\u001b[0mdata\u001b[0m\u001b[1;33m)\u001b[0m\u001b[1;33m:\u001b[0m\u001b[1;33m\u001b[0m\u001b[1;33m\u001b[0m\u001b[0m\n\u001b[1;32m--> 430\u001b[1;33m                 \u001b[0mcom\u001b[0m\u001b[1;33m.\u001b[0m\u001b[0mrequire_length_match\u001b[0m\u001b[1;33m(\u001b[0m\u001b[0mdata\u001b[0m\u001b[1;33m,\u001b[0m \u001b[0mindex\u001b[0m\u001b[1;33m)\u001b[0m\u001b[1;33m\u001b[0m\u001b[1;33m\u001b[0m\u001b[0m\n\u001b[0m\u001b[0;32m    431\u001b[0m \u001b[1;33m\u001b[0m\u001b[0m\n\u001b[0;32m    432\u001b[0m             \u001b[1;31m# create/copy the manager\u001b[0m\u001b[1;33m\u001b[0m\u001b[1;33m\u001b[0m\u001b[0m\n",
      "\u001b[1;32m~\\New folder\\New folder\\lib\\site-packages\\pandas\\core\\common.py\u001b[0m in \u001b[0;36mrequire_length_match\u001b[1;34m(data, index)\u001b[0m\n\u001b[0;32m    529\u001b[0m     \"\"\"\n\u001b[0;32m    530\u001b[0m     \u001b[1;32mif\u001b[0m \u001b[0mlen\u001b[0m\u001b[1;33m(\u001b[0m\u001b[0mdata\u001b[0m\u001b[1;33m)\u001b[0m \u001b[1;33m!=\u001b[0m \u001b[0mlen\u001b[0m\u001b[1;33m(\u001b[0m\u001b[0mindex\u001b[0m\u001b[1;33m)\u001b[0m\u001b[1;33m:\u001b[0m\u001b[1;33m\u001b[0m\u001b[1;33m\u001b[0m\u001b[0m\n\u001b[1;32m--> 531\u001b[1;33m         raise ValueError(\n\u001b[0m\u001b[0;32m    532\u001b[0m             \u001b[1;34m\"Length of values \"\u001b[0m\u001b[1;33m\u001b[0m\u001b[1;33m\u001b[0m\u001b[0m\n\u001b[0;32m    533\u001b[0m             \u001b[1;34mf\"({len(data)}) \"\u001b[0m\u001b[1;33m\u001b[0m\u001b[1;33m\u001b[0m\u001b[0m\n",
      "\u001b[1;31mValueError\u001b[0m: Length of values (0) does not match length of index (4)"
     ]
    }
   ],
   "source": [
    "from sklearn.preprocessing import LabelEncoder\n",
    "LE=LabelEncoder()\n",
    "df_new[cols]= df_new[cols].apply(LE.fit_transform)"
   ]
  },
  {
   "cell_type": "code",
   "execution_count": null,
   "id": "8f97f6a6",
   "metadata": {},
   "outputs": [],
   "source": []
  }
 ],
 "metadata": {
  "kernelspec": {
   "display_name": "Python 3 (ipykernel)",
   "language": "python",
   "name": "python3"
  },
  "language_info": {
   "codemirror_mode": {
    "name": "ipython",
    "version": 3
   },
   "file_extension": ".py",
   "mimetype": "text/x-python",
   "name": "python",
   "nbconvert_exporter": "python",
   "pygments_lexer": "ipython3",
   "version": "3.9.7"
  }
 },
 "nbformat": 4,
 "nbformat_minor": 5
}
